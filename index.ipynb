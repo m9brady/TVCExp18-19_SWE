{
 "cells": [
  {
   "cell_type": "markdown",
   "id": "e973b9fb",
   "metadata": {},
   "source": [
    "# Table of Contents"
   ]
  },
  {
   "cell_type": "markdown",
   "id": "c11a366d",
   "metadata": {
    "vscode": {
     "languageId": "plaintext"
    }
   },
   "source": [
    "## Part 1: [Subset model data to study region](./Notebooks/1-Concatenate_SVS2_TVCExp18-19.ipynb)"
   ]
  },
  {
   "cell_type": "markdown",
   "id": "ed4c6c9e",
   "metadata": {
    "vscode": {
     "languageId": "plaintext"
    }
   },
   "source": [
    "## Part 2: [Reduce model data to microwave-equivalent snowpacks](./Notebooks/2-SVS2_2_MES.ipynb)"
   ]
  },
  {
   "cell_type": "markdown",
   "id": "a4f4807e",
   "metadata": {},
   "source": [
    "## Part 3: [Use microwave-equivalent snowpacks to calculate priors for MCMC model](./Notebooks/3-Calculate_Priors.ipynb)"
   ]
  },
  {
   "cell_type": "markdown",
   "id": "3adc596b",
   "metadata": {
    "vscode": {
     "languageId": "plaintext"
    }
   },
   "source": [
    "<div class=\"alert alert-block alert-warning\">\n",
    "\n",
    "<b>Warning:</b> Hardware-intensive and long-running process\n",
    "\n",
    "## Part 4: [Train MCMC model](./Notebooks/4-Run_MCMC.ipynb)\n",
    "\n",
    "</div>"
   ]
  },
  {
   "cell_type": "markdown",
   "id": "1ddfc9df",
   "metadata": {},
   "source": [
    "## Part 5: [Plotting of MCMC results](./Notebooks/5-Plot_Posteriors.ipynb)"
   ]
  }
 ],
 "metadata": {
  "language_info": {
   "name": "python"
  }
 },
 "nbformat": 4,
 "nbformat_minor": 5
}
