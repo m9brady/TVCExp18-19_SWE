{
 "cells": [
  {
   "cell_type": "markdown",
   "id": "8caeb365-b02d-4e48-8137-4f2907392df0",
   "metadata": {},
   "source": [
    "# Part 5: Takes the MCMC outputs and generates the figures and results published in [Montpetit et al. (Preprint)](TBD)"
   ]
  },
  {
   "cell_type": "markdown",
   "id": "97906bfd-751b-4d26-ab65-ec0dc3b88c7d",
   "metadata": {},
   "source": [
    "Benoit Montpetit, CPS/CRD/ECCC, 2025  \n",
    "Julien Meloche, CPS/CRD/ECCC, 2025  \n",
    "Mike Brady, CPS/CRD/ECCC, 2025  \n",
    "Nicolas Leroux, RPN-E/MRD/ECCC, 2025  "
   ]
  },
  {
   "cell_type": "markdown",
   "id": "847fc8c6-b99d-444f-b9af-9bbadbbefe91",
   "metadata": {},
   "source": [
    "This notebook takes the posterior distributions obtained in Part 4, and generates the tables, results and figures published in [Montpetit et al. (Preprint)](TBD)"
   ]
  },
  {
   "cell_type": "code",
   "execution_count": null,
   "id": "2d0fed61-7e11-41d7-9623-887212529bf3",
   "metadata": {},
   "outputs": [],
   "source": [
    "import arviz as az\n",
    "import pandas as pd\n",
    "import numpy as np\n",
    "from pathlib import Path\n",
    "import os\n",
    "import xarray as xr\n",
    "import datetime\n",
    "from matplotlib import pyplot as plt\n",
    "import matplotlib\n",
    "from matplotlib.ticker import FormatStrFormatter\n",
    "from scipy.stats import norm, linregress\n",
    "from sklearn.metrics import r2_score\n",
    "\n",
    "from constants import TVC02"
   ]
  },
  {
   "cell_type": "code",
   "execution_count": null,
   "id": "cd4f7af0-cffe-4fff-8378-9a302be380ec",
   "metadata": {},
   "outputs": [],
   "source": [
    "%config InlineBackend.figure_format = 'retina'\n",
    "az.style.use(\"arviz-darkgrid\")"
   ]
  },
  {
   "cell_type": "code",
   "execution_count": null,
   "id": "b48baf44-9514-415f-95a7-b4861c631fce",
   "metadata": {},
   "outputs": [],
   "source": [
    "font = {'family' : 'sans-serif',\n",
    "        'weight' : 'bold',\n",
    "        'size'   : 22}\n",
    "\n",
    "matplotlib.rc('font', **font)\n",
    "plt.rcParams[\"axes.labelsize\"] = 22\n",
    "plt.rcParams[\"axes.labelweight\"] = 'bold'\n",
    "plt.rcParams['xtick.labelsize']=16\n",
    "plt.rcParams['ytick.labelsize']=16"
   ]
  },
  {
   "cell_type": "code",
   "execution_count": null,
   "id": "53ee9575",
   "metadata": {},
   "outputs": [],
   "source": [
    "DATA_DIR = Path('../Data')\n",
    "MCMC_OUTPUTS = DATA_DIR / 'MCMC_Outputs'\n",
    "MCMC_OUTPUTS.mkdir(exist_ok=True)\n",
    "FIGURE_DIR = Path('../Figures')"
   ]
  },
  {
   "cell_type": "markdown",
   "id": "d1a0afcb-8706-4319-9cd6-99f44cf1e958",
   "metadata": {},
   "source": [
    "Read the statistically representative snowpit profiles surveyed during the TVC Experiment 2018/19 [(Montpetit et al., 2024)](https://tc.copernicus.org/articles/18/3857/2024/)"
   ]
  },
  {
   "cell_type": "code",
   "execution_count": null,
   "id": "1edff75d-ed87-45d2-85e9-6d571eeceb72",
   "metadata": {},
   "outputs": [],
   "source": [
    "df_pits = pd.read_json(DATA_DIR / 'df_stat_pits.json')"
   ]
  },
  {
   "cell_type": "markdown",
   "id": "dbf0039d-c344-4c44-860c-87c551111170",
   "metadata": {},
   "source": [
    "Read the surveyed snowpit statistics for each grain type"
   ]
  },
  {
   "cell_type": "code",
   "execution_count": null,
   "id": "bba71962-bed7-4ab8-bbd8-68d887d51c20",
   "metadata": {},
   "outputs": [],
   "source": [
    "snowpit_stats = xr.open_dataset(DATA_DIR / 'Snowpit_statistics.nc')"
   ]
  },
  {
   "cell_type": "markdown",
   "id": "b195cade-68c7-4810-b728-3106db29e45b",
   "metadata": {},
   "source": [
    "# The next cells read the MCMC NetCDF files for given tests and concatenates all the individual sites into one dataframe"
   ]
  },
  {
   "cell_type": "markdown",
   "id": "78b6985b-11fd-414f-98f1-5c7a29f68326",
   "metadata": {},
   "source": [
    "## Test using all 120 ensemble members of the default version of SVS-2"
   ]
  },
  {
   "cell_type": "code",
   "execution_count": null,
   "id": "6bf854f7-c1bf-4197-a89d-dffb501b418c",
   "metadata": {},
   "outputs": [],
   "source": [
    "if os.path.isfile(MCMC_OUTPUTS / 'SWE_default.csv'):\n",
    "\n",
    "    df_swe_default=pd.read_csv(MCMC_OUTPUTS / 'SWE_default.csv')\n",
    "\n",
    "else:\n",
    "\n",
    "    files = sorted(DATA_DIR.glob('*Default.nc'))\n",
    "    \n",
    "    df_swe_default = pd.DataFrame({'Site':[]})\n",
    "    \n",
    "    for file in files:\n",
    "    \n",
    "        site=file.name.split('_')[2]\n",
    "    \n",
    "        if site not in df_swe_default.Site.values:\n",
    "        \n",
    "            idata=az.from_netcdf(file)\n",
    "            \n",
    "            idata.posterior = idata.posterior.assign(SWE=(idata.posterior['Density_R']*idata.posterior['Thickness_R']+\n",
    "                                                          idata.posterior['Density_H']*idata.posterior['Thickness_H']))\n",
    "            df_swe_default = pd.concat([df_swe_default,\n",
    "                                        pd.DataFrame({'Site':[site],\n",
    "                                                      'Measure_median':[snowpit_stats.sel(site=site, property='swe', grain_type='R')['median'].values],\n",
    "                                                      'Measure_std':[snowpit_stats.sel(site=site, property='swe', grain_type='R')['std'].values],\n",
    "                                                      'Measure_quart1':[snowpit_stats.sel(site=site, property='swe', grain_type='R')['quart1'].values],\n",
    "                                                      'Measure_quart3':[snowpit_stats.sel(site=site, property='swe', grain_type='R')['quart3'].values],\n",
    "                                                      'Retrieved_median':[idata.posterior['SWE'].median().values],\n",
    "                                                      'Retrieved_std':[idata.posterior['SWE'].std().values],\n",
    "                                                      'Retrieved_quart1':[idata.posterior['SWE'].quantile(0.25).values],\n",
    "                                                      'Retrieved_quart3':[idata.posterior['SWE'].quantile(0.75).values],\n",
    "                                                      'rhat':[az.rhat(idata)['SWE'].values],\n",
    "                                                      'ess':[az.ess(idata)['SWE'].values]})],\n",
    "                                       ignore_index=True)\n",
    "\n",
    "    df_swe_default['bias'] = df_swe_default.Measure_median-df_swe_default.Retrieved_median\n",
    "    df_swe_default.to_csv(MCMC_OUTPUTS / 'SWE_default.csv')\n",
    "df_swe_default.sort_values('Site')"
   ]
  },
  {
   "cell_type": "markdown",
   "id": "8f17c4ea-0c6a-4187-bc75-6ebf09fa5692",
   "metadata": {},
   "source": [
    "## Test using the top 30 ensemble members of the default version of SVS-2"
   ]
  },
  {
   "cell_type": "code",
   "execution_count": null,
   "id": "f90051b1-dc8a-442c-8828-58182cccf29b",
   "metadata": {},
   "outputs": [],
   "source": [
    "if os.path.isfile(MCMC_OUTPUTS / 'SWE_defaultTop30.csv'):\n",
    "\n",
    "    df_swe_defaulttop30=pd.read_csv(MCMC_OUTPUTS / 'SWE_defaultTop30.csv')\n",
    "\n",
    "else:\n",
    "\n",
    "    files = sorted(DATA_DIR.glob('*DefaultTop30.nc'))\n",
    "    \n",
    "    df_swe_defaulttop30 = pd.DataFrame({'Site':[]})\n",
    "    \n",
    "    for file in files:\n",
    "    \n",
    "        site=file.name.split('_')[2]\n",
    "    \n",
    "        if site not in df_swe_defaulttop30.Site.values:\n",
    "        \n",
    "            idata=az.from_netcdf(file)\n",
    "            \n",
    "            idata.posterior = idata.posterior.assign(SWE=(idata.posterior['Density_R']*idata.posterior['Thickness_R']+\n",
    "                                                          idata.posterior['Density_H']*idata.posterior['Thickness_H']))\n",
    "            df_swe_defaulttop30 = pd.concat([df_swe_defaulttop30,\n",
    "                                        pd.DataFrame({'Site':[site],\n",
    "                                                      'Measure_median':[snowpit_stats.sel(site=site, property='swe', grain_type='R')['median'].values],\n",
    "                                                      'Measure_std':[snowpit_stats.sel(site=site, property='swe', grain_type='R')['std'].values],\n",
    "                                                      'Measure_quart1':[snowpit_stats.sel(site=site, property='swe', grain_type='R')['quart1'].values],\n",
    "                                                      'Measure_quart3':[snowpit_stats.sel(site=site, property='swe', grain_type='R')['quart3'].values],\n",
    "                                                      'Retrieved_median':[idata.posterior['SWE'].median().values],\n",
    "                                                      'Retrieved_std':[idata.posterior['SWE'].std().values],\n",
    "                                                      'Retrieved_quart1':[idata.posterior['SWE'].quantile(0.25).values],\n",
    "                                                      'Retrieved_quart3':[idata.posterior['SWE'].quantile(0.75).values],\n",
    "                                                      'rhat':[az.rhat(idata)['SWE'].values],\n",
    "                                                      'ess':[az.ess(idata)['SWE'].values]})],\n",
    "                                       ignore_index=True)\n",
    "\n",
    "    df_swe_defaulttop30['bias'] = df_swe_defaulttop30.Measure_median-df_swe_defaulttop30.Retrieved_median\n",
    "    df_swe_defaulttop30.to_csv(MCMC_OUTPUTS / 'SWE_defaultTop30.csv')\n",
    "df_swe_defaulttop30.sort_values('Site')"
   ]
  },
  {
   "cell_type": "markdown",
   "id": "cb12a284-cbd4-42d5-9dc1-e8a7d52e17ff",
   "metadata": {},
   "source": [
    "## Test using all 120 ensemble members of the Arctic version of SVS-2"
   ]
  },
  {
   "cell_type": "code",
   "execution_count": null,
   "id": "a20c2c15-554c-4125-afd2-93ad0acf2185",
   "metadata": {
    "scrolled": true
   },
   "outputs": [],
   "source": [
    "if os.path.isfile(MCMC_OUTPUTS / 'SWE_arctic.csv'):\n",
    "\n",
    "    df_swe_arctic=pd.read_csv(MCMC_OUTPUTS / 'SWE_arctic.csv')\n",
    "\n",
    "else:\n",
    "    \n",
    "    files = sorted(DATA_DIR.glob('*1obs_Arctic.nc'))\n",
    "    \n",
    "    df_swe_arctic = pd.DataFrame({'Site':[]})\n",
    "    \n",
    "    for file in files:\n",
    "    \n",
    "        site=file.name.split('_')[2]\n",
    "    \n",
    "        if site not in df_swe_arctic.Site.values:\n",
    "        \n",
    "            idata=az.from_netcdf(file)\n",
    "            \n",
    "            idata.posterior = idata.posterior.assign(SWE=(idata.posterior['Density_R']*idata.posterior['Thickness_R']+\n",
    "                                                          idata.posterior['Density_H']*idata.posterior['Thickness_H']))\n",
    "            df_swe_arctic = pd.concat([df_swe_arctic,\n",
    "                                        pd.DataFrame({'Site':[site],\n",
    "                                                      'Measure_median':[snowpit_stats.sel(site=site, property='swe', grain_type='R')['median'].values],\n",
    "                                                      'Measure_std':[snowpit_stats.sel(site=site, property='swe', grain_type='R')['std'].values],\n",
    "                                                      'Measure_quart1':[snowpit_stats.sel(site=site, property='swe', grain_type='R')['quart1'].values],\n",
    "                                                      'Measure_quart3':[snowpit_stats.sel(site=site, property='swe', grain_type='R')['quart3'].values],\n",
    "                                                      'Retrieved_median':[idata.posterior['SWE'].median().values],\n",
    "                                                      'Retrieved_std':[idata.posterior['SWE'].std().values],\n",
    "                                                      'Retrieved_quart1':[idata.posterior['SWE'].quantile(0.25).values],\n",
    "                                                      'Retrieved_quart3':[idata.posterior['SWE'].quantile(0.75).values],\n",
    "                                                      'rhat':[az.rhat(idata)['SWE'].values],\n",
    "                                                      'ess':[az.ess(idata)['SWE'].values]})],\n",
    "                                       ignore_index=True)\n",
    "    \n",
    "    df_swe_arctic['bias'] = df_swe_arctic.Measure_median-df_swe_arctic.Retrieved_median\n",
    "    df_swe_arctic.to_csv(MCMC_OUTPUTS / 'SWE_arctic.csv')\n",
    "df_swe_arctic.sort_values('Site')"
   ]
  },
  {
   "cell_type": "markdown",
   "id": "517f807a-aee4-464c-9e20-ddeab673d027",
   "metadata": {},
   "source": [
    "## Test using the top 30 ensemble members of the default version of SVS-2"
   ]
  },
  {
   "cell_type": "code",
   "execution_count": null,
   "id": "06cc16e5-3f92-43c7-9101-9d84540bdd2b",
   "metadata": {},
   "outputs": [],
   "source": [
    "if os.path.isfile(MCMC_OUTPUTS / 'SWE_ArcticTop30.csv'):\n",
    "\n",
    "    df_swe_arctictop30 = pd.read_csv(MCMC_OUTPUTS / 'SWE_ArcticTop30.csv')\n",
    "\n",
    "else:\n",
    "    \n",
    "    files = sorted(DATA_DIR.glob('*ArcticTop30.nc'))\n",
    "    \n",
    "    df_swe_arctictop30 = pd.DataFrame({'Site':[]})\n",
    "    \n",
    "    for file in files:\n",
    "    \n",
    "        site=file.name.split('_')[2]\n",
    "    \n",
    "        if site not in df_swe_arctictop30.Site.values:\n",
    "        \n",
    "            idata=az.from_netcdf(file)\n",
    "            idata = idata.sel(draw=slice(4999))\n",
    "            \n",
    "            idata.posterior = idata.posterior.assign(SWE=(idata.posterior['Density_R']*idata.posterior['Thickness_R']+\n",
    "                                                          idata.posterior['Density_H']*idata.posterior['Thickness_H']))\n",
    "            df_swe_arctictop30 = pd.concat([df_swe_arctictop30,\n",
    "                                        pd.DataFrame({'Site':[site],\n",
    "                                                      'Measure_median':[snowpit_stats.sel(site=site, property='swe', grain_type='R')['median'].values],\n",
    "                                                      'Measure_std':[snowpit_stats.sel(site=site, property='swe', grain_type='R')['std'].values],\n",
    "                                                      'Measure_quart1':[snowpit_stats.sel(site=site, property='swe', grain_type='R')['quart1'].values],\n",
    "                                                      'Measure_quart3':[snowpit_stats.sel(site=site, property='swe', grain_type='R')['quart3'].values],\n",
    "                                                      'Retrieved_median':[idata.posterior['SWE'].median().values],\n",
    "                                                      'Retrieved_std':[idata.posterior['SWE'].std().values],\n",
    "                                                      'Retrieved_quart1':[idata.posterior['SWE'].quantile(0.25).values],\n",
    "                                                      'Retrieved_quart3':[idata.posterior['SWE'].quantile(0.75).values],\n",
    "                                                      'rhat':[az.rhat(idata)['SWE'].values],\n",
    "                                                      'ess':[az.ess(idata)['SWE'].values]})],\n",
    "                                       ignore_index=True)\n",
    "    \n",
    "    df_swe_arctictop30['bias'] = df_swe_arctictop30.Measure_median-df_swe_arctictop30.Retrieved_median\n",
    "    df_swe_arctictop30.to_csv(MCMC_OUTPUTS / 'SWE_ArcticTop30.csv')\n",
    "df_swe_arctictop30.sort_values('Site')"
   ]
  },
  {
   "cell_type": "markdown",
   "id": "8460551e-9269-416f-a98e-4a869cc1f282",
   "metadata": {},
   "source": [
    "## Test using all 120 ensemble members of the default Arctic version of SVS-2 with inter-layer constraints"
   ]
  },
  {
   "cell_type": "code",
   "execution_count": null,
   "id": "1e41faa5-702d-4370-af54-874589c22fea",
   "metadata": {},
   "outputs": [],
   "source": [
    "if os.path.isfile(MCMC_OUTPUTS / 'SWE_Arctic_Constraints.csv'):\n",
    "\n",
    "    df_swe_arcticcond=pd.read_csv(MCMC_OUTPUTS / 'SWE_Arctic_Constraints.csv')\n",
    "\n",
    "else:\n",
    "\n",
    "    files = sorted(DATA_DIR.glob('*Arctic_WSRMSE_conditions.nc'))\n",
    "    \n",
    "    df_swe_arcticcond = pd.DataFrame({'Site':[]})\n",
    "    \n",
    "    for file in files:\n",
    "    \n",
    "        site=file.name.split('_')[2]\n",
    "    \n",
    "        if site not in df_swe_arcticcond.Site.values:\n",
    "        \n",
    "            idata=az.from_netcdf(file)\n",
    "            idata = idata.sel(draw=slice(5000))\n",
    "            \n",
    "            idata.posterior = idata.posterior.assign(SWE=(idata.posterior['Density_R']*idata.posterior['Thickness_R']+\n",
    "                                                          idata.posterior['Density_H']*idata.posterior['Thickness_H']))\n",
    "            df_swe_arcticcond = pd.concat([df_swe_arcticcond,\n",
    "                                        pd.DataFrame({'Site':[site],\n",
    "                                                      'Measure_median':[snowpit_stats.sel(site=site, property='swe', grain_type='R')['median'].values],\n",
    "                                                      'Measure_std':[snowpit_stats.sel(site=site, property='swe', grain_type='R')['std'].values],\n",
    "                                                      'Measure_quart1':[snowpit_stats.sel(site=site, property='swe', grain_type='R')['quart1'].values],\n",
    "                                                      'Measure_quart3':[snowpit_stats.sel(site=site, property='swe', grain_type='R')['quart3'].values],\n",
    "                                                      'Retrieved_median':[idata.posterior['SWE'].median().values],\n",
    "                                                      'Retrieved_std':[idata.posterior['SWE'].std().values],\n",
    "                                                      'Retrieved_quart1':[idata.posterior['SWE'].quantile(0.25).values],\n",
    "                                                      'Retrieved_quart3':[idata.posterior['SWE'].quantile(0.75).values],\n",
    "                                                      'rhat':[az.rhat(idata)['SWE'].values],\n",
    "                                                      'ess':[az.ess(idata)['SWE'].values]})],\n",
    "                                       ignore_index=True)\n",
    "    \n",
    "    df_swe_arcticcond['bias'] = df_swe_arcticcond.Measure_median-df_swe_arcticcond.Retrieved_median\n",
    "    df_swe_arcticcond.to_csv(MCMC_OUTPUTS / 'SWE_Arctic_Constraints.csv')\n",
    "df_swe_arcticcond.sort_values('Site')"
   ]
  },
  {
   "cell_type": "code",
   "execution_count": null,
   "id": "b8bd60f8-15d4-4c30-8ef2-d637e4bf2e6f",
   "metadata": {},
   "outputs": [],
   "source": [
    "if os.path.isfile(MCMC_OUTPUTS / 'SWE_Arctic_conditions_4obs.csv'):\n",
    "\n",
    "    df_swe_arctic6=pd.read_csv(MCMC_OUTPUTS / 'SWE_Arctic_conditions_4obs.csv')\n",
    "\n",
    "else:\n",
    "\n",
    "    #MB: why does this look in MCMC_Outputs but all the prior blocks look in Data?\n",
    "    files = sorted(MCMC_OUTPUTS.glob('*4obs_Arctic_WSRMSE_conditions.nc'))\n",
    "    \n",
    "    df_swe_arctic6 = pd.DataFrame({'Site':[]})\n",
    "    \n",
    "    for file in files:\n",
    "    \n",
    "        site=file.name.split('_')[2]\n",
    "    \n",
    "        if site not in df_swe_arctic6.Site.values:\n",
    "        \n",
    "            idata=az.from_netcdf(file)\n",
    "            idata = idata.sel(draw=slice(5000))\n",
    "            \n",
    "            idata.posterior = idata.posterior.assign(SWE=(idata.posterior['Density_R']*idata.posterior['Thickness_R']+\n",
    "                                                          idata.posterior['Density_H']*idata.posterior['Thickness_H']))\n",
    "            df_swe_arctic6 = pd.concat([df_swe_arctic6,\n",
    "                                        pd.DataFrame({'Site':[site],\n",
    "                                                      'Measure_median':[snowpit_stats.sel(site=site, property='swe', grain_type='R')['median'].values],\n",
    "                                                      'Measure_std':[snowpit_stats.sel(site=site, property='swe', grain_type='R')['std'].values],\n",
    "                                                      'Measure_quart1':[snowpit_stats.sel(site=site, property='swe', grain_type='R')['quart1'].values],\n",
    "                                                      'Measure_quart3':[snowpit_stats.sel(site=site, property='swe', grain_type='R')['quart3'].values],\n",
    "                                                      'Retrieved_median':[idata.posterior['SWE'].median().values],\n",
    "                                                      'Retrieved_std':[idata.posterior['SWE'].std().values],\n",
    "                                                      'Retrieved_quart1':[idata.posterior['SWE'].quantile(0.25).values],\n",
    "                                                      'Retrieved_quart3':[idata.posterior['SWE'].quantile(0.75).values],\n",
    "                                                      'rhat':[az.rhat(idata)['SWE'].values],\n",
    "                                                      'ess':[az.ess(idata)['SWE'].values]})],\n",
    "                                       ignore_index=True)\n",
    "\n",
    "df_swe_arctic6['bias'] = df_swe_arctic6.Measure_median-df_swe_arctic6.Retrieved_median\n",
    "df_swe_arctic6.to_csv(MCMC_OUTPUTS / 'SWE_Arctic_conditions_4obs.csv')\n",
    "df_swe_arctic6.sort_values('Site')"
   ]
  },
  {
   "cell_type": "markdown",
   "id": "4909a7a7-8fa5-49af-843a-918392beeac3",
   "metadata": {},
   "source": [
    "## Test using all 120 ensemble members of the Arctic version of SVS-2 with inter-layer constraints and 4 observations"
   ]
  },
  {
   "cell_type": "markdown",
   "id": "dbc75b6f-78a8-46d1-a2f2-63e708cc28e4",
   "metadata": {},
   "source": [
    "## Test with higher uncertainty on prior SWE, achieved by tripling the uncertainty on the thickness prior of both snow layers"
   ]
  },
  {
   "cell_type": "code",
   "execution_count": null,
   "id": "a6ea08cc-43a1-480c-8b88-5974649283ee",
   "metadata": {},
   "outputs": [],
   "source": [
    "#MB: putting '+' in filenames is a recipe for pain and/or suffering\n",
    "if os.path.isfile(MCMC_OUTPUTS / 'SWE_Arctic_Constraints+SWEuncertainty+4obs.csv'):\n",
    "\n",
    "    df_swe_arctic_swe=pd.read_csv(MCMC_OUTPUTS / 'SWE_Arctic_Constraints+SWEuncertainty+4obs.csv')\n",
    "\n",
    "else:\n",
    "\n",
    "    files = sorted(DATA_DIR.glob('*4obs_ArcticTop30_SSA-Density_FinalFinalTest.nc'))\n",
    "    \n",
    "    df_swe_arctic_swe = pd.DataFrame({'Site':[]})\n",
    "    \n",
    "    for file in files:\n",
    "    \n",
    "        site=file.name.split('_')[2]\n",
    "    \n",
    "        if site not in df_swe_arctic_swe.Site.values:\n",
    "        \n",
    "            idata=az.from_netcdf(file)\n",
    "            idata = idata.sel(draw=slice(5000))\n",
    "            \n",
    "            idata.posterior = idata.posterior.assign(SWE=(idata.posterior['Density_R']*idata.posterior['Thickness_R']+\n",
    "                                                          idata.posterior['Density_H']*idata.posterior['Thickness_H']))\n",
    "            df_swe_arctic_swe = pd.concat([df_swe_arctic_swe,\n",
    "                                        pd.DataFrame({'Site':[site],\n",
    "                                                      'Measure_median':[snowpit_stats.sel(site=site, property='swe', grain_type='R')['median'].values],\n",
    "                                                      'Measure_std':[snowpit_stats.sel(site=site, property='swe', grain_type='R')['std'].values],\n",
    "                                                      'Measure_quart1':[snowpit_stats.sel(site=site, property='swe', grain_type='R')['quart1'].values],\n",
    "                                                      'Measure_quart3':[snowpit_stats.sel(site=site, property='swe', grain_type='R')['quart3'].values],\n",
    "                                                      'Retrieved_median':[idata.posterior['SWE'].median().values],\n",
    "                                                      'Retrieved_std':[idata.posterior['SWE'].std().values],\n",
    "                                                      'Retrieved_quart1':[idata.posterior['SWE'].quantile(0.25).values],\n",
    "                                                      'Retrieved_quart3':[idata.posterior['SWE'].quantile(0.75).values],\n",
    "                                                      'rhat':[az.rhat(idata)['SWE'].values],\n",
    "                                                      'ess':[az.ess(idata)['SWE'].values]})],\n",
    "                                       ignore_index=True)\n",
    "\n",
    "df_swe_arctic_swe['bias'] = df_swe_arctic_swe.Measure_median-df_swe_arctic_swe.Retrieved_median\n",
    "df_swe_arctic_swe.to_csv(MCMC_OUTPUTS / 'SWE_Arctic_Constraints+SWEuncertainty+4obs.csv')\n",
    "df_swe_arctic_swe.sort_values('Site')"
   ]
  },
  {
   "cell_type": "markdown",
   "id": "74edd72a-2522-415f-880a-3119423f280f",
   "metadata": {},
   "source": [
    "### Reading the UMASS measured backscatter during the TVC Experiment 2018/19"
   ]
  },
  {
   "cell_type": "code",
   "execution_count": null,
   "id": "9cb636eb-bf66-43fd-84e9-2b378fd619d0",
   "metadata": {},
   "outputs": [],
   "source": [
    "umass = pd.read_pickle(DATA_DIR / 'UMass_TVC18-19_DB.pkl')\n",
    "umass_tvc02=umass.drop(columns='geometry')[(umass.radar_ts<=datetime.datetime(2019,2,1)) & (umass.radar_ts>=datetime.datetime(2019,1,1))]\n",
    "max_date = umass_tvc02.radar_ts.max()\n",
    "min_date = umass_tvc02.radar_ts.min()"
   ]
  },
  {
   "cell_type": "markdown",
   "id": "aab4ba13-7a8e-446f-b7fe-ed20a58dfbbb",
   "metadata": {},
   "source": [
    "### Reading all ensemble members of both SVS-2 version and calculating the mean, median, 1st and 3rd quartiles"
   ]
  },
  {
   "cell_type": "code",
   "execution_count": null,
   "id": "ed6911b8-1d3c-4a19-8ddb-0b3e3c1fd15e",
   "metadata": {},
   "outputs": [],
   "source": [
    "svs_arctic = xr.open_dataset(DATA_DIR / 'SVS-2_ArcticEnsembles_TVC02.nc')\n",
    "svs_default = xr.open_dataset(DATA_DIR / 'SVS-2_DefaultEnsembles_TVC02.nc')\n",
    "\n",
    "svs_mean_swe_arctic = svs_arctic.sel(time=slice(min_date,max_date+datetime.timedelta(days=1)))['SNOMA'].to_dataframe().dropna().values.mean()\n",
    "svs_median_swe_arctic = np.median(svs_arctic.sel(time=slice(min_date,max_date+datetime.timedelta(days=1)))['SNOMA'].to_dataframe().dropna().values)\n",
    "svs_quart1_swe_arctic = svs_arctic.sel(time=slice(min_date,max_date+datetime.timedelta(days=1)))['SNOMA'].to_dataframe().dropna().quantile(0.25).values\n",
    "svs_quart3_swe_arctic = svs_arctic.sel(time=slice(min_date,max_date+datetime.timedelta(days=1)))['SNOMA'].to_dataframe().dropna().quantile(0.75).values\n",
    "svs_std_swe_arctic = svs_arctic.sel(time=slice(min_date,max_date+datetime.timedelta(days=1)))['SNOMA'].to_dataframe().dropna().std().values\n",
    "\n",
    "svs_mean_swe_default = svs_default.sel(time=slice(min_date,max_date+datetime.timedelta(days=1)))['SNOMA'].to_dataframe().dropna().values.mean()\n",
    "svs_median_swe_default = np.median(svs_default.sel(time=slice(min_date,max_date+datetime.timedelta(days=1)))['SNOMA'].to_dataframe().dropna().values)\n",
    "svs_quart1_swe_default = svs_default.sel(time=slice(min_date,max_date+datetime.timedelta(days=1)))['SNOMA'].to_dataframe().dropna().quantile(0.25).values\n",
    "svs_quart3_swe_default = svs_default.sel(time=slice(min_date,max_date+datetime.timedelta(days=1)))['SNOMA'].to_dataframe().dropna().quantile(0.75).values"
   ]
  },
  {
   "cell_type": "markdown",
   "id": "786d6e9c-8782-4e6c-b3e3-f001403ec166",
   "metadata": {},
   "source": [
    "### Reading the top 30 ensemble members of both SVS-2 version and calculating the mean, median, 1st and 3rd quartiles"
   ]
  },
  {
   "cell_type": "code",
   "execution_count": null,
   "id": "1c5b2339-f48b-4a66-bf41-e092421a6c76",
   "metadata": {},
   "outputs": [],
   "source": [
    "svs_arctictop30 = xr.open_dataset(DATA_DIR / 'SVS-2_ArcticTop30Ensembles_TVC02.nc')\n",
    "svs_defaulttop30 = xr.open_dataset(DATA_DIR / 'SVS-2_DefaultTop30Ensembles_TVC02.nc')\n",
    "\n",
    "svs_mean_swe_arctictop30 = svs_arctic.sel(time=slice(min_date,max_date+datetime.timedelta(days=1)))['SNOMA'].to_dataframe().dropna().values.mean()\n",
    "svs_median_swe_arctictop30 = np.median(svs_arctic.sel(time=slice(min_date,max_date+datetime.timedelta(days=1)))['SNOMA'].to_dataframe().dropna().values)\n",
    "svs_quart1_swe_arctictop30 = svs_arctic.sel(time=slice(min_date,max_date+datetime.timedelta(days=1)))['SNOMA'].to_dataframe().dropna().quantile(0.25).values\n",
    "svs_quart3_swe_arctictop30 = svs_arctic.sel(time=slice(min_date,max_date+datetime.timedelta(days=1)))['SNOMA'].to_dataframe().dropna().quantile(0.75).values\n",
    "\n",
    "svs_mean_swe_defaulttop30 = svs_default.sel(time=slice(min_date,max_date+datetime.timedelta(days=1)))['SNOMA'].to_dataframe().dropna().values.mean()\n",
    "svs_median_swe_defaulttop30 = np.median(svs_default.sel(time=slice(min_date,max_date+datetime.timedelta(days=1)))['SNOMA'].to_dataframe().dropna().values)\n",
    "svs_quart1_swe_defaulttop30 = svs_default.sel(time=slice(min_date,max_date+datetime.timedelta(days=1)))['SNOMA'].to_dataframe().dropna().quantile(0.25).values\n",
    "svs_quart3_swe_defaulttop30 = svs_default.sel(time=slice(min_date,max_date+datetime.timedelta(days=1)))['SNOMA'].to_dataframe().dropna().quantile(0.75).values"
   ]
  },
  {
   "cell_type": "markdown",
   "id": "9b02a216-e92b-475a-a8fb-647efedf39e6",
   "metadata": {},
   "source": [
    "### Organizing the statistics into dataframes and a large dictionary"
   ]
  },
  {
   "cell_type": "code",
   "execution_count": null,
   "id": "60048677-9347-4b57-af83-abf9b446222b",
   "metadata": {},
   "outputs": [],
   "source": [
    "svs_dfs = {}\n",
    "\n",
    "svs_dfs['Default']=pd.DataFrame({'mean':[svs_mean_swe_default], 'median':[svs_median_swe_default], 'quart1':[svs_quart1_swe_default], 'quart3':[svs_quart3_swe_default]})\n",
    "svs_dfs['Default Top30']=pd.DataFrame({'mean':[svs_mean_swe_defaulttop30], 'median':[svs_median_swe_defaulttop30], 'quart1':[svs_quart1_swe_defaulttop30], 'quart3':[svs_quart3_swe_defaulttop30]})\n",
    "svs_dfs['Arctic']=pd.DataFrame({'mean':[svs_mean_swe_arctic], 'median':[svs_median_swe_arctic], 'quart1':[svs_quart1_swe_arctic], 'quart3':[svs_quart3_swe_arctic]})\n",
    "svs_dfs['Arctic Top30']=pd.DataFrame({'mean':[svs_mean_swe_arctictop30], 'median':[svs_median_swe_arctictop30], 'quart1':[svs_quart1_swe_arctictop30], 'quart3':[svs_quart3_swe_arctictop30]})\n",
    "svs_dfs['Arctic High Uncertainty']=pd.DataFrame({'mean':[svs_mean_swe_arctic], 'median':[svs_median_swe_arctic], 'quart1':[svs_quart1_swe_arctic], 'quart3':[svs_quart3_swe_arctic]})\n",
    "svs_dfs['Arctic Four Observations']=pd.DataFrame({'mean':[svs_mean_swe_arctic], 'median':[svs_median_swe_arctic], 'quart1':[svs_quart1_swe_arctic], 'quart3':[svs_quart3_swe_arctic]})\n",
    "svs_dfs['Arctic High SWE Uncertainty']=pd.DataFrame({'mean':[svs_mean_swe_arctic], 'median':[svs_median_swe_arctic], 'quart1':[svs_quart1_swe_arctic], 'quart3':[svs_quart3_swe_arctic]})"
   ]
  },
  {
   "cell_type": "markdown",
   "id": "7b5f7e86-2671-4755-99c4-7db77a6530db",
   "metadata": {},
   "source": [
    "### Calculating the Root-Mean-Square-Errors"
   ]
  },
  {
   "cell_type": "code",
   "execution_count": null,
   "id": "ada585cf-03e6-47a5-8bf8-deda81d22c16",
   "metadata": {},
   "outputs": [],
   "source": [
    "rmse_default = np.sqrt(np.mean((df_swe_default['Measure_median']-df_swe_default['Retrieved_median'])**2))\n",
    "rmse_defaulttop30 = np.sqrt(np.mean((df_swe_defaulttop30['Measure_median']-df_swe_defaulttop30['Retrieved_median'])**2))\n",
    "rmse_arctic = np.sqrt(np.mean((df_swe_arctic['Measure_median']-df_swe_arctic['Retrieved_median'])**2))\n",
    "rmse_arctictop30 = np.sqrt(np.mean((df_swe_arctictop30['Measure_median']-df_swe_arctictop30['Retrieved_median'])**2))\n",
    "rmse_arcticcond = np.sqrt(np.mean((df_swe_arcticcond['Measure_median']-df_swe_arcticcond['Retrieved_median'])**2))\n",
    "rmse_arctic6 = np.sqrt(np.mean((df_swe_arctic6['Measure_median']-df_swe_arctic6['Retrieved_median'])**2))\n",
    "rmse_arctic_swe = np.sqrt(np.mean((df_swe_arctic_swe['Measure_median']-df_swe_arctic_swe['Retrieved_median'])**2))"
   ]
  },
  {
   "cell_type": "code",
   "execution_count": null,
   "id": "ce468dd4-a312-4326-a618-fd8be54e5c5d",
   "metadata": {},
   "outputs": [],
   "source": [
    "print(f'SWE RMSE Default Ensembles = {rmse_default:.2f} mm')\n",
    "print(f'SWE RMSE Top 30 Default Ensembles = {rmse_defaulttop30:.2f} mm')\n",
    "print(f'SWE RMSE Arctic Ensembles = {rmse_arctic:.2f} mm')\n",
    "print(f'SWE RMSE Top30 Arctic Ensembles = {rmse_arctictop30:.2f} mm')\n",
    "print(f'SWE RMSE Arctic Ensembles with larger uncertainty = {rmse_arcticcond:.2f} mm')\n",
    "print(f'SWE RMSE Arctic Ensembles with larger uncertainty and four observations = {rmse_arctic6:.2f} mm')\n",
    "print(f'SWE RMSE Arctic Ensembles with larger uncertainty on SSA+SWE+4obs = {rmse_arctic_swe:.2f} mm')"
   ]
  },
  {
   "cell_type": "markdown",
   "id": "8b35d47e-8ab0-458b-a5fd-a48296d3376a",
   "metadata": {},
   "source": [
    "SWE RMSE Default Ensembles = 27.61 mm  \n",
    "SWE RMSE Top 30 Default Ensembles = 17.94mm  \n",
    "SWE RMSE Arctic Ensembles = 20.88 mm  \n",
    "SWE RMSE Top30 Arctic Ensembles = 21.17 mm  \n",
    "SWE RMSE Arctic Ensembles with larger uncertainty = 18.68 mm  \n",
    "SWE RMSE Arctic Ensembles with larger uncertainty and four observations = 15.80 mm"
   ]
  },
  {
   "cell_type": "markdown",
   "id": "16a6b0d4-af3f-433b-8343-950664e769ca",
   "metadata": {},
   "source": [
    "#### Calculating mean quartile deviation of posterior distributions"
   ]
  },
  {
   "cell_type": "code",
   "execution_count": null,
   "id": "a557fb90-40e3-44bc-b27c-bbffbf5bd6a6",
   "metadata": {},
   "outputs": [],
   "source": [
    "std_default = np.mean((df_swe_default['Retrieved_quart3']-df_swe_default['Retrieved_quart1'])/2)\n",
    "std_defaulttop30 = np.mean((df_swe_defaulttop30['Retrieved_quart3']-df_swe_defaulttop30['Retrieved_quart1'])/2)\n",
    "std_arctic = np.mean((df_swe_arctic['Retrieved_quart3']-df_swe_arctic['Retrieved_quart1'])/2)\n",
    "std_arctictop30 = np.mean((df_swe_arctictop30['Retrieved_quart3']-df_swe_arctictop30['Retrieved_quart1'])/2)\n",
    "std_arcticcond = np.mean((df_swe_arcticcond['Retrieved_quart3']-df_swe_arcticcond['Retrieved_quart1'])/2)\n",
    "std_arctic6 = np.mean((df_swe_arctic6['Retrieved_quart3']-df_swe_arctic6['Retrieved_quart1'])/2)"
   ]
  },
  {
   "cell_type": "code",
   "execution_count": null,
   "id": "181bf54c-4852-4c8d-976c-8daa9e827a23",
   "metadata": {},
   "outputs": [],
   "source": [
    "print(f'SWE QD Default Ensembles = {std_default:.2f} mm')\n",
    "print(f'SWE QD Top 30 Default Ensembles = {std_defaulttop30:.2f} mm')\n",
    "print(f'SWE QD Arctic Ensembles = {std_arctic:.2f} mm')\n",
    "print(f'SWE QD Top30 Arctic Ensembles = {std_arctictop30:.2f} mm')\n",
    "print(f'SWE QD Arctic Ensembles with larger uncertainty = {std_arcticcond:.2f} mm')\n",
    "print(f'SWE QD Arctic Ensembles with larger uncertainty and four observations = {std_arctic6:.2f} mm')"
   ]
  },
  {
   "cell_type": "markdown",
   "id": "70b1a04e-5a2e-4bf6-97f6-ebba145210ee",
   "metadata": {},
   "source": [
    "SWE QD Default Ensembles = 11.93 mm  \n",
    "SWE QD Top 30 Default Ensembles = 6.86mm  \n",
    "SWE QD Arctic Ensembles = 19.56 mm  \n",
    "SWE QD Top30 Arctic Ensembles = 18.81 mm  \n",
    "SWE QD Arctic Ensembles with larger uncertainty = 22.52 mm  \n",
    "SWE QD Arctic Ensembles with larger uncertainty and four observations = 23.44 mm"
   ]
  },
  {
   "cell_type": "code",
   "execution_count": null,
   "id": "a4255885-030d-4e56-817b-1b70665193d3",
   "metadata": {
    "scrolled": true
   },
   "outputs": [],
   "source": [
    "std_default = np.mean((df_swe_default['Retrieved_quart3']-df_swe_default['Retrieved_quart1'])/2/df_swe_default['Measure_median'])\n",
    "std_defaulttop30 = np.mean((df_swe_defaulttop30['Retrieved_quart3']-df_swe_defaulttop30['Retrieved_quart1'])/2/df_swe_defaulttop30['Measure_median'])\n",
    "std_arctic = np.mean((df_swe_arctic['Retrieved_quart3']-df_swe_arctic['Retrieved_quart1'])/2/df_swe_arctic['Measure_median'])\n",
    "std_arctictop30 = np.mean((df_swe_arctictop30['Retrieved_quart3']-df_swe_arctictop30['Retrieved_quart1'])/2/df_swe_arctictop30['Measure_median'])\n",
    "std_arcticcond = np.mean((df_swe_arcticcond['Retrieved_quart3']-df_swe_arcticcond['Retrieved_quart1'])/2/df_swe_arcticcond['Measure_median'])\n",
    "std_arctic6 = np.mean((df_swe_arctic6['Retrieved_quart3']-df_swe_arctic6['Retrieved_quart1'])/2/df_swe_arctic6['Measure_median'])"
   ]
  },
  {
   "cell_type": "code",
   "execution_count": null,
   "id": "b8123e9e-3b5f-47e4-8e01-17fb6b6af810",
   "metadata": {},
   "outputs": [],
   "source": [
    "print(f'SWE QD Default Ensembles = {std_default*100:.1f} mm')\n",
    "print(f'SWE QD Top 30 Default Ensembles = {std_defaulttop30*100:.1f} mm')\n",
    "print(f'SWE QD Arctic Ensembles = {std_arctic*100:.1f} mm')\n",
    "print(f'SWE QD Top30 Arctic Ensembles = {std_arctictop30*100:.1f} mm')\n",
    "print(f'SWE QD Arctic Ensembles with larger uncertainty = {std_arcticcond*100:.1f} mm')\n",
    "print(f'SWE QD Arctic Ensembles with larger uncertainty and four observations = {std_arctic6*100:.1f} mm')"
   ]
  },
  {
   "cell_type": "markdown",
   "id": "bad03c83-1e8d-4344-8ca7-750904530837",
   "metadata": {},
   "source": [
    "SWE QD Default Ensembles = 12.9 mm  \n",
    "SWE QD Top 30 Default Ensembles = 7.4mm  \n",
    "SWE QD Arctic Ensembles = 21.1 mm  \n",
    "SWE QD Top30 Arctic Ensembles = 20.2 mm  \n",
    "SWE QD Arctic Ensembles with larger uncertainty = 24.2 mm  \n",
    "SWE QD Arctic Ensembles with larger uncertainty and four observations = 25.2 mm"
   ]
  },
  {
   "cell_type": "markdown",
   "id": "66181250-a0a1-4c45-8aaa-10131f496e48",
   "metadata": {},
   "source": [
    "### Organizing the dataframes into a large dictionary"
   ]
  },
  {
   "cell_type": "code",
   "execution_count": null,
   "id": "62f4531a-e10f-4b35-a717-580357a819b0",
   "metadata": {},
   "outputs": [],
   "source": [
    "swe_dfs = {\n",
    "    'Default': df_swe_default,\n",
    "    'Default Top30': df_swe_defaulttop30,\n",
    "    'Arctic': df_swe_arctic,\n",
    "    'Arctic Top30': df_swe_arctictop30,\n",
    "    'Arctic High Uncertainty': df_swe_arcticcond,\n",
    "    'Arctic Four Observations': df_swe_arctic6,\n",
    "    'Arctic High SWE Uncertainty': df_swe_arctic_swe\n",
    "}"
   ]
  },
  {
   "cell_type": "markdown",
   "id": "6f532c6d-56e9-42e0-b606-8410acabe0f5",
   "metadata": {},
   "source": [
    "### For discussion purposes only, not published, the R$^2$ is calculated here, with two different methods. The statistics did not prove to be significant to the results section"
   ]
  },
  {
   "cell_type": "code",
   "execution_count": null,
   "id": "00ebf9dc-2fa4-43e2-a9af-6aeb70345d08",
   "metadata": {},
   "outputs": [],
   "source": [
    "m_def, b_def, r_def, p_def, std_err_def = linregress(df_swe_default['Measure_median'], df_swe_default['Retrieved_median'])\n",
    "m_deftop30, b_deftop30, r_deftop30, p_deftop30, std_err_deftop30 = linregress(df_swe_defaulttop30['Measure_median'], df_swe_defaulttop30['Retrieved_median'])\n",
    "m_arc, b_arc, r_arc, p_arc, std_err_arc = linregress(df_swe_arctic['Measure_median'], df_swe_arctic['Retrieved_median'])\n",
    "m_arctop30, b_arctop30, r_arctop30, p_arctop30, std_err_arctop30 = linregress(df_swe_arctictop30['Measure_median'], df_swe_arctictop30['Retrieved_median'])\n",
    "m_arcticcond, b_arcticcond, r_arcticcond, p_arcticcond, std_err_arcticcond = linregress(df_swe_arcticcond['Measure_median'], df_swe_arcticcond['Retrieved_median'])\n",
    "m_arc6, b_arc6, r_arc6, p_arc6, std_err_arc6 = linregress(df_swe_arctic6['Measure_median'], df_swe_arctic6['Retrieved_median'])"
   ]
  },
  {
   "cell_type": "code",
   "execution_count": null,
   "id": "7cf3565f-e113-4788-9bc4-fcc2497cd26e",
   "metadata": {},
   "outputs": [],
   "source": [
    "r2_def = r2_score(df_swe_default['Measure_median'], df_swe_default['Retrieved_median'])\n",
    "r2_deftop30 = r2_score(df_swe_defaulttop30['Measure_median'], df_swe_defaulttop30['Retrieved_median'])\n",
    "r2_arc = r2_score(df_swe_arctic['Measure_median'], df_swe_arctic['Retrieved_median'])\n",
    "r2_arctop30 = r2_score(df_swe_arctictop30['Measure_median'], df_swe_arctictop30['Retrieved_median'])\n",
    "r2_arcticcond = r2_score(df_swe_arcticcond['Measure_median'], df_swe_arcticcond['Retrieved_median'])\n",
    "r2_arc6 = r2_score(df_swe_arctic6['Measure_median'], df_swe_arctic6['Retrieved_median'])"
   ]
  },
  {
   "cell_type": "code",
   "execution_count": null,
   "id": "2e4d6f62-7a60-4df1-8606-07ecbe92c52f",
   "metadata": {},
   "outputs": [],
   "source": [
    "print(f'SWE R^2 Default Ensembles = {r_def**2:.2f}')\n",
    "print(f'SWE R^2 Top 30 Default Ensembles = {r_deftop30**2:.2f}')\n",
    "print(f'SWE R^2 Arctic Ensembles = {r_arc**2:.2f}')\n",
    "print(f'SWE R^2 Top30 Arctic Ensembles = {r_arctop30**2:.2f}')\n",
    "print(f'SWE R^2 Arctic Ensembles with larger uncertainty = {r_arcticcond**2:.2f}')\n",
    "print(f'SWE R^2 Arctic Ensembles with larger uncertainty and four observations = {r_arc6**2:.2f}')"
   ]
  },
  {
   "cell_type": "markdown",
   "id": "3475468e-3aa3-4b4f-b0ab-1fb866e01667",
   "metadata": {},
   "source": [
    "SWE R$^2$ Default Ensembles = 0.01  \n",
    "SWE R$^2$ Top 30 Default Ensembles = 0.05  \n",
    "SWE R$^2$ Arctic Ensembles = 0.14  \n",
    "SWE R$^2$ Top30 Arctic Ensembles = 0.11  \n",
    "SWE R$^2$ Arctic Ensembles with larger uncertainty = 0.00  \n",
    "SWE R$^2$ Arctic Ensembles with larger uncertainty and four observations = 0.13"
   ]
  },
  {
   "cell_type": "code",
   "execution_count": null,
   "id": "79a15c18-627c-4b18-8891-f76c35250cd1",
   "metadata": {},
   "outputs": [],
   "source": [
    "print(f'SWE R^2 Default Ensembles = {r2_def:.2f}')\n",
    "print(f'SWE R^2 Top 30 Default Ensembles = {r2_deftop30:.2f}')\n",
    "print(f'SWE R^2 Arctic Ensembles = {r2_arc:.2f}')\n",
    "print(f'SWE R^2 Top30 Arctic Ensembles = {r2_arctop30:.2f}')\n",
    "print(f'SWE R^2 Arctic Ensembles with larger uncertainty = {r2_arcticcond:.2f}')\n",
    "print(f'SWE R^2 Arctic Ensembles with larger uncertainty and four observations = {r2_arc6:.2f}')"
   ]
  },
  {
   "cell_type": "markdown",
   "id": "3e38db67-6a3c-40b2-ad28-d322297df9ad",
   "metadata": {},
   "source": [
    "SWE R$^2$ Default Ensembles = -1.68  \n",
    "SWE R$^2$ Top 30 Default Ensembles = -0.13  \n",
    "SWE R$^2$ Arctic Ensembles = -0.54  \n",
    "SWE R$^2$ Top30 Arctic Ensembles = -0.58  \n",
    "SWE R$^2$ Arctic Ensembles with larger uncertainty = -0.23  \n",
    "SWE R$^2$ Arctic Ensembles with larger uncertainty and four observations = 0.12  "
   ]
  },
  {
   "cell_type": "code",
   "execution_count": null,
   "id": "a15bb778-b106-4439-886b-3a78c08fa1f6",
   "metadata": {},
   "outputs": [],
   "source": [
    "#Ensembles to compare\n",
    "ensembles = ['Default','Default Top30']\n",
    "\n",
    "fig, ax = plt.subplots(1,len(ensembles),figsize=(20,10))\n",
    "\n",
    "for i in range(len(ensembles)):\n",
    "  \n",
    "    ax[i].fill_between([0,200],y1=[30,230],y2=[-30,170], color='grey', alpha=0.5, label='TSMM \\nexpected \\naccuracy')\n",
    "    markers, caps, bars = ax[i].errorbar(swe_dfs[ensembles[i]]['Measure_median'],swe_dfs[ensembles[i]]['Retrieved_median'],\n",
    "                                        xerr=[swe_dfs[ensembles[i]]['Measure_median']-swe_dfs[ensembles[i]]['Measure_quart1'],\n",
    "                                              swe_dfs[ensembles[i]]['Measure_quart3']-swe_dfs[ensembles[i]]['Measure_median']],\n",
    "                                        yerr=[swe_dfs[ensembles[i]]['Retrieved_median']-swe_dfs[ensembles[i]]['Retrieved_quart1'],\n",
    "                                              swe_dfs[ensembles[i]]['Retrieved_quart3']-swe_dfs[ensembles[i]]['Retrieved_median']], \n",
    "                                        label='TVCExp18/19\\nRetrieval',\n",
    "                                        marker='o', linestyle='', color='k',capsize=5, linewidth=1)\n",
    "\n",
    "    [bar.set_alpha(0.5) for bar in bars]\n",
    "    [cap.set_alpha(0.5) for cap in caps]\n",
    "    \n",
    "    ax[i].axhline(svs_dfs[ensembles[i]]['median'].values, linestyle='--', color='red', linewidth=2, label='SVS-2 Initial\\nSWE')\n",
    "    ax[i].fill_between([0, 200], y1=[svs_dfs[ensembles[i]]['quart1'].values[0][0], svs_dfs[ensembles[i]]['quart1'].values[0][0]],\n",
    "                                 y2=[svs_dfs[ensembles[i]]['quart3'].values[0][0], svs_dfs[ensembles[i]]['quart3'].values[0][0]], \n",
    "                       color='red', linewidth=1, alpha = 0.5, label='SVS-2 Initial\\n$\\delta_{SWE}$')\n",
    "    ax[i].plot([0,200],[0,200],'-',color='grey')\n",
    "    ax[i].set_xlim(0,200)\n",
    "    ax[i].set_ylim(0,200)\n",
    "    ax[i].set_xlabel('Measured SWE (mm)')\n",
    "    ax[i].text(75,175,'RMSE = \\n{:2.1f} mm'.format(np.sqrt(np.mean((swe_dfs[ensembles[i]]['Measure_median']-\n",
    "                                                                   swe_dfs[ensembles[i]]['Retrieved_median'])**2))))\n",
    "    ax[i].text(75,160,'RMSE = \\n{:2.1f}%'.format(np.sqrt(np.mean((swe_dfs[ensembles[i]]['Measure_median']-\n",
    "                                                                   swe_dfs[ensembles[i]]['Retrieved_median'])**2))/\n",
    "                                                swe_dfs[ensembles[i]]['Measure_median'].mean()*100))\n",
    "\n",
    "ax[0].set_ylabel('Retrieved SWE (mm)')\n",
    "ax[0].text(5,190,'a)')\n",
    "ax[1].text(5,190,'b)')\n",
    "ax[0].legend(loc=4);\n",
    "\n",
    "fig.savefig(FIGURE_DIR / 'SWE_results_Def-DefTop30.png')"
   ]
  },
  {
   "cell_type": "markdown",
   "id": "348db9fe-fab7-4a5c-81b9-bac2f3c2a961",
   "metadata": {},
   "source": [
    "<center><img src=\"../Figures/SWE_results_Def-DefTop30.png\" Width=\"1000px\"></center>\n",
    "\n",
    "<center>Figure: Comparison of the MCMC outputs using priors from the a) 120 ensemble members and b) the top 30 ensemble members of the default SVS-2 version. Given that the SVS-2 runs were point scale, all surveyed sites start with the same prior distributions for a given test. The red line corresponds to the median value of SVS-2 and the red shading corresponds to the 1st and 3rd quartiles.</center>"
   ]
  },
  {
   "cell_type": "code",
   "execution_count": null,
   "id": "54911a9c-ed05-4230-83cc-f771a46f39af",
   "metadata": {},
   "outputs": [],
   "source": [
    "#Ensembles to compare\n",
    "ensembles = ['Default','Arctic']\n",
    "\n",
    "fig, ax = plt.subplots(1,len(ensembles),figsize=(20,10))\n",
    "\n",
    "for i in range(len(ensembles)):\n",
    "  \n",
    "    ax[i].fill_between([0,200],y1=[30,230],y2=[-30,170], color='grey', alpha=0.5, label='TSMM \\nexpected \\naccuracy')\n",
    "    markers, caps, bars = ax[i].errorbar(swe_dfs[ensembles[i]]['Measure_median'],swe_dfs[ensembles[i]]['Retrieved_median'],\n",
    "                                        xerr=[swe_dfs[ensembles[i]]['Measure_median']-swe_dfs[ensembles[i]]['Measure_quart1'],\n",
    "                                              swe_dfs[ensembles[i]]['Measure_quart3']-swe_dfs[ensembles[i]]['Measure_median']],\n",
    "                                        yerr=[swe_dfs[ensembles[i]]['Retrieved_median']-swe_dfs[ensembles[i]]['Retrieved_quart1'],\n",
    "                                              swe_dfs[ensembles[i]]['Retrieved_quart3']-swe_dfs[ensembles[i]]['Retrieved_median']], \n",
    "                                        label='TVCExp18/19\\nRetrieval',\n",
    "                                        marker='o', linestyle='', color='k',capsize=5, linewidth=1)\n",
    "\n",
    "    [bar.set_alpha(0.5) for bar in bars]\n",
    "    [cap.set_alpha(0.5) for cap in caps]\n",
    "\n",
    "    ax[i].axhline(svs_dfs[ensembles[i]]['median'].values, linestyle='--', color='red', linewidth=2, label='SVS-2 Initial\\nSWE')\n",
    "    ax[i].fill_between([0, 200], y1=[svs_dfs[ensembles[i]]['quart1'].values[0][0], svs_dfs[ensembles[i]]['quart1'].values[0][0]],\n",
    "                                 y2=[svs_dfs[ensembles[i]]['quart3'].values[0][0], svs_dfs[ensembles[i]]['quart3'].values[0][0]], \n",
    "                       color='red', linewidth=1, alpha = 0.5, label='SVS-2 Initial\\n$\\sigma_{SWE}$')\n",
    "    ax[i].plot([0,200],[0,200],'-',color='grey')\n",
    "    ax[i].set_xlim(0,200)\n",
    "    ax[i].set_ylim(0,200)\n",
    "    ax[i].set_xlabel('Measured SWE (mm)')\n",
    "    ax[i].text(75,175,'RMSE = \\n{:2.1f} mm'.format(np.sqrt(np.mean((swe_dfs[ensembles[i]]['Measure_median']-\n",
    "                                                                   swe_dfs[ensembles[i]]['Retrieved_median'])**2))))\n",
    "    ax[i].text(75,160,'RMSE = \\n{:2.1f}%'.format(np.sqrt(np.mean((swe_dfs[ensembles[i]]['Measure_median']-\n",
    "                                                                   swe_dfs[ensembles[i]]['Retrieved_median'])**2))/\n",
    "                                                swe_dfs[ensembles[i]]['Measure_median'].mean()*100))\n",
    "\n",
    "ax[0].set_ylabel('Retrieved SWE (mm)')\n",
    "ax[0].text(5,190,'a)')\n",
    "ax[1].text(5,190,'b)')\n",
    "ax[0].legend(loc=4);\n",
    "\n",
    "fig.savefig(FIGURE_DIR / 'f08.png')"
   ]
  },
  {
   "cell_type": "markdown",
   "id": "7d264c9a-5648-488b-aca6-f40be431f3d8",
   "metadata": {},
   "source": [
    "<center><img src=\"../Figures/f08.png\" Width=\"1000px\"></center>\n",
    "\n",
    "<center>Figure 8 of <a href=https://doi.org/10.5194/tc-18-3857-2024>(Montpetit et al., Preprint)</a>: Comparison of the retrieved SWE using the MCMC approach with priors coming from all 120 ensemble members of the a) default and b) Arctic versions of SVS-2 <a href=https://doi.org/10.5194/tc-18-5685-2024>(Woolley et al., 2024)</a>. The error bars show the 1st and 3rd quartiles of the measured (x-axis) and posterior (y-axis) distributions.</center>"
   ]
  },
  {
   "cell_type": "code",
   "execution_count": null,
   "id": "6380c3fb-9d89-406a-b25f-5509e5c448a7",
   "metadata": {},
   "outputs": [],
   "source": [
    "#Ensembles to compare\n",
    "ensembles = ['Default Top30','Arctic']\n",
    "\n",
    "fig, ax = plt.subplots(1,len(ensembles),figsize=(20,10))\n",
    "\n",
    "for i in range(len(ensembles)):\n",
    "  \n",
    "    ax[i].fill_between([0,200],y1=[30,230],y2=[-30,170], color='grey', alpha=0.5, label='TSMM \\nexpected \\naccuracy')\n",
    "    markers, caps, bars = ax[i].errorbar(swe_dfs[ensembles[i]]['Measure_median'],swe_dfs[ensembles[i]]['Retrieved_median'],\n",
    "                                        xerr=[swe_dfs[ensembles[i]]['Measure_median']-swe_dfs[ensembles[i]]['Measure_quart1'],\n",
    "                                              swe_dfs[ensembles[i]]['Measure_quart3']-swe_dfs[ensembles[i]]['Measure_median']],\n",
    "                                        yerr=[swe_dfs[ensembles[i]]['Retrieved_median']-swe_dfs[ensembles[i]]['Retrieved_quart1'],\n",
    "                                              swe_dfs[ensembles[i]]['Retrieved_quart3']-swe_dfs[ensembles[i]]['Retrieved_median']], \n",
    "                                        label='TVCExp18/19\\nRetrieval',\n",
    "                                        marker='o', linestyle='', color='k',capsize=5, linewidth=1)\n",
    "\n",
    "    [bar.set_alpha(0.5) for bar in bars]\n",
    "    [cap.set_alpha(0.5) for cap in caps]\n",
    "\n",
    "    ax[i].axhline(svs_dfs[ensembles[i]]['median'].values, linestyle='--', color='red', linewidth=2, label='SVS-2 Initial\\nSWE')\n",
    "    ax[i].fill_between([0, 200], y1=[svs_dfs[ensembles[i]]['quart1'].values[0][0], svs_dfs[ensembles[i]]['quart1'].values[0][0]],\n",
    "                                 y2=[svs_dfs[ensembles[i]]['quart3'].values[0][0], svs_dfs[ensembles[i]]['quart3'].values[0][0]], \n",
    "                       color='red', linewidth=1, alpha = 0.5, label='SVS-2 Initial\\n$\\sigma_{SWE}$')\n",
    "    ax[i].plot([0,200],[0,200],'-',color='grey')\n",
    "    ax[i].set_xlim(0,200)\n",
    "    ax[i].set_ylim(0,200)\n",
    "    ax[i].set_xlabel('Measured SWE (mm)')\n",
    "    ax[i].text(75,175,'RMSE = \\n{:2.1f} mm'.format(np.sqrt(np.mean((swe_dfs[ensembles[i]]['Measure_median']-\n",
    "                                                                   swe_dfs[ensembles[i]]['Retrieved_median'])**2))))\n",
    "    ax[i].text(75,160,'RMSE = \\n{:2.1f}%'.format(np.sqrt(np.mean((swe_dfs[ensembles[i]]['Measure_median']-\n",
    "                                                                   swe_dfs[ensembles[i]]['Retrieved_median'])**2))/\n",
    "                                                swe_dfs[ensembles[i]]['Measure_median'].mean()*100))\n",
    "ax[0].set_ylabel('Retrieved SWE (mm)')\n",
    "ax[0].text(5,190,'a)')\n",
    "ax[1].text(5,190,'b)')\n",
    "ax[0].legend(loc=4);\n",
    "\n",
    "fig.savefig(FIGURE_DIR / 'SWE_results_DefTop30-Arc.png')"
   ]
  },
  {
   "cell_type": "markdown",
   "id": "067d09ad-ad40-40a6-aefd-00edd09eee11",
   "metadata": {},
   "source": [
    "<center><img src=\"../Figures/SWE_results_DefTop30-Arc.png\" Width=\"1000px\"></center>\n",
    "\n",
    "<center>Figure: Comparison of the MCMC outputs using priors from a) the top 30 ensemble members of the default version of SVS-2, and b) all ensemble members of the Arctic version of SVS-2. Given that the SVS-2 runs were point scale, all surveyed sites start with the same prior distributions for a given test. The red line corresponds to the median value of SVS-2 and the red shading corresponds to the 1st and 3rd quartiles.</center>"
   ]
  },
  {
   "cell_type": "code",
   "execution_count": null,
   "id": "a858dbdf-4de8-4cbf-8bcf-eeecdb5adca7",
   "metadata": {},
   "outputs": [],
   "source": [
    "#Ensembles to compare\n",
    "ensembles = ['Default Top30','Arctic Top30']\n",
    "\n",
    "fig, ax = plt.subplots(1,len(ensembles),figsize=(20,10))\n",
    "\n",
    "for i in range(len(ensembles)):\n",
    "  \n",
    "    ax[i].fill_between([0,200],y1=[30,230],y2=[-30,170], color='grey', alpha=0.5, label='TSMM \\nexpected \\naccuracy')\n",
    "    markers, caps, bars = ax[i].errorbar(swe_dfs[ensembles[i]]['Measure_median'],swe_dfs[ensembles[i]]['Retrieved_median'],\n",
    "                                        xerr=[swe_dfs[ensembles[i]]['Measure_median']-swe_dfs[ensembles[i]]['Measure_quart1'],\n",
    "                                              swe_dfs[ensembles[i]]['Measure_quart3']-swe_dfs[ensembles[i]]['Measure_median']],\n",
    "                                        yerr=[swe_dfs[ensembles[i]]['Retrieved_median']-swe_dfs[ensembles[i]]['Retrieved_quart1'],\n",
    "                                              swe_dfs[ensembles[i]]['Retrieved_quart3']-swe_dfs[ensembles[i]]['Retrieved_median']], \n",
    "                                        label='TVCExp18/19\\nRetrieval',\n",
    "                                        marker='o', linestyle='', color='k',capsize=5, linewidth=1)\n",
    "\n",
    "    [bar.set_alpha(0.5) for bar in bars]\n",
    "    [cap.set_alpha(0.5) for cap in caps]\n",
    "\n",
    "    ax[i].axhline(svs_dfs[ensembles[i]]['median'].values, linestyle='--', color='red', linewidth=2, label='SVS-2 Initial\\nSWE')\n",
    "    ax[i].fill_between([0, 200], y1=[svs_dfs[ensembles[i]]['quart1'].values[0][0], svs_dfs[ensembles[i]]['quart1'].values[0][0]],\n",
    "                                 y2=[svs_dfs[ensembles[i]]['quart3'].values[0][0], svs_dfs[ensembles[i]]['quart3'].values[0][0]], \n",
    "                       color='red', linewidth=1, alpha = 0.5, label='SVS-2 Initial\\n$\\sigma_{SWE}$')\n",
    "    ax[i].plot([0,200],[0,200],'-',color='grey')\n",
    "    ax[i].set_xlim(0,200)\n",
    "    ax[i].set_ylim(0,200)\n",
    "    ax[i].set_xlabel('Measured SWE (mm)')\n",
    "    ax[i].text(75,175,'RMSE = \\n{:2.1f} mm'.format(np.sqrt(np.mean((swe_dfs[ensembles[i]]['Measure_median']-\n",
    "                                                                   swe_dfs[ensembles[i]]['Retrieved_median'])**2))))\n",
    "    ax[i].text(75,160,'RMSE = \\n{:2.1f}%'.format(np.sqrt(np.mean((swe_dfs[ensembles[i]]['Measure_median']-\n",
    "                                                                   swe_dfs[ensembles[i]]['Retrieved_median'])**2))/\n",
    "                                                swe_dfs[ensembles[i]]['Measure_median'].mean()*100))\n",
    "ax[0].set_ylabel('Retrieved SWE (mm)')\n",
    "ax[0].text(5,190,'a)')\n",
    "ax[1].text(5,190,'b)')\n",
    "ax[0].legend(loc=4);\n",
    "\n",
    "fig.savefig(FIGURE_DIR / 'f09.png')"
   ]
  },
  {
   "cell_type": "markdown",
   "id": "367097f1-4a21-458d-9552-0a23db5725d0",
   "metadata": {},
   "source": [
    "<center><img src=\"../Figures/f09.png\" Width=\"1000px\"></center>\n",
    "\n",
    "<center>Figure 9 of <a href=https://doi.org/10.5194/tc-18-3857-2024>(Montpetit et al., Preprint)</a>: Comparison of the retrieved SWE using the MCMC approach with priors coming from the top 30 ensemble members of the default and Arctic versions of SVS-2 <a href=https://doi.org/10.5194/tc-18-5685-2024>(Woolley et al., 2024)</a>. The error bars show the 1st and 3rd quartiles of the measured (x-axis) and posterior (y-axis) distributions.</center>"
   ]
  },
  {
   "cell_type": "code",
   "execution_count": null,
   "id": "00be799b-33d2-4d56-8ff4-6ff7fd866b95",
   "metadata": {},
   "outputs": [],
   "source": [
    "#Ensembles to compare\n",
    "ensembles = ['Arctic', 'Arctic Top30']\n",
    "\n",
    "fig, ax = plt.subplots(1,len(ensembles),figsize=(20,10))\n",
    "\n",
    "for i in range(len(ensembles)):\n",
    "  \n",
    "    ax[i].fill_between([0,200],y1=[30,230],y2=[-30,170], color='grey', alpha=0.5, label='TSMM \\nexpected \\naccuracy')\n",
    "    markers, caps, bars = ax[i].errorbar(swe_dfs[ensembles[i]]['Measure_median'],swe_dfs[ensembles[i]]['Retrieved_median'],\n",
    "                                        xerr=[swe_dfs[ensembles[i]]['Measure_median']-swe_dfs[ensembles[i]]['Measure_quart1'],\n",
    "                                              swe_dfs[ensembles[i]]['Measure_quart3']-swe_dfs[ensembles[i]]['Measure_median']],\n",
    "                                        yerr=[swe_dfs[ensembles[i]]['Retrieved_median']-swe_dfs[ensembles[i]]['Retrieved_quart1'],\n",
    "                                              swe_dfs[ensembles[i]]['Retrieved_quart3']-swe_dfs[ensembles[i]]['Retrieved_median']], \n",
    "                                        label='TVCExp18/19\\nRetrieval',\n",
    "                                        marker='o', linestyle='', color='k',capsize=5, linewidth=1)\n",
    "\n",
    "    [bar.set_alpha(0.5) for bar in bars]\n",
    "    [cap.set_alpha(0.5) for cap in caps]\n",
    "\n",
    "    ax[i].axhline(svs_dfs[ensembles[i]]['median'].values, linestyle='--', color='red', linewidth=2, label='SVS-2 Initial\\nSWE')\n",
    "    ax[i].fill_between([0, 200], y1=[svs_dfs[ensembles[i]]['quart1'].values[0][0], svs_dfs[ensembles[i]]['quart1'].values[0][0]],\n",
    "                                 y2=[svs_dfs[ensembles[i]]['quart3'].values[0][0], svs_dfs[ensembles[i]]['quart3'].values[0][0]], \n",
    "                       color='red', linewidth=1, alpha = 0.5, label='SVS-2 Initial\\n$\\sigma_{SWE}$')\n",
    "    ax[i].plot([0,200],[0,200],'-',color='grey')\n",
    "    ax[i].set_xlim(0,200)\n",
    "    ax[i].set_ylim(0,200)\n",
    "    ax[i].set_xlabel('Measured SWE (mm)')\n",
    "    ax[i].text(75,175,'RMSE = \\n{:2.1f} mm'.format(np.sqrt(np.mean((swe_dfs[ensembles[i]]['Measure_median']-\n",
    "                                                                   swe_dfs[ensembles[i]]['Retrieved_median'])**2))))\n",
    "    ax[i].text(75,160,'RMSE = \\n{:2.1f}%'.format(np.sqrt(np.mean((swe_dfs[ensembles[i]]['Measure_median']-\n",
    "                                                                   swe_dfs[ensembles[i]]['Retrieved_median'])**2))/\n",
    "                                                swe_dfs[ensembles[i]]['Measure_median'].mean()*100))\n",
    "ax[0].set_ylabel('Retrieved SWE (mm)')\n",
    "ax[0].text(5,190,'a)')\n",
    "ax[1].text(5,190,'b)')\n",
    "ax[0].legend(loc=4);\n",
    "\n",
    "fig.savefig(FIGURE_DIR / 'SWE_results_Arc-ArcTop30.png')"
   ]
  },
  {
   "cell_type": "markdown",
   "id": "a8db3d6f-b0a2-4fd0-8f24-420f6e0d0eee",
   "metadata": {},
   "source": [
    "<center><img src=\"../Figures/SWE_results_Arc-ArcTop30.png\" Width=\"1000px\"></center>\n",
    "\n",
    "<center>Figure: Comparison of the MCMC outputs using priors from a) all the ensemble members, and b) the top 30 ensemble members of the Arctic version of SVS-2. Given that the SVS-2 runs were point scale, all surveyed sites start with the same prior distributions for a given test. The red line corresponds to the median value of SVS-2 and the red shading corresponds to the 1st and 3rd quartiles.</center>"
   ]
  },
  {
   "cell_type": "code",
   "execution_count": null,
   "id": "5b1d2ea8-5570-47c5-89f8-4be098eb42b0",
   "metadata": {},
   "outputs": [],
   "source": [
    "#Ensembles to compare\n",
    "ensembles = ['Arctic','Arctic High Uncertainty']\n",
    "\n",
    "fig, ax = plt.subplots(1,len(ensembles),figsize=(20,10))\n",
    "\n",
    "for i in range(len(ensembles)):\n",
    "  \n",
    "    ax[i].fill_between([0,200],y1=[30,230],y2=[-30,170], color='grey', alpha=0.5, label='TSMM \\nexpected \\naccuracy')\n",
    "    markers, caps, bars = ax[i].errorbar(swe_dfs[ensembles[i]]['Measure_median'],swe_dfs[ensembles[i]]['Retrieved_median'],\n",
    "                                        xerr=[swe_dfs[ensembles[i]]['Measure_median']-swe_dfs[ensembles[i]]['Measure_quart1'],\n",
    "                                              swe_dfs[ensembles[i]]['Measure_quart3']-swe_dfs[ensembles[i]]['Measure_median']],\n",
    "                                        yerr=[swe_dfs[ensembles[i]]['Retrieved_median']-swe_dfs[ensembles[i]]['Retrieved_quart1'],\n",
    "                                              swe_dfs[ensembles[i]]['Retrieved_quart3']-swe_dfs[ensembles[i]]['Retrieved_median']], \n",
    "                                        label='TVCExp18/19\\nRetrieval',\n",
    "                                        marker='o', linestyle='', color='k',capsize=5, linewidth=1)\n",
    "\n",
    "    [bar.set_alpha(0.5) for bar in bars]\n",
    "    [cap.set_alpha(0.5) for cap in caps]\n",
    "\n",
    "    ax[i].axhline(svs_dfs[ensembles[i]]['median'].values, linestyle='--', color='red', linewidth=2, label='SVS-2 Initial\\nSWE')\n",
    "    ax[i].fill_between([0, 200], y1=[svs_dfs[ensembles[i]]['quart1'].values[0][0], svs_dfs[ensembles[i]]['quart1'].values[0][0]],\n",
    "                                 y2=[svs_dfs[ensembles[i]]['quart3'].values[0][0], svs_dfs[ensembles[i]]['quart3'].values[0][0]], \n",
    "                       color='red', linewidth=1, alpha = 0.5, label='SVS-2 Initial\\n$\\sigma_{SWE}$')\n",
    "    ax[i].plot([0,200],[0,200],'-',color='grey')\n",
    "    ax[i].set_xlim(0,200)\n",
    "    ax[i].set_ylim(0,200)\n",
    "    ax[i].set_xlabel('Measured SWE (mm)')\n",
    "    ax[i].text(75,175,'RMSE = \\n{:2.1f} mm'.format(np.sqrt(np.mean((swe_dfs[ensembles[i]]['Measure_median']-\n",
    "                                                                   swe_dfs[ensembles[i]]['Retrieved_median'])**2))))\n",
    "    ax[i].text(75,160,'RMSE = \\n{:2.1f}%'.format(np.sqrt(np.mean((swe_dfs[ensembles[i]]['Measure_median']-\n",
    "                                                                   swe_dfs[ensembles[i]]['Retrieved_median'])**2))/\n",
    "                                                swe_dfs[ensembles[i]]['Measure_median'].mean()*100))\n",
    "    ax[i].set_title(ensembles[i] + ' SVS-2 version')\n",
    "\n",
    "ax[0].set_ylabel('Retrieved SWE (mm)')\n",
    "ax[0].text(5,190,'a)')\n",
    "ax[1].text(5,190,'b)')\n",
    "ax[0].legend(loc=4);\n",
    "\n",
    "fig.savefig(FIGURE_DIR / 'SWE_results_Arc-ArcSigSSA.png')"
   ]
  },
  {
   "cell_type": "markdown",
   "id": "f870cd55-d388-4e2f-bda0-5a809e267362",
   "metadata": {},
   "source": [
    "<center><img src=\"../Figures/SWE_results_Arc-ArcSigSSA.png\" Width=\"1000px\"></center>\n",
    "\n",
    "<center>Figure: Comparison of the MCMC outputs using priors from all ensemble members of the Arctic verison of SVS-2 with a) the modeled uncertainty on SSA, and b) three times the modeled uncertainty on SSA. Given that the SVS-2 runs were point scale, all surveyed sites start with the same prior distributions for a given test. The red line corresponds to the median value of SVS-2 and the red shading corresponds to the 1st and 3rd quartiles.</center>"
   ]
  },
  {
   "cell_type": "code",
   "execution_count": null,
   "id": "831d987f-a06d-4d0c-ab60-517804d0d7f9",
   "metadata": {},
   "outputs": [],
   "source": [
    "#Ensembles to compare\n",
    "ensembles = ['Arctic High Uncertainty','Arctic Four Observations']\n",
    "\n",
    "fig, ax = plt.subplots(1,len(ensembles),figsize=(20,10))\n",
    "\n",
    "for i in range(len(ensembles)):\n",
    "  \n",
    "    ax[i].fill_between([0,200],y1=[30,230],y2=[-30,170], color='grey', alpha=0.5, label='TSMM \\nexpected \\naccuracy')\n",
    "    markers, caps, bars = ax[i].errorbar(swe_dfs[ensembles[i]]['Measure_median'],swe_dfs[ensembles[i]]['Retrieved_median'],\n",
    "                                        xerr=[swe_dfs[ensembles[i]]['Measure_median']-swe_dfs[ensembles[i]]['Measure_quart1'],\n",
    "                                              swe_dfs[ensembles[i]]['Measure_quart3']-swe_dfs[ensembles[i]]['Measure_median']],\n",
    "                                        yerr=[swe_dfs[ensembles[i]]['Retrieved_median']-swe_dfs[ensembles[i]]['Retrieved_quart1'],\n",
    "                                              swe_dfs[ensembles[i]]['Retrieved_quart3']-swe_dfs[ensembles[i]]['Retrieved_median']], \n",
    "                                        label='TVCExp18/19\\nRetrieval',\n",
    "                                        marker='o', linestyle='', color='k',capsize=5, linewidth=1)\n",
    "\n",
    "    [bar.set_alpha(0.5) for bar in bars]\n",
    "    [cap.set_alpha(0.5) for cap in caps]\n",
    "    \n",
    "    ax[i].axhline(svs_dfs[ensembles[i]]['median'].values, linestyle='--', color='red', linewidth=2, label='SVS-2 Initial\\nSWE')\n",
    "    ax[i].fill_between([0, 200], y1=[svs_dfs[ensembles[i]]['quart1'].values[0][0], svs_dfs[ensembles[i]]['quart1'].values[0][0]],\n",
    "                                 y2=[svs_dfs[ensembles[i]]['quart3'].values[0][0], svs_dfs[ensembles[i]]['quart3'].values[0][0]], \n",
    "                       color='red', linewidth=1, alpha = 0.5, label='SVS-2 Initial\\n$\\sigma_{SWE}$')\n",
    "    ax[i].plot([0,200],[0,200],'-',color='grey')\n",
    "    ax[i].set_xlim(0,200)\n",
    "    ax[i].set_ylim(0,200)\n",
    "    ax[i].set_xlabel('Measured SWE (mm)')\n",
    "    ax[i].text(75,175,'RMSE = \\n{:2.1f} mm'.format(np.sqrt(np.mean((swe_dfs[ensembles[i]]['Measure_median']-\n",
    "                                                                   swe_dfs[ensembles[i]]['Retrieved_median'])**2))))\n",
    "    ax[i].text(75,160,'RMSE = \\n{:2.1f}%'.format(np.sqrt(np.mean((swe_dfs[ensembles[i]]['Measure_median']-\n",
    "                                                                   swe_dfs[ensembles[i]]['Retrieved_median'])**2))/\n",
    "                                                swe_dfs[ensembles[i]]['Measure_median'].mean()*100))\n",
    "\n",
    "ax[0].set_ylabel('Retrieved SWE (mm)')\n",
    "ax[0].text(5,190,'a)')\n",
    "ax[1].text(5,190,'b)')\n",
    "ax[0].legend(loc=4);\n",
    "\n",
    "fig.savefig(FIGURE_DIR / 'f10.png')"
   ]
  },
  {
   "cell_type": "markdown",
   "id": "6d27505c-4641-4d98-8503-1cd7fe024442",
   "metadata": {},
   "source": [
    "<center><img src=\"../Figures/f10.png\" Width=\"1000px\"></center>\n",
    "\n",
    "<center>Figure 10 of <a href=https://doi.org/10.5194/tc-18-3857-2024>(Montpetit et al., Preprint)</a>: Comparison of the retrieved SWE using the MCMC approach with priors coming from the top 30 ensemble members of the Arctic versions of SVS-2 <a href=https://doi.org/10.5194/tc-18-5685-2024>(Woolley et al., 2024)</a> and a higher prior uncertainty on the SSA (σSSA) and an adding three more observations (different incidence angles), emulating the number of observations the TSMM would acquire. The error bars show the 1st and 3rd quartiles of the measured (x-axis) and posterior (y-axis) distributions.</center>"
   ]
  },
  {
   "cell_type": "code",
   "execution_count": null,
   "id": "9f6951d7-3a8e-427c-ae13-bf6d90579cee",
   "metadata": {},
   "outputs": [],
   "source": [
    "#Ensembles to compare\n",
    "ensembles = ['Arctic High Uncertainty','Arctic Four Observations','Arctic High SWE Uncertainty']\n",
    "\n",
    "fig, ax = plt.subplots(1,len(ensembles),figsize=(20,10))\n",
    "\n",
    "for i in range(len(ensembles)):\n",
    "  \n",
    "    ax[i].fill_between([0,200],y1=[30,230],y2=[-30,170], color='grey', alpha=0.5, label='TSMM \\nexpected \\naccuracy')\n",
    "    markers, caps, bars = ax[i].errorbar(swe_dfs[ensembles[i]]['Measure_median'],swe_dfs[ensembles[i]]['Retrieved_median'],\n",
    "                                        xerr=[swe_dfs[ensembles[i]]['Measure_median']-swe_dfs[ensembles[i]]['Measure_quart1'],\n",
    "                                              swe_dfs[ensembles[i]]['Measure_quart3']-swe_dfs[ensembles[i]]['Measure_median']],\n",
    "                                        yerr=[swe_dfs[ensembles[i]]['Retrieved_median']-swe_dfs[ensembles[i]]['Retrieved_quart1'],\n",
    "                                              swe_dfs[ensembles[i]]['Retrieved_quart3']-swe_dfs[ensembles[i]]['Retrieved_median']], \n",
    "                                        label='TVCExp18/19\\nRetrieval',\n",
    "                                        marker='o', linestyle='', color='k',capsize=5, linewidth=1)\n",
    "\n",
    "    [bar.set_alpha(0.5) for bar in bars]\n",
    "    [cap.set_alpha(0.5) for cap in caps]\n",
    "    \n",
    "    ax[i].axhline(svs_dfs[ensembles[i]]['median'].values, linestyle='--', color='red', linewidth=2, label='SVS-2 Initial\\nSWE')\n",
    "    ax[i].fill_between([0, 200], y1=[svs_dfs[ensembles[i]]['quart1'].values[0][0], svs_dfs[ensembles[i]]['quart1'].values[0][0]],\n",
    "                                 y2=[svs_dfs[ensembles[i]]['quart3'].values[0][0], svs_dfs[ensembles[i]]['quart3'].values[0][0]], \n",
    "                       color='red', linewidth=1, alpha = 0.5, label='SVS-2 Initial\\n$\\sigma_{SWE}$')\n",
    "    ax[i].plot([0,200],[0,200],'-',color='grey')\n",
    "    ax[i].set_xlim(0,200)\n",
    "    ax[i].set_ylim(0,200)\n",
    "    ax[i].set_xlabel('Measured SWE (mm)');\n",
    "    ax[i].text(75,175,'RMSE = \\n{:2.1f} mm'.format(np.sqrt(np.mean((swe_dfs[ensembles[i]]['Measure_median']-\n",
    "                                                                   swe_dfs[ensembles[i]]['Retrieved_median'])**2))))\n",
    "    ax[i].text(75,160,'RMSE = \\n{:2.1f}%'.format(np.sqrt(np.mean((swe_dfs[ensembles[i]]['Measure_median']-\n",
    "                                                                   swe_dfs[ensembles[i]]['Retrieved_median'])**2))/\n",
    "                                                swe_dfs[ensembles[i]]['Measure_median'].mean()*100))\n",
    "\n",
    "ax[0].set_ylabel('Retrieved SWE (mm)')\n",
    "ax[0].text(5,190,'a)')\n",
    "ax[1].text(5,190,'b)')\n",
    "ax[0].legend(loc=4);\n",
    "\n",
    "# fig.savefig(FIGURE_DIR / 'SWE_results_ArcticReview.png')"
   ]
  },
  {
   "cell_type": "code",
   "execution_count": null,
   "id": "55b68cfb-a649-436d-99de-5529927e9189",
   "metadata": {},
   "outputs": [],
   "source": [
    "#Ensembles to compare\n",
    "ensembles = ['Arctic High SWE Uncertainty']\n",
    "\n",
    "fig, ax = plt.subplots(1,len(ensembles),figsize=(20,10))\n",
    "\n",
    "for i in range(len(ensembles)):\n",
    "  \n",
    "    ax[i].fill_between([0,200],y1=[30,230],y2=[-30,170], color='grey', alpha=0.5, label='TSMM \\nexpected \\naccuracy')\n",
    "    markers, caps, bars = ax[i].errorbar(swe_dfs[ensembles[i]]['Measure_median'],swe_dfs[ensembles[i]]['Retrieved_median'],\n",
    "                                        xerr=[swe_dfs[ensembles[i]]['Measure_median']-swe_dfs[ensembles[i]]['Measure_quart1'],\n",
    "                                              swe_dfs[ensembles[i]]['Measure_quart3']-swe_dfs[ensembles[i]]['Measure_median']],\n",
    "                                        yerr=[swe_dfs[ensembles[i]]['Retrieved_median']-swe_dfs[ensembles[i]]['Retrieved_quart1'],\n",
    "                                              swe_dfs[ensembles[i]]['Retrieved_quart3']-swe_dfs[ensembles[i]]['Retrieved_median']], \n",
    "                                        label='TVCExp18/19\\nRetrieval',\n",
    "                                        marker='o', linestyle='', color='k',capsize=5, linewidth=1)\n",
    "\n",
    "    [bar.set_alpha(0.5) for bar in bars]\n",
    "    [cap.set_alpha(0.5) for cap in caps]\n",
    "    \n",
    "    ax[i].axhline(svs_dfs[ensembles[i]]['median'].values, linestyle='--', color='red', linewidth=2, label='SVS-2 Initial\\nSWE')\n",
    "    ax[i].fill_between([0, 200], y1=[svs_dfs[ensembles[i]]['quart1'].values[0][0], svs_dfs[ensembles[i]]['quart1'].values[0][0]],\n",
    "                                 y2=[svs_dfs[ensembles[i]]['quart3'].values[0][0], svs_dfs[ensembles[i]]['quart3'].values[0][0]], \n",
    "                       color='red', linewidth=1, alpha = 0.5, label='SVS-2 Initial\\n$\\sigma_{SWE}$')\n",
    "    ax[i].plot([0,200],[0,200],'-',color='grey')\n",
    "    ax[i].set_xlim(0,200)\n",
    "    ax[i].set_ylim(0,200)\n",
    "    ax[i].set_xlabel('Measured SWE (mm)')\n",
    "    ax[i].text(75,175,'RMSE = \\n{:2.1f} mm'.format(np.sqrt(np.mean((swe_dfs[ensembles[i]]['Measure_median']-\n",
    "                                                                   swe_dfs[ensembles[i]]['Retrieved_median'])**2))))\n",
    "    ax[i].text(75,160,'RMSE = \\n{:2.1f}%'.format(np.sqrt(np.mean((swe_dfs[ensembles[i]]['Measure_median']-\n",
    "                                                                   swe_dfs[ensembles[i]]['Retrieved_median'])**2))/\n",
    "                                                swe_dfs[ensembles[i]]['Measure_median'].mean()*100))\n",
    "\n",
    "ax[0].set_ylabel('Retrieved SWE (mm)')\n",
    "ax[0].text(5,190,'a)')\n",
    "ax[1].text(5,190,'b)')\n",
    "ax[0].legend(loc=4);\n",
    "\n",
    "# fig.savefig(FIGURE_DIR / 'SWE_results_ArcticReview.png')"
   ]
  },
  {
   "cell_type": "markdown",
   "id": "9a16d3c2-132f-427a-aa7c-45f11f957b36",
   "metadata": {},
   "source": [
    "# This next section was to determine if there was a correlation between radar backscatter and measured SWE on the ground. This follows the comment of Reviewer #1"
   ]
  },
  {
   "cell_type": "code",
   "execution_count": null,
   "id": "af38a4c9-08e2-46d6-9873-2c299f16282c",
   "metadata": {},
   "outputs": [],
   "source": [
    "\n",
    "sites = pd.DataFrame({'site':TVC02})\n",
    "sites.replace({'RS':'RP'}, regex=True, inplace=True)\n",
    "sites=list(sites.site.values)\n",
    "sites.remove('SC02')"
   ]
  },
  {
   "cell_type": "code",
   "execution_count": null,
   "id": "e28e2b2f-283f-4efe-8a5b-e6451c82a311",
   "metadata": {},
   "outputs": [],
   "source": [
    "sig0_obs = []\n",
    "\n",
    "for site in sites:\n",
    "    umass_tvc02_temp = umass_tvc02.loc[(umass_tvc02.site_id==site)]\n",
    "    umass_tvc02_temp = umass_tvc02_temp.loc[(umass_tvc02_temp.inc_mean-35).abs().idxmin()] #used in the case of 1 obs only\n",
    "    sig0_obs.append(umass_tvc02_temp['slc0_sig0_filt'])\n",
    "\n",
    "sig0_obs=np.array(sig0_obs).flatten()\n",
    "sig0_obs"
   ]
  },
  {
   "cell_type": "code",
   "execution_count": null,
   "id": "5c5cc63a-68b7-41bf-afb4-dac7d7d58a9e",
   "metadata": {},
   "outputs": [],
   "source": [
    "from sklearn.metrics import r2_score\n",
    "r2_score(10*np.log10(sig0_obs),swe_dfs['Arctic High Uncertainty']['Retrieved_median'].values)"
   ]
  },
  {
   "cell_type": "code",
   "execution_count": null,
   "id": "4ac0b4a5-4137-49d5-a99b-ad20d818eaef",
   "metadata": {},
   "outputs": [],
   "source": [
    "plt.plot(10*np.log10(sig0_obs), swe_dfs['Arctic High Uncertainty']['Retrieved_median'].values,'xk')\n",
    "plt.xlabel('$\\sigma^0$ (dB)')\n",
    "plt.ylabel('Retrieved SWE (mm)')"
   ]
  },
  {
   "cell_type": "markdown",
   "id": "d41e592b-794c-47d8-a1b2-902c36409be4",
   "metadata": {},
   "source": [
    "# This section generates a dataframe for the 10 000 iterations test and generate the figure published in [Montpetit et al. (Preprint)](TBD)"
   ]
  },
  {
   "cell_type": "code",
   "execution_count": null,
   "id": "39b8e6b4-c268-47e8-a2c5-6ade7365f3d0",
   "metadata": {},
   "outputs": [],
   "source": [
    "if os.path.isfile(MCMC_OUTPUTS / 'SWE_Arctic_draws.csv'):\n",
    "\n",
    "    df_swe_arctic_draws=pd.read_csv(MCMC_OUTPUTS / 'SWE_Arctic_draws.csv')\n",
    "\n",
    "else:\n",
    "\n",
    "    files = sorted(MCMC_OUTPUTS.glob('*4obs_Arctic_WSRMSE_conditions.nc'))\n",
    "    \n",
    "    df_swe_arctic_draws = pd.DataFrame({'Site':[]})\n",
    "    \n",
    "    for file in files:\n",
    "    \n",
    "        site=file.name.split('_')[2]\n",
    "    \n",
    "        if site not in df_swe_arctic_draws.Site.values:\n",
    "    \n",
    "            for draw in range(100,10100,100):\n",
    "        \n",
    "                idata=az.from_netcdf(file)\n",
    "                idata = idata.sel(draw=slice(draw))\n",
    "                \n",
    "                idata.posterior = idata.posterior.assign(SWE=(idata.posterior['Density_R']*idata.posterior['Thickness_R']+\n",
    "                                                              idata.posterior['Density_H']*idata.posterior['Thickness_H']))\n",
    "                df_swe_arctic_draws = pd.concat([df_swe_arctic_draws,\n",
    "                                        pd.DataFrame({'Site':[site],'Draw':[draw],\n",
    "                                                      'Measure_median':[snowpit_stats.sel(site=site, property='swe', grain_type='R')['median'].values],\n",
    "                                                      'Measure_std':[snowpit_stats.sel(site=site, property='swe', grain_type='R')['std'].values],\n",
    "                                                      'Measure_quart1':[snowpit_stats.sel(site=site, property='swe', grain_type='R')['quart1'].values],\n",
    "                                                      'Measure_quart3':[snowpit_stats.sel(site=site, property='swe', grain_type='R')['quart3'].values],\n",
    "                                                      'Retrieved_median':[idata.posterior['SWE'].median().values],\n",
    "                                                      'Retrieved_std':[idata.posterior['SWE'].std().values],\n",
    "                                                      'Retrieved_quart1':[idata.posterior['SWE'].quantile(0.25).values],\n",
    "                                                      'Retrieved_quart3':[idata.posterior['SWE'].quantile(0.75).values],\n",
    "                                                      'rhat':[az.rhat(idata)['SWE'].values],\n",
    "                                                      'ess':[az.ess(idata)['SWE'].values]})],\n",
    "                                       ignore_index=True)\n",
    "    \n",
    "    df_swe_arctic_draws['bias'] = df_swe_arctic_draws.Measure_median-df_swe_arctic_draws.Retrieved_median\n",
    "    df_swe_arctic_draws.to_csv(MCMC_OUTPUTS / 'SWE_Arctic_draws.csv')\n",
    "df_swe_arctic_draws.sort_values('Site')"
   ]
  },
  {
   "cell_type": "code",
   "execution_count": null,
   "id": "50e5d814-db30-462d-87c0-4cf06d249f9c",
   "metadata": {},
   "outputs": [],
   "source": [
    "fig, ax = plt.subplots(3,1,figsize=(7,14))\n",
    "\n",
    "#R_hat subplot\n",
    "\n",
    "y1=df_swe_arctic_draws.groupby('Draw').rhat.min().values.astype(np.float32)\n",
    "y2=df_swe_arctic_draws.groupby('Draw').rhat.max().values.astype(np.float32)\n",
    "\n",
    "ax[0].plot(range(100,10100,100), \n",
    "         df_swe_arctic_draws.groupby('Draw').rhat.agg(lambda x: np.median(x)),'k', label='Mean $\\\\hat{R}$')\n",
    "ax[0].fill_between(range(100,10100,100),\n",
    "               y1=y2,\n",
    "               y2=y1, color='k', alpha=0.5, label='Min/Max $\\\\hat{R}$ \\nrange')\n",
    "ax[0].axhline(1.01,linestyle='--',color='r', label='Acceptable $\\\\hat{R}$ \\nthreshold')\n",
    "ax[0].set_ylabel('$\\\\hat{R}$')\n",
    "ax[0].set_xlim(0,10000)\n",
    "ax[0].set_xticklabels('')\n",
    "ax[0].legend()\n",
    "\n",
    "#ESS subplot\n",
    "\n",
    "y1=df_swe_arctic_draws.groupby('Draw').ess.min().values.astype(np.float32)\n",
    "y2=df_swe_arctic_draws.groupby('Draw').ess.max().values.astype(np.float32)\n",
    "\n",
    "ax[1].plot(range(100,10100,100), \n",
    "         df_swe_arctic_draws.groupby('Draw').ess.mean(), 'k', label='Mean ESS')\n",
    "ax[1].fill_between(range(100,10100,100),\n",
    "               y1=y2,\n",
    "               y2=y1, color='k', alpha=0.5, label='Min/Max \\nESS range')\n",
    "ax[1].axhline(100,linestyle='--',color='r', label='Acceptable ESS \\nthreshold')\n",
    "ax[1].set_ylabel('ESS')\n",
    "ax[1].set_xlim(0,10000)\n",
    "ax[1].set_xticklabels('')\n",
    "ax[1].set_ylim(0,3000)\n",
    "ax[1].legend()\n",
    "\n",
    "#RMSE subplot\n",
    "\n",
    "ax[2].plot(range(100,10100,100), \n",
    "         np.sqrt(df_swe_arctic_draws.groupby('Draw').bias.apply(lambda x: x**2).groupby(level=0).mean().values.astype(np.float32)),\n",
    "          color='k')\n",
    "ax[2].set_ylabel('RMSE (mm)')\n",
    "ax[2].set_xlabel('Number of iterations')\n",
    "ax[2].set_xlim(0,10000);\n",
    "\n",
    "fig.savefig(FIGURE_DIR / 'f07.png')"
   ]
  },
  {
   "cell_type": "markdown",
   "id": "5cd5e208-b397-4542-a39f-e23beccab4df",
   "metadata": {},
   "source": [
    "<center><img src=\"../Figures/f07.png\" Width=\"500px\"></center>\n",
    "\n",
    "<center>Figure 7 of <a href=https://doi.org/10.5194/tc-18-3857-2024>(Montpetit et al., Preprint)</a>: Evolution of a) the inter-chain convergence ($\\hat{R}$), b) the Equivalent Sample Size (ESS), and c) the root-mean-square-error (RMSE), over 10 000 iterations. The published, acceptable threshold for the $\\hat{R}$ and ESS are also shown.</center>"
   ]
  },
  {
   "cell_type": "markdown",
   "id": "3f2ba1ac-cafe-429f-ac9d-51154d297aee",
   "metadata": {},
   "source": [
    "## The next cell generates the MCMC trace plot, showing the prior/posterior distributions (left) and the evolution of the sampled variables (right) for the runs using the default SVS-2 versionand inter-layer constraints"
   ]
  },
  {
   "cell_type": "code",
   "execution_count": null,
   "id": "07b47bbf-6547-45d8-ac7d-18ef063019f2",
   "metadata": {
    "scrolled": true
   },
   "outputs": [],
   "source": [
    "var_names = ['Thickness_R','Thickness_H',\n",
    "             'Density_R','Density_H',\n",
    "             'SSA_R','SSA_H',\n",
    "             'SWE','Sigma']\n",
    "variables = ['thickness','thickness',\n",
    "            'density','density',\n",
    "            'ssa','ssa',\n",
    "            'swe']\n",
    "gtypes=['R','H','R','H','R','H','R','H']\n",
    "xmins=[0,0,100,100,5,5,0,0]\n",
    "xmaxs=[1,1,450,450,50,50,300,2.5]\n",
    "\n",
    "for site in list(df_swe_arctic6.Site):\n",
    "\n",
    "    idata_site = az.from_netcdf('../Data/MCMC_Output_'+site+'_1obs_Default.nc')\n",
    "    idata_site.posterior = idata_site.posterior.assign(SWE=(idata_site.posterior['Density_R']*idata_site.posterior['Thickness_R']+\n",
    "                                                          idata_site.posterior['Density_H']*idata_site.posterior['Thickness_H']))\n",
    "    idata_site.prior = idata_site.prior.assign(SWE=(idata_site.prior['Density_R']*idata_site.prior['Thickness_R']+\n",
    "                                                          idata_site.prior['Density_H']*idata_site.prior['Thickness_H']))\n",
    "    \n",
    "    fig, ax = plt.subplots(8,2,figsize=(10,20))\n",
    "    \n",
    "    for i in range(len(var_names)):\n",
    "    \n",
    "        idata_site.prior[var_names[i]].mean(dim='chain').to_dataframe().plot(ax=ax[i,0],kind='density',color='grey',\n",
    "                                                                             label='Prior',legend=None,alpha=0.7)\n",
    "        idata_site.posterior[var_names[i]].isel(draw=slice(0,5000)).median(dim='chain').to_dataframe().plot(ax=ax[i,0],kind='density',color='k',\n",
    "                                                                                 label='Posterior',legend=None)\n",
    "        idata_site.posterior[var_names[i]].isel(draw=slice(0,5000)).median(dim='chain').to_dataframe().plot(ax=ax[i,1],color='k',legend=None)\n",
    "    \n",
    "        y1=idata_site.posterior[var_names[i]].isel(draw=slice(0,5000)).min(dim='chain').values\n",
    "        y2=idata_site.posterior[var_names[i]].isel(draw=slice(0,5000)).max(dim='chain').values\n",
    "        ax[i,1].fill_between(range(5000),y1=y2,y2=y1,color='k',alpha=0.5)\n",
    "        \n",
    "        if i<7:\n",
    "    \n",
    "            x=np.linspace(xmins[i],xmaxs[i],200)\n",
    "            ax[i,0].plot(x, norm.pdf(x,loc=snowpit_stats.sel(site=site, property=variables[i], grain_type=gtypes[i])['median'].values,\n",
    "                               scale=snowpit_stats.sel(site=site, property=variables[i], grain_type=gtypes[i])['std'].values), \n",
    "                       color='cyan', linewidth=2,alpha=0.7)\n",
    "            \n",
    "        ax[i,0].set_xlabel(var_names[i])\n",
    "        ax[i,0].set_ylabel('')\n",
    "        ax[i,1].set_ylabel(var_names[i])\n",
    "        ax[i,1].set_xlabel('')\n",
    "        ax[i,0].yaxis.set_major_formatter(FormatStrFormatter('%0.2f'))\n",
    "    \n",
    "    ax[0,0].set_xlim(0,1)\n",
    "    ax[1,0].set_xlim(0,1)\n",
    "    ax[2,0].set_xlim(100,450)\n",
    "    ax[3,0].set_xlim(100,450)\n",
    "    ax[4,0].set_xlim(5,50)\n",
    "    ax[5,0].set_xlim(5,50)\n",
    "    ax[6,0].set_xlim(0,300)\n",
    "    ax[7,0].set_xlim(0,2.5)\n",
    "    \n",
    "    ax[3,0].set_ylabel('PDF')\n",
    "    ax[7,1].set_xlabel('Iteration')\n",
    "    ax[0,0].legend(['Prior','Posterior','Snowpits'],loc=1);\n",
    "    fig.savefig(FIGURE_DIR / f'TracePlot_{site}_Default.png')"
   ]
  },
  {
   "cell_type": "markdown",
   "id": "76246c40-3038-41a3-b1ef-94f9d7b8f03a",
   "metadata": {},
   "source": [
    "## The next cell generates the MCMC trace plot, showing the prior/posterior distributions (left) and the evolution of the sampled variables (right) for the runs using the Arctic SVS-2 version with three times the uncertainty on the SSA priors, four observations, and inter-layer constraints"
   ]
  },
  {
   "cell_type": "code",
   "execution_count": null,
   "id": "f169f225-ea49-4e1c-8bf6-6a22fd17e97f",
   "metadata": {
    "scrolled": true
   },
   "outputs": [],
   "source": [
    "var_names = ['Thickness_R','Thickness_H',\n",
    "             'Density_R','Density_H',\n",
    "             'SSA_R','SSA_H',\n",
    "             'SWE','Sigma']\n",
    "variables = ['thickness','thickness',\n",
    "            'density','density',\n",
    "            'ssa','ssa',\n",
    "            'swe']\n",
    "gtypes=['R','H','R','H','R','H','R','H']\n",
    "xmins=[0,0,100,100,5,5,0,0]\n",
    "xmaxs=[1,1,450,450,50,50,300,2.5]\n",
    "\n",
    "for site in list(df_swe_arctic6.Site):\n",
    "\n",
    "    idata_site = az.from_netcdf('../Data/MCMC_Outputs/MCMC_Output_'+site+'_4obs_Arctic_WSRMSE_conditions.nc')\n",
    "    idata_site.posterior = idata_site.posterior.assign(SWE=(idata_site.posterior['Density_R']*idata_site.posterior['Thickness_R']+\n",
    "                                                          idata_site.posterior['Density_H']*idata_site.posterior['Thickness_H']))\n",
    "    idata_site.prior = idata_site.prior.assign(SWE=(idata_site.prior['Density_R']*idata_site.prior['Thickness_R']+\n",
    "                                                          idata_site.prior['Density_H']*idata_site.prior['Thickness_H']))\n",
    "    \n",
    "    fig, ax = plt.subplots(8,2,figsize=(10,20))\n",
    "    \n",
    "    for i in range(len(var_names)):\n",
    "    \n",
    "        idata_site.prior[var_names[i]].mean(dim='chain').to_dataframe().plot(ax=ax[i,0],kind='density',color='grey',\n",
    "                                                                             label='Prior',legend=None,alpha=0.7)\n",
    "        idata_site.posterior[var_names[i]].isel(draw=slice(0,5000)).median(dim='chain').to_dataframe().plot(ax=ax[i,0],kind='density',color='k',\n",
    "                                                                                 label='Posterior',legend=None)\n",
    "        idata_site.posterior[var_names[i]].isel(draw=slice(0,5000)).median(dim='chain').to_dataframe().plot(ax=ax[i,1],color='k',legend=None)\n",
    "    \n",
    "        y1=idata_site.posterior[var_names[i]].isel(draw=slice(0,5000)).min(dim='chain').values\n",
    "        y2=idata_site.posterior[var_names[i]].isel(draw=slice(0,5000)).max(dim='chain').values\n",
    "        ax[i,1].fill_between(range(5000),y1=y2,y2=y1,color='k',alpha=0.5)\n",
    "        \n",
    "        if i<7:\n",
    "    \n",
    "            x=np.linspace(xmins[i],xmaxs[i],200)\n",
    "            ax[i,0].plot(x, norm.pdf(x,loc=snowpit_stats.sel(site=site, property=variables[i], grain_type=gtypes[i])['median'].values,\n",
    "                               scale=snowpit_stats.sel(site=site, property=variables[i], grain_type=gtypes[i])['std'].values), \n",
    "                       color='cyan', linewidth=2,alpha=0.7)\n",
    "            \n",
    "        ax[i,0].set_xlabel(var_names[i])\n",
    "        ax[i,0].set_ylabel('')\n",
    "        ax[i,1].set_ylabel(var_names[i])\n",
    "        ax[i,1].set_xlabel('')\n",
    "        ax[i,0].yaxis.set_major_formatter(FormatStrFormatter('%0.2f'))\n",
    "    \n",
    "    ax[0,0].set_xlim(0,1)\n",
    "    ax[1,0].set_xlim(0,1)\n",
    "    ax[2,0].set_xlim(100,450)\n",
    "    ax[3,0].set_xlim(100,450)\n",
    "    ax[4,0].set_xlim(5,50)\n",
    "    ax[5,0].set_xlim(5,50)\n",
    "    ax[6,0].set_xlim(0,300)\n",
    "    ax[7,0].set_xlim(0,2.5)\n",
    "    \n",
    "    ax[3,0].set_ylabel('PDF')\n",
    "    ax[7,1].set_xlabel('Iteration')\n",
    "    ax[0,0].legend(['Prior','Posterior','Snowpits'],loc=1);\n",
    "    fig.savefig(FIGURE_DIR / f'TracePlot_{site}_Final.png')"
   ]
  },
  {
   "cell_type": "markdown",
   "id": "ab8f6850-73cf-4c8c-85b2-2ebdf416f61f",
   "metadata": {},
   "source": [
    "## The next cell generates the MCMC trace plot, showing the prior/posterior distributions (left) and the evolution of the sampled variables (right) for the runs using the Arctic SVS-2 version with three times the uncertainty on the SSA priors, four observations, and without inter-layer constraints"
   ]
  },
  {
   "cell_type": "code",
   "execution_count": null,
   "id": "9d60874e-081b-4297-ac6e-90dc501db4ca",
   "metadata": {
    "scrolled": true
   },
   "outputs": [],
   "source": [
    "var_names = ['Thickness_R','Thickness_H',\n",
    "             'Density_R','Density_H',\n",
    "             'SSA_R','SSA_H',\n",
    "             'SWE','Sigma']\n",
    "variables = ['thickness','thickness',\n",
    "            'density','density',\n",
    "            'ssa','ssa',\n",
    "            'swe']\n",
    "gtypes=['R','H','R','H','R','H','R','H']\n",
    "xmins=[0,0,100,100,5,5,0,0]\n",
    "xmaxs=[1,1,450,450,50,50,300,2.5]\n",
    "\n",
    "for site in list(df_swe_arctic6.Site):\n",
    "\n",
    "    filepaths = list(MCMC_OUTPUTS.glob(f'MCMC_Output_{site}_*_4obs_Arctic.nc'))\n",
    "    idata_site = az.from_netcdf(filepaths[0])\n",
    "    idata_site.posterior = idata_site.posterior.assign(SWE=(idata_site.posterior['Density_R']*idata_site.posterior['Thickness_R']+\n",
    "                                                          idata_site.posterior['Density_H']*idata_site.posterior['Thickness_H']))\n",
    "    idata_site.prior = idata_site.prior.assign(SWE=(idata_site.prior['Density_R']*idata_site.prior['Thickness_R']+\n",
    "                                                          idata_site.prior['Density_H']*idata_site.prior['Thickness_H']))\n",
    "    \n",
    "    fig, ax = plt.subplots(8,2,figsize=(10,20))\n",
    "    \n",
    "    for i in range(len(var_names)):\n",
    "    \n",
    "        idata_site.prior[var_names[i]].mean(dim='chain').to_dataframe().plot(ax=ax[i,0],kind='density',color='grey',\n",
    "                                                                             label='Prior',legend=None,alpha=0.7)\n",
    "        idata_site.posterior[var_names[i]].isel(draw=slice(0,5000)).median(dim='chain').to_dataframe().plot(ax=ax[i,0],kind='density',color='k',\n",
    "                                                                                 label='Posterior',legend=None)\n",
    "        idata_site.posterior[var_names[i]].isel(draw=slice(0,5000)).median(dim='chain').to_dataframe().plot(ax=ax[i,1],color='k',legend=None)\n",
    "    \n",
    "        y1=idata_site.posterior[var_names[i]].isel(draw=slice(0,5000)).min(dim='chain').values\n",
    "        y2=idata_site.posterior[var_names[i]].isel(draw=slice(0,5000)).max(dim='chain').values\n",
    "        ax[i,1].fill_between(range(5000),y1=y2,y2=y1,color='k',alpha=0.5)\n",
    "        \n",
    "        if i<7:\n",
    "    \n",
    "            x=np.linspace(xmins[i],xmaxs[i],200)\n",
    "            ax[i,0].plot(x, norm.pdf(x,loc=snowpit_stats.sel(site=site, property=variables[i], grain_type=gtypes[i])['median'].values,\n",
    "                               scale=snowpit_stats.sel(site=site, property=variables[i], grain_type=gtypes[i])['std'].values), \n",
    "                       color='cyan', linewidth=2,alpha=0.7)\n",
    "            \n",
    "        ax[i,0].set_xlabel(var_names[i])\n",
    "        ax[i,0].set_ylabel('')\n",
    "        ax[i,1].set_ylabel(var_names[i])\n",
    "        ax[i,1].set_xlabel('')\n",
    "        ax[i,0].yaxis.set_major_formatter(FormatStrFormatter('%0.2f'))\n",
    "    \n",
    "    ax[0,0].set_xlim(0,1)\n",
    "    ax[1,0].set_xlim(0,1)\n",
    "    ax[2,0].set_xlim(100,450)\n",
    "    ax[3,0].set_xlim(100,450)\n",
    "    ax[4,0].set_xlim(5,50)\n",
    "    ax[5,0].set_xlim(5,50)\n",
    "    ax[6,0].set_xlim(0,300)\n",
    "    ax[7,0].set_xlim(0,2.5)\n",
    "    \n",
    "    ax[3,0].set_ylabel('PDF')\n",
    "    ax[7,1].set_xlabel('Iteration')\n",
    "    ax[0,0].legend(['Prior','Posterior','Snowpits'],loc=1);\n",
    "    fig.savefig(FIGURE_DIR / f'TracePlot_{site}Free.png')"
   ]
  },
  {
   "cell_type": "markdown",
   "id": "fab8b89e-df42-4f1a-b8a7-b09d2ff62388",
   "metadata": {},
   "source": [
    "# This next section calculates the statistics between the prior and posterior distributions."
   ]
  },
  {
   "cell_type": "code",
   "execution_count": null,
   "id": "38ccfe7f-bc79-48d7-b15e-da9bf56034f4",
   "metadata": {},
   "outputs": [],
   "source": [
    "idata_default = az.from_netcdf(DATA_DIR / 'MCMC_Output_SM02_1obs_Default.nc')\n",
    "idata_final = az.from_netcdf(MCMC_OUTPUTS / 'MCMC_Output_SM02_4obs_Arctic_WSRMSE_conditions.nc')\n",
    "filepaths = list(MCMC_OUTPUTS.glob('MCMC_Output_SM02_*_4obs_Arctic.nc'))\n",
    "idata_free = az.from_netcdf(filepaths[0])"
   ]
  },
  {
   "cell_type": "code",
   "execution_count": null,
   "id": "962fa905-ac0b-4e9a-9bb7-73dba822cdb1",
   "metadata": {},
   "outputs": [],
   "source": [
    "idata_default.posterior = idata_default.posterior.assign(SWE=(idata_default.posterior['Density_R']*idata_default.posterior['Thickness_R']+\n",
    "                                                      idata_default.posterior['Density_H']*idata_default.posterior['Thickness_H']))\n",
    "idata_default.prior = idata_default.prior.assign(SWE=(idata_default.prior['Density_R']*idata_default.prior['Thickness_R']+\n",
    "                                                      idata_default.prior['Density_H']*idata_default.prior['Thickness_H']))\n",
    "\n",
    "idata_final.posterior = idata_final.posterior.assign(SWE=(idata_final.posterior['Density_R']*idata_final.posterior['Thickness_R']+\n",
    "                                                      idata_final.posterior['Density_H']*idata_final.posterior['Thickness_H']))\n",
    "idata_final.prior = idata_final.prior.assign(SWE=(idata_final.prior['Density_R']*idata_final.prior['Thickness_R']+\n",
    "                                                      idata_final.prior['Density_H']*idata_final.prior['Thickness_H']))\n",
    "\n",
    "idata_free.posterior = idata_free.posterior.assign(SWE=(idata_free.posterior['Density_R']*idata_free.posterior['Thickness_R']+\n",
    "                                                      idata_free.posterior['Density_H']*idata_free.posterior['Thickness_H']))\n",
    "idata_free.prior = idata_free.prior.assign(SWE=(idata_free.prior['Density_R']*idata_free.prior['Thickness_R']+\n",
    "                                                      idata_free.prior['Density_H']*idata_free.prior['Thickness_H']))"
   ]
  },
  {
   "cell_type": "markdown",
   "id": "9dd6463f-de6e-4e50-9487-d95e3a5b2212",
   "metadata": {},
   "source": [
    "# Posterior vs Prior differences Default SVS-2"
   ]
  },
  {
   "cell_type": "code",
   "execution_count": null,
   "id": "6d79356b-5491-4732-b5f6-6c1282f438d2",
   "metadata": {},
   "outputs": [],
   "source": [
    "var_names = ['Thickness_R','Thickness_H',\n",
    "             'Density_R','Density_H',\n",
    "             'SSA_R','SSA_H',\n",
    "             'SWE','Sigma']\n",
    "variables = ['thickness','thickness',\n",
    "            'density','density',\n",
    "            'ssa','ssa',\n",
    "            'swe','sigma']\n",
    "gtypes=['R','H','R','H','R','H','R','H']\n",
    "units=['m','m','kg m-3','kg m-3','m2 kg-1','m2 kg-1','mm','dB']\n",
    "\n",
    "for i in range(len(variables)):\n",
    "\n",
    "    print(var_names[i] + ' : ' + '{:.3f}'.format((idata_default.posterior[var_names[i]].isel(draw=slice(0,5000)).median(dim='chain').to_dataframe().median() - \n",
    "      idata_default.prior[var_names[i]].isel(draw=slice(0,5000)).median(dim='chain').to_dataframe().median()).values[0]) + ' ' + units[i])"
   ]
  },
  {
   "cell_type": "markdown",
   "id": "441c62c3-ed50-4263-afb4-bc08be8478c1",
   "metadata": {},
   "source": [
    "Thickness_R : -0.144 m  \n",
    "Thickness_H : 0.038 m  \n",
    "Density_R : 4.917 kg m$^{-3}$  \n",
    "Density_H : -0.126 kg m$^{-3}$  \n",
    "SSA_R : 1.701 m$^2$ kg$^{-1}$  \n",
    "SSA_H : 0.693 m$^2$ kg$^{-1}$  \n",
    "SWE : -24.483 mm  \n",
    "Sigma : -0.000 dB  "
   ]
  },
  {
   "cell_type": "code",
   "execution_count": null,
   "id": "e85fa9e4-0b61-498e-8e40-f7329e1c5e94",
   "metadata": {},
   "outputs": [],
   "source": [
    "for i in range(len(variables)):\n",
    "\n",
    "    print(var_names[i] + ' : ' + '{:.3f}'.format(idata_default.posterior[var_names[i]].isel(draw=slice(0,5000)).median(dim='chain').to_dataframe().std().values[0]) + ' - '\n",
    "                                 '{:.3f}'.format(idata_default.prior[var_names[i]].isel(draw=slice(0,5000)).median(dim='chain').to_dataframe().std().values[0]) + ' = '\n",
    "                                                  '{:.3f}'.format((idata_default.posterior[var_names[i]].isel(draw=slice(0,5000)).median(dim='chain').to_dataframe().std() - \n",
    "      idata_default.prior[var_names[i]].isel(draw=slice(0,5000)).median(dim='chain').to_dataframe().std()).values[0]) + ' ' + units[i])"
   ]
  },
  {
   "cell_type": "markdown",
   "id": "939c2a54-8dd9-442a-9cd9-d8d0f1b57bb8",
   "metadata": {},
   "source": [
    "Thickness_R : 0.020 - 0.080 = -0.060 m  \n",
    "Thickness_H : 0.017 - 0.039 = -0.022 m  \n",
    "Density_R : 8.984 - 15.083 = -6.098 kg m$^{-3}$  \n",
    "Density_H : 10.311 - 29.048 = -18.737 kg m$^{-3}$  \n",
    "SSA_R : 2.249 - 3.520 = -1.271 m$^2$ kg$^{-1}$  \n",
    "SSA_H : 1.011 - 2.055 = -1.044 m$^2$ kg$^{-1}$  \n",
    "SWE : 8.041 - 20.014 = -11.973 mm  \n",
    "Sigma : 0.244 - 0.466 = -0.222 dB  "
   ]
  },
  {
   "cell_type": "markdown",
   "id": "00b92332-799c-435c-89c4-12ca2b494f50",
   "metadata": {},
   "source": [
    "Posterior - Snowpit"
   ]
  },
  {
   "cell_type": "code",
   "execution_count": null,
   "id": "f0f8a8b1-b95d-48be-8a60-490bedf1e0eb",
   "metadata": {},
   "outputs": [],
   "source": [
    "for i in range(len(variables)-1):\n",
    "\n",
    "    print(var_names[i] + ' : ' + '{:.3f}'.format((idata_default.posterior[var_names[i]].isel(draw=slice(0,5000)).median(dim='chain').to_dataframe().median() - \n",
    "      snowpit_stats.sel(site='SM02', property=variables[i], grain_type=gtypes[i])['median'].values).values[0]) + ' ' + units[i])"
   ]
  },
  {
   "cell_type": "markdown",
   "id": "06c7b7d0-897b-426f-b291-29cfd7e26b3c",
   "metadata": {},
   "source": [
    "Thickness_R : 0.006 m  \n",
    "Thickness_H : -0.040 m  \n",
    "Density_R : -124.363 kg m$^{-3}$  \n",
    "Density_H : -41.858 kg m$^{-3}$  \n",
    "SSA_R : -18.715 m$^2$ kg$^{-1}$  \n",
    "SSA_H : -1.440 m$^2$ kg$^{-1}$  \n",
    "SWE : -36.135 mm  "
   ]
  },
  {
   "cell_type": "markdown",
   "id": "ae8c7ccc-df25-428a-a096-fd87e0f9d9eb",
   "metadata": {},
   "source": [
    "Prior - Snowpit"
   ]
  },
  {
   "cell_type": "code",
   "execution_count": null,
   "id": "f78da49e-1272-4b82-9509-c4e59b8b5012",
   "metadata": {},
   "outputs": [],
   "source": [
    "for i in range(len(variables)-1):\n",
    "\n",
    "    print(var_names[i] + ' : ' + '{:.3f}'.format((idata_default.prior[var_names[i]].isel(draw=slice(0,5000)).median(dim='chain').to_dataframe().median() - \n",
    "      snowpit_stats.sel(site='SM02', property=variables[i], grain_type=gtypes[i])['median'].values).values[0]) + ' ' + units[i])"
   ]
  },
  {
   "cell_type": "markdown",
   "id": "96672e05-f095-437c-9f88-ddfdc5e0b47a",
   "metadata": {},
   "source": [
    "Thickness_R : 0.150 m  \n",
    "Thickness_H : -0.078 m  \n",
    "Density_R : -129.280 kg m$^{-3}$   \n",
    "Density_H : -41.732 kg m$^{-3}$  \n",
    "SSA_R : -20.416 m$^2$ kg$^{-1}$  \n",
    "SSA_H : -2.133 m$^2$ kg$^{-1}$  \n",
    "SWE : -11.652 mm"
   ]
  },
  {
   "cell_type": "markdown",
   "id": "01974e36-c2c3-4b0e-afe2-954d4ef4ee01",
   "metadata": {},
   "source": [
    "Sigma values"
   ]
  },
  {
   "cell_type": "code",
   "execution_count": null,
   "id": "5e6ee5f6-eea8-40e2-a242-0d901d6b28b5",
   "metadata": {},
   "outputs": [],
   "source": [
    "print('{:.3f}'.format((idata_default.prior['Sigma'].isel(draw=slice(0,5000)).median(dim='chain').to_dataframe().median()).values[0]))\n",
    "print('{:.3f}'.format((idata_default.posterior['Sigma'].isel(draw=slice(0,5000)).median(dim='chain').to_dataframe().median()).values[0]))\n",
    "print('{:.3f}'.format((idata_default.posterior['Sigma'].isel(draw=slice(0,5000)).median(dim='chain').to_dataframe().quantile(0.25)).values[0]))"
   ]
  },
  {
   "cell_type": "markdown",
   "id": "776819bc-19e6-4dec-8004-12b6f39aaeb8",
   "metadata": {},
   "source": [
    "Median prior $\\sigma$ = 1.094 dB  \n",
    "Median posterior $\\sigma$ = 1.094 dB  \n",
    "1st quartile of posterior $\\sigma$ = 0.904 dB  "
   ]
  },
  {
   "cell_type": "markdown",
   "id": "b2b36b11-af91-4b0e-bc95-1cd7ae79e0b0",
   "metadata": {},
   "source": [
    "# Posterior vs Prior differences Arctic SVS-2"
   ]
  },
  {
   "cell_type": "code",
   "execution_count": null,
   "id": "1523ea7d-fac1-4b45-94a6-be225143c5fa",
   "metadata": {},
   "outputs": [],
   "source": [
    "for i in range(len(variables)):\n",
    "\n",
    "    print(var_names[i] + ' : ' + '{:.3f}'.format((idata_final.posterior[var_names[i]].isel(draw=slice(0,5000)).median(dim='chain').to_dataframe().median() - \n",
    "      idata_final.prior[var_names[i]].isel(draw=slice(0,5000)).median(dim='chain').to_dataframe().median()).values[0]) + ' ' + units[i])"
   ]
  },
  {
   "cell_type": "markdown",
   "id": "fc1b76a7-ec2a-4221-bef6-8ae05f671482",
   "metadata": {},
   "source": [
    "Thickness_R : -0.165 m  \n",
    "Thickness_H : 0.058 m  \n",
    "Density_R : 33.160 kg m$^{-3}$  \n",
    "Density_H : 12.615 kg m$^{-3}$  \n",
    "SSA_R : 4.557 m$^2$ kg$^{-1}$  \n",
    "SSA_H : 0.551 m$^2$ kg$^{-1}$  \n",
    "SWE : -24.741 mm  \n",
    "Sigma : 0.120 dB"
   ]
  },
  {
   "cell_type": "code",
   "execution_count": null,
   "id": "f6409810-5291-4f58-b596-55e50feda081",
   "metadata": {},
   "outputs": [],
   "source": [
    "for i in range(len(variables)):\n",
    "\n",
    "    print(var_names[i] + ' : ' + '{:.3f}'.format(idata_final.posterior[var_names[i]].isel(draw=slice(0,5000)).median(dim='chain').to_dataframe().std().values[0]) + ' - '\n",
    "                                 '{:.3f}'.format(idata_final.prior[var_names[i]].isel(draw=slice(0,5000)).median(dim='chain').to_dataframe().std().values[0]) + ' = '\n",
    "                                                  '{:.3f}'.format((idata_final.posterior[var_names[i]].isel(draw=slice(0,5000)).median(dim='chain').to_dataframe().std() - \n",
    "      idata_final.prior[var_names[i]].isel(draw=slice(0,5000)).median(dim='chain').to_dataframe().std()).values[0]) + ' ' + units[i])"
   ]
  },
  {
   "cell_type": "markdown",
   "id": "3eebbc61-1583-48d6-a1b6-138c7d3c5399",
   "metadata": {},
   "source": [
    "Thickness_R : 0.033 - 0.142 = -0.109 m  \n",
    "Thickness_H : 0.033 - 0.069 = -0.036 m  \n",
    "Density_R : 34.155 - 79.049 = -44.894 kg m$^{-3}$  \n",
    "Density_H : 11.046 - 30.577 = -19.531 kg m$^{-3}$  \n",
    "SSA_R : 4.403 - 10.308 = -5.905 m$^2$ kg$^{-1}$  \n",
    "SSA_H : 1.737 - 4.757 = -3.020 m$^2$ kg$^{-1}$  \n",
    "SWE : 15.516 - 50.590 = -35.074 mm  \n",
    "Sigma : 0.163 - 0.475 = -0.312 dB"
   ]
  },
  {
   "cell_type": "markdown",
   "id": "e1ea6ed3-ca18-4149-a152-7aeb70de8520",
   "metadata": {},
   "source": [
    "Posterior - Snowpit"
   ]
  },
  {
   "cell_type": "code",
   "execution_count": null,
   "id": "dbff75f6-480d-45d3-be3c-3de15f47c245",
   "metadata": {},
   "outputs": [],
   "source": [
    "for i in range(len(variables)-1):\n",
    "\n",
    "    print(var_names[i] + ' : ' + '{:.3f}'.format((idata_final.posterior[var_names[i]].isel(draw=slice(0,5000)).median(dim='chain').to_dataframe().median() - \n",
    "      snowpit_stats.sel(site='SM02', property=variables[i], grain_type=gtypes[i])['median'].values).values[0]) + ' ' + units[i])"
   ]
  },
  {
   "cell_type": "markdown",
   "id": "e20701d4-d477-4a3f-8d2c-139a7fbd262e",
   "metadata": {},
   "source": [
    "Thickness_R : 0.001 m  \n",
    "Thickness_H : -0.009 m  \n",
    "Density_R : -50.328 kg m$^{-3}$  \n",
    "Density_H : -31.100 kg m$^{-3}$  \n",
    "SSA_R : -6.979 m$^2$ kg$^{-1}$  \n",
    "SSA_H : 3.241 m$^2$ kg$^{-1}$  \n",
    "SWE : -18.495 mm"
   ]
  },
  {
   "cell_type": "markdown",
   "id": "00065c7c-c037-4c6f-bcec-6df060690abd",
   "metadata": {},
   "source": [
    "Prior-Snowpit"
   ]
  },
  {
   "cell_type": "code",
   "execution_count": null,
   "id": "73c5d9ad-ce16-418e-8f29-50aded122f4a",
   "metadata": {},
   "outputs": [],
   "source": [
    "for i in range(len(variables)-1):\n",
    "\n",
    "    print(var_names[i] + ' : ' + '{:.3f}'.format((idata_final.prior[var_names[i]].isel(draw=slice(0,5000)).median(dim='chain').to_dataframe().median() - \n",
    "      snowpit_stats.sel(site='SM02', property=variables[i], grain_type=gtypes[i])['median'].values).values[0]) + ' ' + units[i])"
   ]
  },
  {
   "cell_type": "markdown",
   "id": "7a683dcb-caa6-404d-a772-1b9d2d29c34d",
   "metadata": {},
   "source": [
    "Thickness_R : 0.166 m  \n",
    "Thickness_H : -0.066 m  \n",
    "Density_R : -83.488 kg m$^{-3}$  \n",
    "Density_H : -43.715 kg m$^{-3}$  \n",
    "SSA_R : -11.536 m$^2$ kg$^{-1}$  \n",
    "SSA_H : 2.689 m$^2$ kg$^{-1}$  \n",
    "SWE : 6.246 mm"
   ]
  },
  {
   "cell_type": "markdown",
   "id": "07a87ccb-2d44-4e66-abd3-fb3ed6f4ecb0",
   "metadata": {},
   "source": [
    "Sigma"
   ]
  },
  {
   "cell_type": "code",
   "execution_count": null,
   "id": "48641c75-3117-4fe4-bbf2-da786859a4b5",
   "metadata": {},
   "outputs": [],
   "source": [
    "print('{:.3f}'.format((idata_final.prior['Sigma'].isel(draw=slice(0,5000)).median(dim='chain').to_dataframe().median()).values[0]))\n",
    "print('{:.3f}'.format((idata_final.posterior['Sigma'].isel(draw=slice(0,5000)).median(dim='chain').to_dataframe().median()).values[0]))\n",
    "print('{:.3f}'.format((idata_final.posterior['Sigma'].isel(draw=slice(0,5000)).median(dim='chain').to_dataframe().quantile(0.25)).values[0]))"
   ]
  },
  {
   "cell_type": "markdown",
   "id": "9ecbd4fc-964d-4bb0-bc61-c14bc87c9896",
   "metadata": {},
   "source": [
    "Median prior $\\sigma$ = 1.116 dB  \n",
    "Median posterior $\\sigma$ = 1.236 dB  \n",
    "1st quartile of posterior $\\sigma$ = 1.125 dB  "
   ]
  },
  {
   "cell_type": "markdown",
   "id": "4452093e-7b75-404f-88c1-61f0341cd4b8",
   "metadata": {},
   "source": [
    "# Posterior vs Prior differences Default SVS-2 free MCMC snow parameterization"
   ]
  },
  {
   "cell_type": "code",
   "execution_count": null,
   "id": "adf3f1a9-bc74-47c8-aa18-f8be8f416cb1",
   "metadata": {},
   "outputs": [],
   "source": [
    "for i in range(len(variables)):\n",
    "\n",
    "    print(var_names[i] + ' : ' + '{:.3f}'.format((idata_free.posterior[var_names[i]].isel(draw=slice(0,5000)).median(dim='chain').to_dataframe().median() - \n",
    "      idata_free.prior[var_names[i]].isel(draw=slice(0,5000)).median(dim='chain').to_dataframe().median()).values[0]) + ' ' + units[i])"
   ]
  },
  {
   "cell_type": "markdown",
   "id": "b77262d6-c90a-49c8-b4c0-7626f03ca17a",
   "metadata": {},
   "source": [
    "Thickness_R : -0.001 m  \n",
    "Thickness_H : -0.011 m  \n",
    "Density_R : 1.902 kg m$^{-3}$  \n",
    "Density_H : 40.770 kg m$^{-3}$  \n",
    "SSA_R : 2.306 m$^2$ kg$^{-1}$  \n",
    "SSA_H : 2.619 m$^2$ kg$^{-1}$  \n",
    "SWE : 4.860 mm  \n",
    "Sigma : 0.069 dB"
   ]
  },
  {
   "cell_type": "code",
   "execution_count": null,
   "id": "c8824f4e-af81-4c07-bf3d-cd54badf7888",
   "metadata": {},
   "outputs": [],
   "source": [
    "for i in range(len(variables)):\n",
    "\n",
    "    print(var_names[i] + ' : ' + '{:.3f}'.format(idata_free.posterior[var_names[i]].isel(draw=slice(0,5000)).median(dim='chain').to_dataframe().std().values[0]) + ' - '\n",
    "                                 '{:.3f}'.format(idata_free.prior[var_names[i]].isel(draw=slice(0,5000)).median(dim='chain').to_dataframe().std().values[0]) + ' = '\n",
    "                                                  '{:.3f}'.format((idata_free.posterior[var_names[i]].isel(draw=slice(0,5000)).median(dim='chain').to_dataframe().std() - \n",
    "      idata_free.prior[var_names[i]].isel(draw=slice(0,5000)).median(dim='chain').to_dataframe().std()).values[0]) + ' ' + units[i])"
   ]
  },
  {
   "cell_type": "markdown",
   "id": "998f0598-adfa-4a17-8a86-ed5a35171943",
   "metadata": {},
   "source": [
    "Thickness_R : 0.041 - 0.077 = -0.036 m  \n",
    "Thickness_H : 0.019 - 0.039 = -0.020 m  \n",
    "Density_R : 7.080 - 14.785 = -7.705 kg m$^{-3}$  \n",
    "Density_H : 11.442 - 29.949 = -18.508 kg m$^{-3}$  \n",
    "SSA_R : 2.241 - 3.494 = -1.253 m$^2$ kg$^{-1}$  \n",
    "SSA_H : 1.175 - 1.944 = -0.770 m$^{2}$ kg$^{-1}$  \n",
    "SWE : 10.826 - 19.508 = -8.682 mm  \n",
    "Sigma : 0.211 - 0.478 = -0.267 dB"
   ]
  },
  {
   "cell_type": "markdown",
   "id": "fe396383-a4f4-4e6f-beff-b2d3a0b5be1d",
   "metadata": {},
   "source": [
    "Posterior - snowpit"
   ]
  },
  {
   "cell_type": "code",
   "execution_count": null,
   "id": "ab20364f-08fb-4fed-aed1-a5815fa6236a",
   "metadata": {},
   "outputs": [],
   "source": [
    "for i in range(len(variables)-1):\n",
    "\n",
    "    print(var_names[i] + ' : ' + '{:.3f}'.format((idata_free.posterior[var_names[i]].isel(draw=slice(0,5000)).median(dim='chain').to_dataframe().median() - \n",
    "      snowpit_stats.sel(site='SM02', property=variables[i], grain_type=gtypes[i])['median'].values).values[0]) + ' ' + units[i])"
   ]
  },
  {
   "cell_type": "markdown",
   "id": "448991a8-0be0-475e-a546-6665952895c9",
   "metadata": {},
   "source": [
    "Thickness_R : 0.149 m  \n",
    "Thickness_H : -0.090 m  \n",
    "Density_R : -127.621 kg m$^{-3}$  \n",
    "Density_H : 0.296 kg m$^{-3}$  \n",
    "SSA_R : -18.195 m$^2$ kg$^{-1}$  \n",
    "SSA_H : 0.238 m$^2$ kg$^{-1}$  \n",
    "SWE : -8.439 mm"
   ]
  },
  {
   "cell_type": "markdown",
   "id": "c912874c-8409-45ff-a8cf-84fc009662f0",
   "metadata": {},
   "source": [
    "Prior - Snowpit"
   ]
  },
  {
   "cell_type": "code",
   "execution_count": null,
   "id": "b5374a73-e78e-45bc-b803-e846baf6388c",
   "metadata": {},
   "outputs": [],
   "source": [
    "for i in range(len(variables)-1):\n",
    "\n",
    "    print(var_names[i] + ' : ' + '{:.3f}'.format((idata_free.prior[var_names[i]].isel(draw=slice(0,5000)).median(dim='chain').to_dataframe().median() - \n",
    "      snowpit_stats.sel(site='SM02', property=variables[i], grain_type=gtypes[i])['median'].values).values[0]) + ' ' + units[i])"
   ]
  },
  {
   "cell_type": "markdown",
   "id": "268b5dbe-16c6-4530-ab15-33c1d00cffdd",
   "metadata": {},
   "source": [
    "Thickness_R : 0.150 m  \n",
    "Thickness_H : -0.078 m  \n",
    "Density_R : -129.524 kg m$^{-3}$  \n",
    "Density_H : -40.474 kg m$^{-3}$  \n",
    "SSA_R : -20.502 m$^2$ kg$^{-1}$  \n",
    "SSA_H : -2.381 m$^2$ kg$^{-1}$  \n",
    "SWE : -13.299 mm"
   ]
  },
  {
   "cell_type": "markdown",
   "id": "07a60991-847a-47eb-bfd0-ab44383c481d",
   "metadata": {},
   "source": [
    "Sigma"
   ]
  },
  {
   "cell_type": "code",
   "execution_count": null,
   "id": "4af482ae-23aa-4ceb-9af7-2389fefa9e96",
   "metadata": {},
   "outputs": [],
   "source": [
    "print('{:.3f}'.format((idata_free.prior['Sigma'].isel(draw=slice(0,5000)).median(dim='chain').to_dataframe().median()).values[0]))\n",
    "print('{:.3f}'.format((idata_free.posterior['Sigma'].isel(draw=slice(0,5000)).median(dim='chain').to_dataframe().median()).values[0]))\n",
    "print('{:.3f}'.format((idata_free.posterior['Sigma'].isel(draw=slice(0,5000)).median(dim='chain').to_dataframe().quantile(0.25)).values[0]))"
   ]
  },
  {
   "cell_type": "markdown",
   "id": "b6ecf627-f851-44d1-85ce-b8c5f114ad09",
   "metadata": {},
   "source": [
    "Median prior $\\sigma$ = 1.121 dB  \n",
    "Median posterior $\\sigma$ = 1.189 dB  \n",
    "1st quartile of posterior $\\sigma$ = 1.044 dB  "
   ]
  },
  {
   "cell_type": "markdown",
   "id": "a9fbffdb-1691-47f9-af06-ffea63b414a6",
   "metadata": {},
   "source": [
    "# Posterior differences between default and Arctic SVS-2"
   ]
  },
  {
   "cell_type": "code",
   "execution_count": null,
   "id": "6916e992-3ccf-4274-8948-aa37d1e52114",
   "metadata": {},
   "outputs": [],
   "source": [
    "for i in range(len(variables)):\n",
    "\n",
    "    print(var_names[i] + ' : ' + '{:.3f}'.format((idata_default.posterior[var_names[i]].isel(draw=slice(0,5000)).median(dim='chain').to_dataframe().median() - \n",
    "      idata_final.posterior[var_names[i]].isel(draw=slice(0,5000)).median(dim='chain').to_dataframe().median()).values[0]) + ' ' + units[i])"
   ]
  },
  {
   "cell_type": "markdown",
   "id": "eebfc495-99cb-4f41-b4af-4ec529d8a13f",
   "metadata": {},
   "source": [
    "Thickness_R : 0.005 m  \n",
    "Thickness_H : -0.031 m  \n",
    "Density_R : -74.035 kg m$^{-3}$  \n",
    "Density_H : -10.758 kg m$^{-3}$  \n",
    "SSA_R : -11.736 m$^2$ kg$^{-1}$  \n",
    "SSA_H : -4.681 m$^2$ kg$^{-1}$  \n",
    "SWE : -17.640 mm  \n",
    "Sigma : -0.142 dB"
   ]
  },
  {
   "cell_type": "code",
   "execution_count": null,
   "id": "82569646-9b39-4892-8d20-feb66409ad31",
   "metadata": {},
   "outputs": [],
   "source": [
    "for i in range(len(variables)):\n",
    "\n",
    "    print(var_names[i] + ' : ' + '{:.3f}'.format(idata_default.posterior[var_names[i]].isel(draw=slice(0,5000)).median(dim='chain').to_dataframe().std().values[0]) + ' - '\n",
    "                                 '{:.3f}'.format(idata_final.posterior[var_names[i]].isel(draw=slice(0,5000)).median(dim='chain').to_dataframe().std().values[0]) + ' = '\n",
    "                                                  '{:.3f}'.format((idata_default.posterior[var_names[i]].isel(draw=slice(0,5000)).median(dim='chain').to_dataframe().std() - \n",
    "      idata_final.posterior[var_names[i]].isel(draw=slice(0,5000)).median(dim='chain').to_dataframe().std()).values[0]) + ' ' + units[i])"
   ]
  },
  {
   "cell_type": "markdown",
   "id": "f3728298-30b0-4fab-b119-283d1301faff",
   "metadata": {},
   "source": [
    "Thickness_R : 0.020 - 0.033 = -0.013 m  \n",
    "Thickness_H : 0.017 - 0.033 = -0.015 m  \n",
    "Density_R : 8.984 - 34.155 = -25.170 kg m$^{-3}$  \n",
    "Density_H : 10.311 - 11.046 = -0.735 kg m$^{-3}$  \n",
    "SSA_R : 2.249 - 4.403 = -2.154 m$^2$ kg$^{-1}$  \n",
    "SSA_H : 1.011 - 1.737 = -0.726 m$^2$ kg$^{-1}$  \n",
    "SWE : 8.041 - 15.516 = -7.475 mm  \n",
    "Sigma : 0.244 - 0.163 = 0.081 dB"
   ]
  },
  {
   "cell_type": "markdown",
   "id": "f6e339b1-503a-4311-b177-e378c93099d0",
   "metadata": {},
   "source": [
    "# Posterior differences between constrained and free MCMC"
   ]
  },
  {
   "cell_type": "code",
   "execution_count": null,
   "id": "84b4e4c4-b759-4246-8bed-e8810f09aff7",
   "metadata": {},
   "outputs": [],
   "source": [
    "for i in range(len(variables)):\n",
    "\n",
    "    print(var_names[i] + ' : ' + '{:.3f}'.format((idata_default.posterior[var_names[i]].isel(draw=slice(0,5000)).median(dim='chain').to_dataframe().median() - \n",
    "      idata_free.posterior[var_names[i]].isel(draw=slice(0,5000)).median(dim='chain').to_dataframe().median()).values[0]) + ' ' + units[i])"
   ]
  },
  {
   "cell_type": "markdown",
   "id": "0a6d38b3-5aec-4cba-b713-89694005b2ad",
   "metadata": {},
   "source": [
    "Thickness_R : -0.143 m  \n",
    "Thickness_H : 0.050 m  \n",
    "Density_R : 3.259 kg m$^{-3}$  \n",
    "Density_H : -42.154 kg m$^{-3}$  \n",
    "SSA_R : -0.519 m$^2$ kg$^{-1}$  \n",
    "SSA_H : -1.678 m$^2$ kg$^{-1}$  \n",
    "SWE : -27.697 mm  \n",
    "Sigma : -0.095 dB"
   ]
  },
  {
   "cell_type": "code",
   "execution_count": null,
   "id": "f0c81041-bfe8-4153-99a3-12697f3947ff",
   "metadata": {},
   "outputs": [],
   "source": [
    "for i in range(len(variables)):\n",
    "\n",
    "    print(var_names[i] + ' : ' + '{:.3f}'.format(idata_default.posterior[var_names[i]].isel(draw=slice(0,5000)).median(dim='chain').to_dataframe().std().values[0]) + ' - '\n",
    "                                 '{:.3f}'.format(idata_free.posterior[var_names[i]].isel(draw=slice(0,5000)).median(dim='chain').to_dataframe().std().values[0]) + ' = '\n",
    "                                                  '{:.3f}'.format((idata_default.posterior[var_names[i]].isel(draw=slice(0,5000)).median(dim='chain').to_dataframe().std() - \n",
    "      idata_free.posterior[var_names[i]].isel(draw=slice(0,5000)).median(dim='chain').to_dataframe().std()).values[0]) + ' ' + units[i])"
   ]
  },
  {
   "cell_type": "markdown",
   "id": "a0865782-9fdb-4ee7-8d20-b752af10ee28",
   "metadata": {},
   "source": [
    "Thickness_R : 0.020 - 0.041 = -0.020 m  \n",
    "Thickness_H : 0.017 - 0.019 = -0.002 m  \n",
    "Density_R : 8.984 - 7.080 = 1.904 kg m$^{-3}$  \n",
    "Density_H : 10.311 - 11.442 = -1.131 kg m$^{-3}$  \n",
    "SSA_R : 2.249 - 2.241 = 0.008 m$^2$ kg$^{-1}$  \n",
    "SSA_H : 1.011 - 1.175 = -0.163 m$^2$ kg$^{-1}$  \n",
    "SWE : 8.041 - 10.826 = -2.785 mm  \n",
    "Sigma : 0.244 - 0.211 = 0.033 dB"
   ]
  },
  {
   "cell_type": "markdown",
   "id": "a28c6bd3-3e99-4321-9144-d9efccd64c42",
   "metadata": {},
   "source": [
    "# Posterior differences between Arctic SVS-2 and free MCMC"
   ]
  },
  {
   "cell_type": "code",
   "execution_count": null,
   "id": "a70c22d8-5c8e-4639-ad0b-8c6efd2661ec",
   "metadata": {},
   "outputs": [],
   "source": [
    "for i in range(len(variables)):\n",
    "\n",
    "    print(var_names[i] + ' : ' + '{:.3f}'.format((idata_final.posterior[var_names[i]].isel(draw=slice(0,5000)).median(dim='chain').to_dataframe().median() - \n",
    "      idata_free.posterior[var_names[i]].isel(draw=slice(0,5000)).median(dim='chain').to_dataframe().median()).values[0]) + ' ' + units[i])"
   ]
  },
  {
   "cell_type": "markdown",
   "id": "64ef0acc-4c14-4ef0-a958-ca18a247d7db",
   "metadata": {},
   "source": [
    "Thickness_R : -0.148 m  \n",
    "Thickness_H : 0.081 m  \n",
    "Density_R : 77.294 kg m$^{-3}$  \n",
    "Density_H : -31.395 kg m$^{-3}$  \n",
    "SSA_R : 11.216 m$^2$ kg$^{-1}$  \n",
    "SSA_H : 3.002 m$^2$ kg$^{-1}$  \n",
    "SWE : -10.056 mm  \n",
    "Sigma : 0.047 dB"
   ]
  },
  {
   "cell_type": "code",
   "execution_count": null,
   "id": "f228e581-a20b-4f65-9ba6-093a743bd729",
   "metadata": {},
   "outputs": [],
   "source": [
    "for i in range(len(variables)):\n",
    "\n",
    "    print(var_names[i] + ' : ' + '{:.3f}'.format(idata_final.posterior[var_names[i]].isel(draw=slice(0,5000)).median(dim='chain').to_dataframe().std().values[0]) + ' - '\n",
    "                                 '{:.3f}'.format(idata_free.posterior[var_names[i]].isel(draw=slice(0,5000)).median(dim='chain').to_dataframe().std().values[0]) + ' = '\n",
    "                                                  '{:.3f}'.format((idata_final.posterior[var_names[i]].isel(draw=slice(0,5000)).median(dim='chain').to_dataframe().std() - \n",
    "      idata_free.posterior[var_names[i]].isel(draw=slice(0,5000)).median(dim='chain').to_dataframe().std()).values[0]) + ' ' + units[i])"
   ]
  },
  {
   "cell_type": "markdown",
   "id": "c33734b6-5605-44a8-9550-14531146096b",
   "metadata": {},
   "source": [
    "Thickness_R : 0.033 - 0.041 = -0.008 m  \n",
    "Thickness_H : 0.033 - 0.019 = 0.013 m  \n",
    "Density_R : 34.155 - 7.080 = 27.075 kg m$^{-3}$  \n",
    "Density_H : 11.046 - 11.442 = -0.396 kg m$^{-3}$  \n",
    "SSA_R : 4.403 - 2.241 = 2.162 m$^2$ kg$^{-1}$  \n",
    "SSA_H : 1.737 - 1.175 = 0.562 m$^2$ kg$^{-1}$  \n",
    "SWE : 15.516 - 10.826 = 4.690 mm  \n",
    "Sigma : 0.163 - 0.211 = -0.048 dB"
   ]
  },
  {
   "cell_type": "markdown",
   "id": "05f0ac69-06f4-4bef-8592-14ca41df88e4",
   "metadata": {},
   "source": [
    "# This section shows extra tests that were done to support discussions in [Montpetit et al. (Preprint)](https://doi.org)"
   ]
  },
  {
   "cell_type": "markdown",
   "id": "a140813b-0f7f-4aa4-b5eb-0d0b1f7a3d56",
   "metadata": {},
   "source": [
    "## Shows MCMC outputs on SM site [(see Figure 2 and Tables 2 and 6 of Montpetit et al., 2024)](https://tc.copernicus.org/articles/18/3857/2024/#&gid=1&pid=1)"
   ]
  },
  {
   "cell_type": "markdown",
   "id": "6435ae79-224f-49c6-9b12-e2396ef019eb",
   "metadata": {},
   "source": [
    "### Test when SWE prior is 2x greater than SVS-2 output"
   ]
  },
  {
   "cell_type": "code",
   "execution_count": null,
   "id": "ba0677da-a0ba-47c5-8309-86053e90a8da",
   "metadata": {},
   "outputs": [],
   "source": [
    "var_names = ['Thickness_R','Thickness_H',\n",
    "             'Density_R','Density_H',\n",
    "             'SSA_R','SSA_H',\n",
    "             'SWE','Sigma']\n",
    "variables = ['thickness','thickness',\n",
    "            'density','density',\n",
    "            'ssa','ssa',\n",
    "            'swe']\n",
    "gtypes=['R','H','R','H','R','H','R','H']\n",
    "xmins=[0,0,100,100,5,5,0,0]\n",
    "xmaxs=[1,1,450,450,50,50,300,2.5]\n",
    "\n",
    "site = 'SM02'\n",
    "\n",
    "idata_site = az.from_netcdf(DATA_DIR / 'MCMC_Output_SM02_4obs_2xSWEoffTest_cond.nc')\n",
    "idata_site.posterior = idata_site.posterior.assign(SWE=(idata_site.posterior['Density_R']*idata_site.posterior['Thickness_R']+\n",
    "                                                      idata_site.posterior['Density_H']*idata_site.posterior['Thickness_H']))\n",
    "idata_site.prior = idata_site.prior.assign(SWE=(idata_site.prior['Density_R']*idata_site.prior['Thickness_R']+\n",
    "                                                      idata_site.prior['Density_H']*idata_site.prior['Thickness_H']))\n",
    "\n",
    "fig, ax = plt.subplots(8,2,figsize=(10,20))\n",
    "\n",
    "for i in range(len(var_names)):\n",
    "\n",
    "    idata_site.prior[var_names[i]].mean(dim='chain').to_dataframe().plot(ax=ax[i,0],kind='density',color='grey',\n",
    "                                                                         label='Prior',legend=None,alpha=0.7)\n",
    "    idata_site.posterior[var_names[i]].isel(draw=slice(0,5000)).median(dim='chain').to_dataframe().plot(ax=ax[i,0],kind='density',color='k',\n",
    "                                                                             label='Posterior',legend=None)\n",
    "    idata_site.posterior[var_names[i]].isel(draw=slice(0,5000)).median(dim='chain').to_dataframe().plot(ax=ax[i,1],color='k',legend=None)\n",
    "\n",
    "    y1=idata_site.posterior[var_names[i]].isel(draw=slice(0,5000)).min(dim='chain').values\n",
    "    y2=idata_site.posterior[var_names[i]].isel(draw=slice(0,5000)).max(dim='chain').values\n",
    "    ax[i,1].fill_between(range(5000),y1=y2,y2=y1,color='k',alpha=0.5)\n",
    "    \n",
    "    if i<7:\n",
    "\n",
    "        x=np.linspace(xmins[i],xmaxs[i],200)\n",
    "        ax[i,0].plot(x, norm.pdf(x,loc=snowpit_stats.sel(site=site, property=variables[i], grain_type=gtypes[i])['median'].values,\n",
    "                           scale=snowpit_stats.sel(site=site, property=variables[i], grain_type=gtypes[i])['std'].values), \n",
    "                   color='cyan', linewidth=2,alpha=0.7)\n",
    "        \n",
    "    ax[i,0].set_xlabel(var_names[i])\n",
    "    ax[i,0].set_ylabel('')\n",
    "    ax[i,1].set_ylabel(var_names[i])\n",
    "    ax[i,1].set_xlabel('')\n",
    "    ax[i,0].yaxis.set_major_formatter(FormatStrFormatter('%0.2f'))\n",
    "\n",
    "    ax[0,0].set_xlim(0,1)\n",
    "    ax[1,0].set_xlim(0,1)\n",
    "    ax[2,0].set_xlim(100,450)\n",
    "    ax[3,0].set_xlim(100,450)\n",
    "    ax[4,0].set_xlim(5,50)\n",
    "    ax[5,0].set_xlim(5,50)\n",
    "    ax[6,0].set_xlim(0,300)\n",
    "    ax[7,0].set_xlim(0,2.5)\n",
    "    \n",
    "    ax[3,0].set_ylabel('PDF')\n",
    "    ax[7,1].set_xlabel('Iteration')\n",
    "    ax[0,0].legend(['Prior','Posterior','Snowpits'],loc=1);\n",
    "    fig.savefig(FIGURE_DIR / f'TracePlot_{site}_2xSWEoffTest_cond.png')"
   ]
  },
  {
   "cell_type": "markdown",
   "id": "057863ad-ec0d-42ba-a8b7-be499447f6c9",
   "metadata": {},
   "source": [
    "MB: the image displayed below is `TracePlot_SM02_2xSWEoffGoodSSATest_cond.png` but the code produces `TracePlot_{site}_2xSWEoffTest_cond`\n",
    "<center><img src=\"../Figures/TracePlot_SM02_2xSWEoffGoodSSATest_cond.png\" Width=\"500px\"></center>\n",
    "\n",
    "<center>Figure: Traceplot of the MCMC optimization when SWE prior is 2x greater than SVS-2 output.</center>"
   ]
  },
  {
   "cell_type": "markdown",
   "id": "4cdaa44c-0bf7-4faf-afc3-4274ec92419a",
   "metadata": {},
   "source": [
    "Here we see that after 5000 iterations, the posterior SWE is closer to the surveyed SWE but shows a larger error than previous tests. This is most likely due to the lower sensitivity to the rounded grain layer. When the prior estimate is so great, the MCMC method would most likely need more iterations to properly estimate SWE."
   ]
  },
  {
   "cell_type": "code",
   "execution_count": null,
   "id": "916a789d-9cbd-40b2-9ed4-ef055809acb6",
   "metadata": {},
   "outputs": [],
   "source": [
    "plt.plot(idata_site.posterior['Density_R'].isel(draw=slice(4000,5000)).values.flatten(),\n",
    "         idata_site.posterior['SSA_R'].isel(draw=slice(4000,5000)).values.flatten(), \n",
    "          'x')\n",
    "plt.ylabel('SSA')\n",
    "plt.xlabel('Density')"
   ]
  },
  {
   "cell_type": "code",
   "execution_count": null,
   "id": "f1a9af7b-3c8d-49e3-94f0-220b79d84ca3",
   "metadata": {},
   "outputs": [],
   "source": [
    "var_names = ['Thickness_R','Thickness_H',\n",
    "             'Density_R','Density_H',\n",
    "             'SSA_R','SSA_H',\n",
    "             'SWE','Sigma']\n",
    "variables = ['thickness','thickness',\n",
    "            'density','density',\n",
    "            'ssa','ssa',\n",
    "            'swe']\n",
    "gtypes=['R','H','R','H','R','H','R','H']\n",
    "xmins=[0,0,100,100,5,5,0,0]\n",
    "xmaxs=[1,1,450,450,50,50,300,2.5]\n",
    "\n",
    "site = 'SM02'\n",
    "\n",
    "idata_site = az.from_netcdf(DATA_DIR / f'MCMC_Output_{site}_4obs_ArcticTop30_SSA-Density_FinalFinalTest.nc')\n",
    "idata_site.posterior = idata_site.posterior.assign(SWE=(idata_site.posterior['Density_R']*idata_site.posterior['Thickness_R']+\n",
    "                                                      idata_site.posterior['Density_H']*idata_site.posterior['Thickness_H']))\n",
    "idata_site.prior = idata_site.prior.assign(SWE=(idata_site.prior['Density_R']*idata_site.prior['Thickness_R']+\n",
    "                                                      idata_site.prior['Density_H']*idata_site.prior['Thickness_H']))\n",
    "\n",
    "fig, ax = plt.subplots(8,2,figsize=(10,20))\n",
    "\n",
    "for i in range(len(var_names)):\n",
    "\n",
    "    idata_site.prior[var_names[i]].mean(dim='chain').to_dataframe().plot(ax=ax[i,0],kind='density',color='grey',\n",
    "                                                                         label='Prior',legend=None,alpha=0.7);\n",
    "    idata_site.posterior[var_names[i]].isel(draw=slice(0,5000)).median(dim='chain').to_dataframe().plot(ax=ax[i,0],kind='density',color='k',\n",
    "                                                                             label='Posterior',legend=None);\n",
    "    idata_site.posterior[var_names[i]].isel(draw=slice(0,5000)).median(dim='chain').to_dataframe().plot(ax=ax[i,1],color='k',legend=None);\n",
    "\n",
    "    y1=idata_site.posterior[var_names[i]].isel(draw=slice(0,5000)).min(dim='chain').values\n",
    "    y2=idata_site.posterior[var_names[i]].isel(draw=slice(0,5000)).max(dim='chain').values\n",
    "    ax[i,1].fill_between(range(5000),y1=y2,y2=y1,color='k',alpha=0.5)\n",
    "    \n",
    "    if i<7:\n",
    "\n",
    "        x=np.linspace(xmins[i],xmaxs[i],200)\n",
    "        ax[i,0].plot(x, norm.pdf(x,loc=snowpit_stats.sel(site=site, property=variables[i], grain_type=gtypes[i])['median'].values,\n",
    "                           scale=snowpit_stats.sel(site=site, property=variables[i], grain_type=gtypes[i])['std'].values), \n",
    "                   color='cyan', linewidth=2,alpha=0.7)\n",
    "        \n",
    "    ax[i,0].set_xlabel(var_names[i])\n",
    "    ax[i,0].set_ylabel('')\n",
    "    ax[i,1].set_ylabel(var_names[i])\n",
    "    ax[i,1].set_xlabel('')\n",
    "    ax[i,0].yaxis.set_major_formatter(FormatStrFormatter('%0.2f'))\n",
    "\n",
    "    ax[0,0].set_xlim(0,1)\n",
    "    ax[1,0].set_xlim(0,1)\n",
    "    ax[2,0].set_xlim(100,450)\n",
    "    ax[3,0].set_xlim(100,450)\n",
    "    ax[4,0].set_xlim(5,50)\n",
    "    ax[5,0].set_xlim(5,50)\n",
    "    ax[6,0].set_xlim(0,300)\n",
    "    ax[7,0].set_xlim(0,2.5)\n",
    "    \n",
    "    ax[3,0].set_ylabel('PDF')\n",
    "    ax[7,1].set_xlabel('Iteration')\n",
    "    ax[0,0].legend(['Prior','Posterior','Snowpits'],loc=1);\n",
    "    # fig.savefig(FIGURE_DIR / f'TracePlot_{site}_2xSWEoffTest_cond.png')"
   ]
  },
  {
   "cell_type": "markdown",
   "id": "db6fbd02-3b69-4cbc-b5f8-066b10e22f22",
   "metadata": {},
   "source": [
    "# This next section compares the SWE uncertainty from the sampled thickness and density and compares it to \"theoretical\" thickness. This follows the comment of Reviewer Dr. Michel Durand and credit to his piece of code below calc_σ_SWE"
   ]
  },
  {
   "cell_type": "code",
   "execution_count": null,
   "id": "5fdf571c-ce13-41bd-b0cb-6d1a533cc901",
   "metadata": {},
   "outputs": [],
   "source": [
    "def calc_σ_SWE(dz1,dz2,ρ1,ρ2,σdz1,σdz2,σρ1,σρ2):\n",
    "    '''\n",
    "        function to calculate SWE and SWE uncertainty from layered thickness and density and their uncertainty\n",
    "\n",
    "        inputs: \n",
    "           dz1,dz1: layer thickness for layers 1 and 2 [m]\n",
    "           ρ1,ρ2: density for layers 1 and 2 [kg/m3]\n",
    "           σdz1,σdz2: layer thickness uncertainty for layers 1 and 2 [m]\n",
    "           σρ1,σρ2: density uncertainty for layers 1 and 2 [kg/m3]\n",
    "        outputs:\n",
    "           SWE [m]\n",
    "           σSWE: SWE uncertainty [m]\n",
    "        \n",
    "    '''\n",
    "    ρw=1000.\n",
    "\n",
    "    SWE=dz1*ρ1/ρw + dz2*ρ2/ρw \n",
    "\n",
    "    # compute SWE variance\n",
    "    σ2SWE = dz1**2/ρw**2*σρ1**2 + ρ1**2/ρw**2*σdz1**2+ \\\n",
    "            dz2**2/ρw**2*σρ2**2 + ρ2**2/ρw**2*σdz2**2\n",
    "\n",
    "    σSWE=σ2SWE**.5\n",
    "\n",
    "    return SWE,σSWE"
   ]
  },
  {
   "cell_type": "code",
   "execution_count": null,
   "id": "8050a1dd-b6fb-4f41-a7a1-0a6e2a559b2e",
   "metadata": {},
   "outputs": [],
   "source": [
    "idata_site.prior['SWE'].mean(dim='chain').to_dataframe().std()"
   ]
  },
  {
   "cell_type": "code",
   "execution_count": null,
   "id": "58d855a4-9126-4a3f-8d8d-a1f7283ffb59",
   "metadata": {},
   "outputs": [],
   "source": [
    "SWE,sigSWE=calc_σ_SWE(idata_site.prior['Thickness_R'].mean(dim='chain').to_dataframe().mean().values,\n",
    "                      idata_site.prior['Thickness_H'].mean(dim='chain').to_dataframe().mean().values,\n",
    "                      idata_site.prior['Density_R'].mean(dim='chain').to_dataframe().mean().values,\n",
    "                      idata_site.prior['Density_H'].mean(dim='chain').to_dataframe().mean().values,\n",
    "                      idata_site.prior['Thickness_R'].mean(dim='chain').to_dataframe().std().values,\n",
    "                      idata_site.prior['Thickness_H'].mean(dim='chain').to_dataframe().std().values,\n",
    "                      idata_site.prior['Density_R'].mean(dim='chain').to_dataframe().std().values,\n",
    "                      idata_site.prior['Density_H'].mean(dim='chain').to_dataframe().std().values)"
   ]
  },
  {
   "cell_type": "code",
   "execution_count": null,
   "id": "6fc742c9-2e80-47d0-a5c1-f3b986448480",
   "metadata": {},
   "outputs": [],
   "source": [
    "sigSWE"
   ]
  },
  {
   "cell_type": "code",
   "execution_count": null,
   "id": "df7bd419-2bfc-4175-8cbc-189ac53bb630",
   "metadata": {},
   "outputs": [],
   "source": [
    "priors = xr.open_dataset(DATA_DIR / 'SVS-2_ArcticPriors.nc')\n",
    "priors.to_dataframe()"
   ]
  },
  {
   "cell_type": "code",
   "execution_count": null,
   "id": "9dcb65ec-882e-4d45-9cef-015fbca787e2",
   "metadata": {},
   "outputs": [],
   "source": [
    "SWE2,sigSWE2=calc_σ_SWE(priors.sel(property='thickness',grain_type='R')['mean'].values,\n",
    "                        priors.sel(property='thickness',grain_type='H')['mean'].values,\n",
    "                        priors.sel(property='thickness',grain_type='R')['std'].values,\n",
    "                        priors.sel(property='thickness',grain_type='H')['std'].values,\n",
    "                        priors.sel(property='density',grain_type='R')['mean'].values,\n",
    "                        priors.sel(property='density',grain_type='H')['mean'].values,\n",
    "                        priors.sel(property='density',grain_type='R')['std'].values,\n",
    "                        priors.sel(property='density',grain_type='H')['std'].values)"
   ]
  },
  {
   "cell_type": "code",
   "execution_count": null,
   "id": "399f0eb8-2575-4195-ad16-883935363437",
   "metadata": {},
   "outputs": [],
   "source": [
    "SWE2"
   ]
  },
  {
   "cell_type": "code",
   "execution_count": null,
   "id": "d111380e-6e10-40e8-8212-4f49a5ae4f58",
   "metadata": {},
   "outputs": [],
   "source": [
    "sigSWE2"
   ]
  },
  {
   "cell_type": "markdown",
   "id": "f57504b4-d71d-48ba-908b-02550e92ad36",
   "metadata": {},
   "source": [
    "### Test when SWE prior is 0.5x smaller than SVS-2 output"
   ]
  },
  {
   "cell_type": "code",
   "execution_count": null,
   "id": "eedd567c-fbbd-4470-afa6-75b7b9cc5fbd",
   "metadata": {},
   "outputs": [],
   "source": [
    "var_names = ['Thickness_R','Thickness_H',\n",
    "             'Density_R','Density_H',\n",
    "             'SSA_R','SSA_H',\n",
    "             'SWE','Sigma']\n",
    "variables = ['thickness','thickness',\n",
    "            'density','density',\n",
    "            'ssa','ssa',\n",
    "            'swe']\n",
    "gtypes=['R','H','R','H','R','H','R','H']\n",
    "xmins=[0,0,100,100,5,5,0,0]\n",
    "xmaxs=[1,1,450,450,50,50,300,2.5]\n",
    "\n",
    "site = 'SM02'\n",
    "\n",
    "idata_site = az.from_netcdf(DATA_DIR / 'MCMC_Output_SM02_4obs_0.5xSWEoffGoodSSATest_cond.nc')\n",
    "idata_site.posterior = idata_site.posterior.assign(SWE=(idata_site.posterior['Density_R']*idata_site.posterior['Thickness_R']+\n",
    "                                                      idata_site.posterior['Density_H']*idata_site.posterior['Thickness_H']))\n",
    "idata_site.prior = idata_site.prior.assign(SWE=(idata_site.prior['Density_R']*idata_site.prior['Thickness_R']+\n",
    "                                                      idata_site.prior['Density_H']*idata_site.prior['Thickness_H']))\n",
    "\n",
    "fig, ax = plt.subplots(8,2,figsize=(10,20))\n",
    "\n",
    "for i in range(len(var_names)):\n",
    "\n",
    "    idata_site.prior[var_names[i]].mean(dim='chain').to_dataframe().plot(ax=ax[i,0],kind='density',color='grey',\n",
    "                                                                         label='Prior',legend=None,alpha=0.7)\n",
    "    idata_site.posterior[var_names[i]].isel(draw=slice(0,5000)).median(dim='chain').to_dataframe().plot(ax=ax[i,0],kind='density',color='k',\n",
    "                                                                             label='Posterior',legend=None)\n",
    "    idata_site.posterior[var_names[i]].isel(draw=slice(0,5000)).median(dim='chain').to_dataframe().plot(ax=ax[i,1],color='k',legend=None)\n",
    "\n",
    "    y1=idata_site.posterior[var_names[i]].isel(draw=slice(0,5000)).min(dim='chain').values\n",
    "    y2=idata_site.posterior[var_names[i]].isel(draw=slice(0,5000)).max(dim='chain').values\n",
    "    ax[i,1].fill_between(range(5000),y1=y2,y2=y1,color='k',alpha=0.5)\n",
    "    \n",
    "    if i<7:\n",
    "\n",
    "        x=np.linspace(xmins[i],xmaxs[i],200)\n",
    "        ax[i,0].plot(x, norm.pdf(x,loc=snowpit_stats.sel(site=site, property=variables[i], grain_type=gtypes[i])['median'].values,\n",
    "                           scale=snowpit_stats.sel(site=site, property=variables[i], grain_type=gtypes[i])['std'].values), \n",
    "                   color='cyan', linewidth=2,alpha=0.7)\n",
    "        \n",
    "    ax[i,0].set_xlabel(var_names[i])\n",
    "    ax[i,0].set_ylabel('')\n",
    "    ax[i,1].set_ylabel(var_names[i])\n",
    "    ax[i,1].set_xlabel('')\n",
    "    ax[i,0].yaxis.set_major_formatter(FormatStrFormatter('%0.2f'))\n",
    "\n",
    "    ax[0,0].set_xlim(0,1)\n",
    "    ax[1,0].set_xlim(0,1)\n",
    "    ax[2,0].set_xlim(100,450)\n",
    "    ax[3,0].set_xlim(100,450)\n",
    "    ax[4,0].set_xlim(5,50)\n",
    "    ax[5,0].set_xlim(5,50)\n",
    "    ax[6,0].set_xlim(0,300)\n",
    "    ax[7,0].set_xlim(0,2.5)\n",
    "    \n",
    "    ax[3,0].set_ylabel('PDF')\n",
    "    ax[7,1].set_xlabel('Iteration')\n",
    "    ax[0,0].legend(['Prior','Posterior','Snowpits'],loc=1);\n",
    "    fig.savefig(FIGURE_DIR / f'TracePlot_{site}_0.5xSWEoffGoodSSATest_cond.png')"
   ]
  },
  {
   "cell_type": "markdown",
   "id": "6cd92147-170f-48ef-833e-fae387e4c533",
   "metadata": {},
   "source": [
    "<center><img src=\"../Figures/TracePlot_SM02_0.5xSWEoffGoodSSATest_cond.png\" Width=\"500px\"></center>\n",
    "\n",
    "<center>Figure: Traceplot of the MCMC optimization when SWE prior is 0.5x smaller than SVS-2 output.</center>"
   ]
  },
  {
   "cell_type": "markdown",
   "id": "0f1da10d-1ab6-466e-9e0f-1a2245697fff",
   "metadata": {},
   "source": [
    "Here we see that the posterior SWE is closer to the surveyed SWE and the depth hoar properties are better estimated. More iterations would most likely be needed to properly optimize the rounded grain layer.  \n",
    "\n",
    "These two figures show the importance of having proper prior estimates to reduce the number of iterations needed to improve computation efficiency."
   ]
  },
  {
   "cell_type": "markdown",
   "id": "39a178d2-96f3-4b82-b34e-6b76d470b111",
   "metadata": {},
   "source": [
    "### Comparing different scenarios"
   ]
  },
  {
   "cell_type": "code",
   "execution_count": null,
   "id": "0bff3456-f041-4cb7-86e7-721301e0f431",
   "metadata": {},
   "outputs": [],
   "source": [
    "var_names = ['Thickness_R','Thickness_H',\n",
    "             'Density_R','Density_H',\n",
    "             'SSA_R','SSA_H',\n",
    "             'SWE','Sigma']\n",
    "variables = ['thickness','thickness',\n",
    "            'density','density',\n",
    "            'ssa','ssa',\n",
    "            'swe']\n",
    "gtypes=['R','H','R','H','R','H','R','H']\n",
    "xmins=[0,0,100,100,5,5,0,0]\n",
    "xmaxs=[1,1,450,450,50,50,300,2.5]\n",
    "\n",
    "site = 'SM02'\n",
    "\n",
    "filepaths = [\n",
    "    DATA_DIR / f'MCMC_Output_{site}_1obs_Default.nc',\n",
    "    MCMC_OUTPUTS / f'MCMC_Output_{site}_4obs_Arctic_WSRMSE_conditions.nc',\n",
    "    list(MCMC_OUTPUTS.glob(f'MCMC_Output_{site}_*_4obs_Arctic.nc'))[0]\n",
    "]\n",
    "\n",
    "fig, ax = plt.subplots(8,3,figsize=(10,20))\n",
    "\n",
    "for j in range(len(filepaths)):\n",
    "\n",
    "    idata_site = az.from_netcdf(filepaths[j])\n",
    "    idata_site.posterior = idata_site.posterior.assign(SWE=(idata_site.posterior['Density_R']*idata_site.posterior['Thickness_R']+\n",
    "                                                          idata_site.posterior['Density_H']*idata_site.posterior['Thickness_H']))\n",
    "    idata_site.prior = idata_site.prior.assign(SWE=(idata_site.prior['Density_R']*idata_site.prior['Thickness_R']+\n",
    "                                                          idata_site.prior['Density_H']*idata_site.prior['Thickness_H']))\n",
    "\n",
    "    for i in range(len(var_names)):\n",
    "    \n",
    "        idata_site.prior[var_names[i]].mean(dim='chain').to_dataframe().plot(ax=ax[i,j],kind='density',color='grey',\n",
    "                                                                             label='Prior',legend=None,alpha=0.7)\n",
    "        idata_site.posterior[var_names[i]].isel(draw=slice(0,5000)).median(dim='chain').to_dataframe().plot(ax=ax[i,j],kind='density',color='k',\n",
    "                                                                                 label='Posterior',legend=None)\n",
    "        \n",
    "        if i<7:\n",
    "    \n",
    "            x=np.linspace(xmins[i],xmaxs[i],200)\n",
    "            ax[i,j].plot(x, norm.pdf(x,loc=snowpit_stats.sel(site=site, property=variables[i], grain_type=gtypes[i])['median'].values,\n",
    "                               scale=snowpit_stats.sel(site=site, property=variables[i], grain_type=gtypes[i])['std'].values), \n",
    "                       color='cyan', linewidth=2,alpha=0.7)\n",
    "\n",
    "        ax[i,j].yaxis.set_major_formatter(FormatStrFormatter('%0.2f'))\n",
    "        ax[i,j].set_ylabel('')\n",
    "\n",
    "    ax[0,j].set_xlim(0,0.6)\n",
    "    ax[1,j].set_xlim(0,0.6)\n",
    "    ax[2,j].set_xlim(100,400)\n",
    "    ax[3,j].set_xlim(100,400)\n",
    "    ax[4,j].set_xlim(5,50)\n",
    "    ax[5,j].set_xlim(5,50)\n",
    "    ax[6,j].set_xlim(0,300)\n",
    "    ax[7,j].set_xlim(0,2.6)\n",
    "    ax[0,j].set_ylim(0,21)\n",
    "    ax[1,j].set_ylim(0,25)\n",
    "    ax[2,j].set_ylim(0,.065)\n",
    "    ax[3,j].set_ylim(0,.04)\n",
    "    ax[4,j].set_ylim(0,.25)\n",
    "    ax[5,j].set_ylim(0,.4)\n",
    "    ax[6,j].set_ylim(0,0.05)\n",
    "    ax[7,j].set_ylim(0,2.5)\n",
    "\n",
    "ax[0,1].set_xlabel('H$_{snow}$ [R] (m)')\n",
    "ax[1,1].set_xlabel('H$_{snow}$ [H] (m)')\n",
    "ax[2,1].set_xlabel('$\\\\rho_{snow}$ [R] (kg$\\\\cdot$m$^{-3}$)')\n",
    "ax[3,1].set_xlabel('$\\\\rho_{snow}$ [H] (kg$\\\\cdot$m$^{-3}$)')\n",
    "ax[4,1].set_xlabel('SSA [R] (m$^{2}\\\\cdot$kg$^{-3}$)')\n",
    "ax[5,1].set_xlabel('SSA [H] (m$^{2}\\\\cdot$kg$^{-3}$)')\n",
    "ax[6,1].set_xlabel('SWE (mm)')\n",
    "ax[7,1].set_xlabel('$\\\\delta$ (dB)')\n",
    "ax[3,0].set_ylabel('PDF')\n",
    "# ax[7,1].set_xlabel('Iteration')\n",
    "ax[0,2].legend(['Prior','Posterior','Snowpits'],loc=1)\n",
    "ax[0,0].text(0.01,17,'a)')\n",
    "ax[0,1].text(0.01,17,'b)')\n",
    "ax[0,2].text(0.01,17,'c)');\n",
    "fig.savefig(FIGURE_DIR / 'f11.png')"
   ]
  },
  {
   "cell_type": "markdown",
   "id": "878159e5-ff8d-4346-b1b6-ac06f3b2bd3e",
   "metadata": {},
   "source": [
    "<center><img src=\"../Figures/f11.png\" Width=\"500px\"></center>\n",
    "\n",
    "<center>Figure 11 of <a href=https://doi.org/10.5194/tc-18-3857-2024>(Montpetit et al., Preprint)</a>: Comparing priors and posteriors for a) the default SVS-2 priors with inter-layer constraints, b) the Arctic SVS-2 priors, with inter-layer constraints and four observations, and c) the Arctic SVS-2 priors, four observations, without the inter-layer constraints.</center>"
   ]
  },
  {
   "cell_type": "code",
   "execution_count": null,
   "id": "c7ce5267-aa7b-4b65-b326-76d8614cc0fe",
   "metadata": {},
   "outputs": [],
   "source": [
    "var_names = ['Thickness_R','Thickness_H',\n",
    "             'Density_R','Density_H',\n",
    "             'SSA_R','SSA_H',\n",
    "             'SWE','Sigma']\n",
    "variables = ['thickness','thickness',\n",
    "            'density','density',\n",
    "            'ssa','ssa',\n",
    "            'swe']\n",
    "gtypes=['R','H','R','H','R','H','R','H']\n",
    "xmins=[0,0,100,100,5,5,0,0]\n",
    "xmaxs=[1,1,450,450,50,50,300,2.5]\n",
    "\n",
    "site = 'SM02'\n",
    "\n",
    "filepaths = [\n",
    "    DATA_DIR / f'MCMC_Output_{site}_1obs_Default.nc',\n",
    "    MCMC_OUTPUTS / f'MCMC_Output_{site}_4obs_Arctic_WSRMSE_conditions.nc',\n",
    "    list(MCMC_OUTPUTS.glob(f'MCMC_Output_{site}_*_4obs_Arctic.nc'))[0]\n",
    "]\n",
    "\n",
    "fig, ax = plt.subplots(8,3,figsize=(10,20))\n",
    "\n",
    "for j in range(len(filepaths)):\n",
    "\n",
    "    idata_site = az.from_netcdf(filepaths[j])\n",
    "    idata_site.posterior = idata_site.posterior.assign(SWE=(idata_site.posterior['Density_R']*idata_site.posterior['Thickness_R']+\n",
    "                                                          idata_site.posterior['Density_H']*idata_site.posterior['Thickness_H']))\n",
    "    idata_site.prior = idata_site.prior.assign(SWE=(idata_site.prior['Density_R']*idata_site.prior['Thickness_R']+\n",
    "                                                          idata_site.prior['Density_H']*idata_site.prior['Thickness_H']))\n",
    "\n",
    "    for i in range(len(var_names)):\n",
    "\n",
    "        idata_site.posterior[var_names[i]].isel(draw=slice(0,5000)).median(dim='chain').to_dataframe().plot(ax=ax[i,j],color='k',legend=None);\n",
    "    \n",
    "        y1=idata_site.posterior[var_names[i]].isel(draw=slice(0,5000)).min(dim='chain').values\n",
    "        y2=idata_site.posterior[var_names[i]].isel(draw=slice(0,5000)).max(dim='chain').values\n",
    "        ax[i,j].fill_between(range(5000),y1=y2,y2=y1,color='k',alpha=0.5)\n",
    "        \n",
    "        if i<7:\n",
    "\n",
    "            ax[i,j].axhline(idata_site.prior[var_names[i]].isel(draw=slice(0,5000)).median().values,\n",
    "                            color='cyan', linestyle='--', linewidth=2,alpha=0.7)\n",
    "            ax[i,j].axhline(snowpit_stats.sel(site=site, property=variables[i], grain_type=gtypes[i])['median'].values,\n",
    "                            color='cyan', linewidth=2,alpha=0.7)\n",
    "\n",
    "        ax[i,j].yaxis.set_major_formatter(FormatStrFormatter('%0.2f'))\n",
    "        ax[i,j].set_ylabel('')\n",
    "        ax[i,j].set_xlabel('')\n",
    "        ax[i,j].set_xlim(0,5001)\n",
    "\n",
    "    ax[0,j].set_ylim(0,0.75)\n",
    "    ax[1,j].set_ylim(0,0.6)\n",
    "    ax[2,j].set_ylim(100,450)\n",
    "    ax[3,j].set_ylim(100,450)\n",
    "    ax[4,j].set_ylim(5,50)\n",
    "    ax[5,j].set_ylim(5,50)\n",
    "    ax[6,j].set_ylim(0,300)\n",
    "    ax[7,j].set_ylim(0,2.)\n",
    "\n",
    "ax[0,0].set_ylabel('H$_{snow}$ [R]\\n(m)')\n",
    "ax[1,0].set_ylabel('H$_{snow}$ [H]\\n(m)')\n",
    "ax[2,0].set_ylabel('$\\\\rho_{snow}$ [R]\\n(kg$\\\\cdot$m$^{-3}$)')\n",
    "ax[3,0].set_ylabel('$\\\\rho_{snow}$ [H]\\n(kg$\\\\cdot$m$^{-3}$)')\n",
    "ax[4,0].set_ylabel('SSA [R]\\n(m$^{2}\\\\cdot$kg$^{-3}$)')\n",
    "ax[5,0].set_ylabel('SSA [H]\\n(m$^{2}\\\\cdot$kg$^{-3}$)')\n",
    "ax[6,0].set_ylabel('SWE\\n(mm)')\n",
    "ax[7,0].set_ylabel('$\\\\delta$\\n(dB)')\n",
    "# ax[3,0].set_xlabel('PDF')\n",
    "ax[7,1].set_xlabel('Iterations')\n",
    "ax[5,0].legend(['Median','Min/Max','Prior','Snowpit\\nMedian'],loc=1)\n",
    "ax[0,0].text(10,.6,'a)')\n",
    "ax[0,1].text(10,.6,'b)')\n",
    "ax[0,2].text(10,.6,'c)');\n",
    "fig.savefig(FIGURE_DIR / 'f12.png')"
   ]
  },
  {
   "cell_type": "markdown",
   "id": "03718f87-62c5-43be-bf75-768caae9d916",
   "metadata": {},
   "source": [
    "<center><img src=\"../Figures/f12.png\" Width=\"500px\"></center>\n",
    "\n",
    "<center>Figure 12 of <a href=https://doi.org/10.5194/tc-18-3857-2024>(Montpetit et al., Preprint)</a>: Comparing the sample evolution for a) the default SVS-2 priors with inter-layer constraints, b) the Arctic SVS-2 priors, with inter-layer constraints and four observations, and c) the Arctic SVS-2 priors, four observations, without the inter-layer constraints.</center>"
   ]
  }
 ],
 "metadata": {
  "kernelspec": {
   "display_name": "Python [conda env:conda-tsmm-swe2]",
   "language": "python",
   "name": "conda-env-conda-tsmm-swe2-py"
  },
  "language_info": {
   "codemirror_mode": {
    "name": "ipython",
    "version": 3
   },
   "file_extension": ".py",
   "mimetype": "text/x-python",
   "name": "python",
   "nbconvert_exporter": "python",
   "pygments_lexer": "ipython3",
   "version": "3.12.4"
  }
 },
 "nbformat": 4,
 "nbformat_minor": 5
}
