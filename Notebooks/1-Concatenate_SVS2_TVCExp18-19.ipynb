{
 "cells": [
  {
   "cell_type": "markdown",
   "id": "847458eb-d9b5-4fc0-bd43-df74f57199fd",
   "metadata": {},
   "source": [
    "# Part 1: Take the full land surface model dataset generated for Trail Valley Creek and create the subsets relevant to this study"
   ]
  },
  {
   "cell_type": "markdown",
   "id": "5ca5559f-b958-4f86-8c3d-7d466941a84f",
   "metadata": {},
   "source": [
    "Benoit Montpetit, CPS/CRD/ECCC, 2025  \n",
    "Nicolas Leroux, RPN-E/MRD/ECCC, 2025  \n",
    "Mike Brady, CPS/CRD/ECCC, 2025"
   ]
  },
  {
   "cell_type": "markdown",
   "id": "c29f4466-00d0-4282-be11-af325db07861",
   "metadata": {},
   "source": [
    "This notebook takes the full time series of multi-layered snowpacks from land surface models (Soil Vegetation Snow version 2 [Woolley et al. (2024)](https://doi.org/10.5194/tc-18-5685-2024); [Vionnet et al. (2022)](https://agupubs.onlinelibrary.wiley.com/doi/10.1029/2021WR031778); [(SVS-2; Vionnet et al. Preprint)](https://doi.org/10.5194/egusphere-2025-3396)) and sub-samples it to the relevant time period of this study. Another subset, selecting only the top 30 ensemble identified by [Woolley et al. (2024)](https://doi.org/10.5194/tc-18-5685-2024), is also created.  \n",
    "  \n",
    "The dataset used directly with these codes can be found here: [TVC SVS-2 (Montpetit et al., Preprint)](ZenodoLink), to avoid duplicating large datasets on Zenodo.  \n",
    "A different version of the same dataset, originally published by [Woolley et al. (2024)](https://doi.org/10.5194/tc-18-5685-2024) can be found here: [TVC SVS-2 (Woolley et al., Preprint)](link)"
   ]
  },
  {
   "cell_type": "code",
   "execution_count": null,
   "id": "b32524d5-4503-4ada-a3e9-d3d83578a96c",
   "metadata": {},
   "outputs": [],
   "source": [
    "from pathlib import Path\n",
    "import xarray as xr\n",
    "import pandas as pd"
   ]
  },
  {
   "cell_type": "code",
   "execution_count": null,
   "id": "6ac0722a",
   "metadata": {},
   "outputs": [],
   "source": [
    "def load_data_subset_time(svs2_netcdf):\n",
    "    \"\"\"helper function to load only a specific time range for a given SVS-2 netcdf\"\"\"\n",
    "    ds = xr.open_dataset(svs2_netcdf)\n",
    "    return ds.sel(time=slice('2018-12-01', '2019-01-31'))"
   ]
  },
  {
   "cell_type": "code",
   "execution_count": null,
   "id": "cc3e786c",
   "metadata": {},
   "outputs": [],
   "source": [
    "def load_ensemble_data(svs2_netcdf_files, model_option_list):\n",
    "    \"\"\"helper function to load a specific ensemble netcdf\"\"\"\n",
    "    svs_nc_match = [\n",
    "        s for s in svs2_netcdf_files \n",
    "        if all(xs in s.parent.name for xs in model_option_list)\n",
    "    ][0]\n",
    "    return load_data_subset_time(svs_nc_match)"
   ]
  },
  {
   "cell_type": "code",
   "execution_count": null,
   "id": "5d0affdb",
   "metadata": {},
   "outputs": [],
   "source": [
    "DATA_ROOT = Path('../Data')"
   ]
  },
  {
   "cell_type": "markdown",
   "id": "508e1fc1",
   "metadata": {},
   "source": [
    "Arctic SVS-2 Data from Zenodo: https://doi.org/10.5281/zenodo.15690838"
   ]
  },
  {
   "cell_type": "code",
   "execution_count": null,
   "id": "71a2e9ce-06f5-40c4-ac34-7446ce5d49dd",
   "metadata": {},
   "outputs": [],
   "source": [
    "filepaths = sorted((DATA_ROOT / 'SVS-2' / 'Arctic').rglob('*.nc'))\n",
    "assert len(filepaths) > 0"
   ]
  },
  {
   "cell_type": "code",
   "execution_count": null,
   "id": "7b126ac2-b1a8-4bbc-bf9d-74cf808f023b",
   "metadata": {},
   "outputs": [],
   "source": [
    "# load all arctic temporal subsets and write to netcdf\n",
    "arctic = xr.concat(\n",
    "    [\n",
    "        load_data_subset_time(filepath)\n",
    "        for filepath in filepaths\n",
    "    ],\n",
    "    dim='ensemble'\n",
    ")\n",
    "arctic.to_netcdf(DATA_ROOT / 'SVS-2_ArcticEnsembles_TVC02.nc')"
   ]
  },
  {
   "cell_type": "markdown",
   "id": "1fb73aad-8b98-458f-91c7-23d9786e7459",
   "metadata": {},
   "source": [
    "### The excel spreadsheet below corresponds to Appendix D: Table D2 of [Woolley et al., 2024](https://doi.org/10.5194/tc-18-5685-2024)"
   ]
  },
  {
   "cell_type": "code",
   "execution_count": null,
   "id": "77b5ec4f",
   "metadata": {},
   "outputs": [],
   "source": [
    "# derived from Wooley et al. (2024)  Appendix D: Table D2\n",
    "arctic_ensembles = pd.DataFrame(\n",
    "    data={\n",
    "        'Ensemble': range(1, 31),\n",
    "        'SD': [\n",
    "            'R21W', 'R21W', 'R21W', 'R21W', 'R21W', 'R21W', 'R21W', 'R21W', 'R21W', 'R21W', 'R21W', 'R21W', 'R21W', 'R21W', 'R21W',\n",
    "            'R21W', 'R21W', 'R21W', 'R21R', 'R21W', 'R21R', 'R21W', 'R21W', 'R21W', 'R21R', 'R21W', 'R21R', 'R21R', 'R21W', 'R21W'\n",
    "        ],\n",
    "        'FS': [\n",
    "            'R21', 'R21', 'GW1', 'R21', 'R21', 'R21', 'R21', 'R21', 'GW1', 'R21', 'GW1', 'GW2', 'GW1', 'GW1', 'GW2', \n",
    "            'GW1', 'R21', 'GW1', 'R21', 'GW1', 'R21', 'R21', 'R21', 'R21', 'R21', 'R21', 'R21', 'GW1', 'GW2', 'GW1'\n",
    "        ],\n",
    "        'TC': [\n",
    "            'C11', 'C11', 'C11', 'C11', 'F21', 'F21', 'F21', 'S97', 'C11', 'C11', 'C11', 'S97', 'F21', 'C11', 'S97',\n",
    "            'S97', 'C11', 'C11', 'F21', 'S97', 'F21', 'F21', 'S97', 'S97', 'S97', 'F21', 'C11', 'C11', 'F21', 'F21'\n",
    "        ],\n",
    "        'LWC': [\n",
    "            'B02', 'O04', 'O04', 'B02', 'O04', 'B92', 'SPK', 'O04', 'O04', 'B92', 'B02', 'SPK', 'O04', 'SPK', 'O04',\n",
    "            'B02', 'B92', 'B02', 'B02', 'B02', 'O04', 'SPK', 'B02', 'SPK', 'SPK', 'O04', 'B92', 'O04', 'SPK', 'B92'\n",
    "        ],\n",
    "        'C': [\n",
    "            'R2V', 'R2V', 'R21', 'R21', 'R21', 'R21', 'R21', 'R21', 'R2V', 'R2V', 'R21', 'R21', 'R21', 'R2V', 'R21',\n",
    "            'R2V', 'R2D', 'R21', 'R2V', 'R2V', 'R2V', 'R2D', 'R2D', 'R2D', 'R2V', 'R2D', 'R2V', 'R21', 'R21', 'R2V'\n",
    "        ],\n",
    "        'TF': [\n",
    "            'M98', 'RIL', 'RIL', 'M98', 'DEF', 'DEF', 'DEF', 'RIL', 'M98', 'DEF', 'RIL', 'M98', 'RIL', 'RIL', 'DEF',\n",
    "            'M98', 'M98', 'M98', 'DEF', 'RIL', 'RIL', 'M98', 'RIL', 'DEF', 'RIL', 'DEF', 'DEF', 'DEF', 'RIL', 'DEF'\n",
    "        ],\n",
    "        'CRPS': [\n",
    "            74.04, 74.28, 74.53, 74.53, 74.88, 75.16, 75.48, 75.49, 75.69, 75.7, 75.84, 76.6, 76.69, 76.71, 76.84,\n",
    "            77.06, 77.11, 77.28, 77.34, 77.36, 77.55, 77.63, 77.79, 77.84, 77.9, 77.92, 77.95, 77.99, 78.02, 78.08\n",
    "        ]\n",
    "    }\n",
    ")"
   ]
  },
  {
   "cell_type": "code",
   "execution_count": null,
   "id": "272da6b5-36b6-4e05-a98d-1b35bd6d8a0f",
   "metadata": {},
   "outputs": [],
   "source": [
    "# load top30 arctic temporal subsets and write to netcdf\n",
    "arctic_top = xr.concat(\n",
    "    [\n",
    "        load_ensemble_data(filepaths, model_options)\n",
    "        for _, model_options in arctic_ensembles[['SD','FS','TC','LWC','C','TF']].iterrows()\n",
    "    ], \n",
    "    dim='ensemble'\n",
    ")\n",
    "arctic_top.to_netcdf(DATA_ROOT / 'SVS-2_ArcticTop30Ensembles_TVC02.nc')"
   ]
  },
  {
   "cell_type": "markdown",
   "id": "c75960b4",
   "metadata": {},
   "source": [
    "Default SVS-2 Data from Zenodo: https://doi.org/10.5281/zenodo.15690838"
   ]
  },
  {
   "cell_type": "code",
   "execution_count": null,
   "id": "435d1dac-d8f3-4221-b1f8-9492b97bb4ca",
   "metadata": {},
   "outputs": [],
   "source": [
    "# the Default NetCDFs have a slightly different subdirectory structure than the Arctic NetCDFs so we \n",
    "# check for file vs directory when globbing\n",
    "filepaths = sorted([\n",
    "    nc for nc in (DATA_ROOT / 'SVS-2' / 'Default').rglob('*.nc')\n",
    "    if nc.is_file()\n",
    "])\n",
    "assert len(filepaths) > 0"
   ]
  },
  {
   "cell_type": "code",
   "execution_count": null,
   "id": "b7da8e75-b486-4888-8c54-4054b3233dbd",
   "metadata": {},
   "outputs": [],
   "source": [
    "# load all default temporal subsets and write to netcdf\n",
    "default = xr.concat(\n",
    "    [\n",
    "        load_data_subset_time(filepath)\n",
    "        for filepath in filepaths\n",
    "    ],\n",
    "    dim='ensemble'\n",
    ")\n",
    "default.to_netcdf(DATA_ROOT / 'SVS-2_DefaultEnsembles_TVC02.nc')"
   ]
  },
  {
   "cell_type": "markdown",
   "id": "9ca523f5",
   "metadata": {},
   "source": [
    "### The excel spreadsheet below corresponds to Appendix D: Table D1 of [Woolley et al., 2024](https://doi.org/10.5194/tc-18-5685-2024)"
   ]
  },
  {
   "cell_type": "code",
   "execution_count": null,
   "id": "884fcde1",
   "metadata": {},
   "outputs": [],
   "source": [
    "# derived from Wooley et al. (2024) Appendix D: Table D1\n",
    "default_ensembles = pd.DataFrame(\n",
    "    data={\n",
    "        'Ensemble': range(1, 31),\n",
    "        'SD': [\n",
    "            'DFLT', 'DFLT', 'DFLT', 'DFLT', 'GA01', 'GA01', 'GA01', 'GA01', 'VI13', 'DFLT', 'DFLT', 'GA01', 'DFLT', 'DFLT', 'GA01', \n",
    "            'VI13', 'DFLT', 'DFLT', 'DFLT', 'DFLT', 'DFLT', 'DFLT', 'VI13', 'DFLT', 'DFLT', 'DFLT', 'DFLT', 'GA01', 'VI13', 'DFLT'\n",
    "        ],\n",
    "        'FS': [\n",
    "            'S02', 'S02', 'S02', 'S02', 'S02', 'S02', 'S02', 'S02', 'S02', 'S02', 'V12', 'S02', 'V12', 'V12', 'S02',\n",
    "            'S02', 'V12', 'V12', 'V12', 'P75', 'V12', 'A76', 'V12', 'A76', 'P75', 'A76', 'A76', 'V12', 'V12', 'A76'\n",
    "        ],\n",
    "        'TC': [\n",
    "            'I02', 'I02', 'Y81', 'Y81', 'I02', 'Y81', 'I02', 'Y81', 'I02', 'C11', 'I02', 'C11', 'Y81', 'C11', 'Y81',\n",
    "            'C11', 'Y81', 'Y81', 'I02', 'I02', 'C11', 'Y81', 'I02', 'Y81', 'Y81', 'Y81', 'Y81', 'Y81', 'C11', 'Y81'\n",
    "        ],\n",
    "        'LWC': [\n",
    "            'B92', 'B92', 'B02', 'SPK', 'B02', 'SPK', 'B92', 'O04', 'O04', 'B02', 'B02', 'B02', 'O04', 'B02', 'B02',\n",
    "            'O04', 'SPK', 'O04', 'O04', 'B02', 'SPK', 'O04', 'SPK', 'B02', 'SPK', 'SPK', 'SPK', 'O04', 'SPK', 'B92'\n",
    "        ],\n",
    "        'C': [\n",
    "            'S14', 'S14', 'S14', 'B92', 'S14', 'S14', 'S14', 'S14', 'S14', 'B92', 'S14', 'S14', 'S14', 'S14', 'S14',\n",
    "            'B92', 'B92', 'B92', 'B92', 'S14', 'B92', 'S14', 'B92', 'S14', 'S14', 'B92', 'B92', 'S14', 'B92', 'B92'\n",
    "        ],\n",
    "        'TF': [\n",
    "            'M98', 'RIL', 'M98', 'RIL', 'RIL', 'RIL', 'RIL', 'DEF', 'RIL', 'DEF', 'DEF', 'DEF', 'M98', 'M98', 'RIL',\n",
    "            'M98', 'RIL', 'RIL', 'RIL', 'M98', 'RIL', 'DEF', 'M98', 'DEF', 'RIL', 'DEF', 'RIL', 'RIL', 'M98', 'DEF'\n",
    "        ],\n",
    "        'CRPS': [\n",
    "            89.50, 89.89, 89.92, 91.18, 91.33, 91.38, 91.61, 91.67, 91.88, 91.93, 92.37, 93.21, 93.49, 93.52, 93.64,\n",
    "            93.67, 94.22, 94.57, 94.60, 94.62, 94.73, 94.83, 95.06, 95.27, 95.31, 95.47, 95.47, 95.48, 95.55, 95.73\n",
    "        ]\n",
    "    }\n",
    ")"
   ]
  },
  {
   "cell_type": "code",
   "execution_count": null,
   "id": "1b6c3c43-62f9-4ea0-9cf4-9aea2e60c51c",
   "metadata": {},
   "outputs": [],
   "source": [
    "# load top30 default temporal subsets and write to netcdf\n",
    "default_top = xr.concat(\n",
    "    [\n",
    "        load_ensemble_data(filepaths, model_options)\n",
    "        for _, model_options in default_ensembles[['SD','FS','TC','LWC','C','TF']].iterrows()\n",
    "    ], \n",
    "    dim='ensemble'\n",
    ")\n",
    "default_top.to_netcdf(DATA_ROOT / 'SVS-2_DefaultTop30Ensembles_TVC02.nc')"
   ]
  }
 ],
 "metadata": {
  "kernelspec": {
   "display_name": "tvc1819",
   "language": "python",
   "name": "python3"
  },
  "language_info": {
   "codemirror_mode": {
    "name": "ipython",
    "version": 3
   },
   "file_extension": ".py",
   "mimetype": "text/x-python",
   "name": "python",
   "nbconvert_exporter": "python",
   "pygments_lexer": "ipython3",
   "version": "3.12.10"
  }
 },
 "nbformat": 4,
 "nbformat_minor": 5
}
