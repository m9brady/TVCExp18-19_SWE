{
 "cells": [
  {
   "cell_type": "markdown",
   "id": "847458eb-d9b5-4fc0-bd43-df74f57199fd",
   "metadata": {},
   "source": [
    "# Part 1: Take the full land surface model dataset generated for Trail Valley Creek and create the subsets relevant to this study"
   ]
  },
  {
   "cell_type": "markdown",
   "id": "5ca5559f-b958-4f86-8c3d-7d466941a84f",
   "metadata": {},
   "source": [
    "Benoit Montpetit, CPS/CRD/ECCC, 2025  \n",
    "Nicolas Leroux, RPN-E/MRD/ECCC, 2025  \n",
    "Mike Brady, CPS/CRD/ECCC, 2025"
   ]
  },
  {
   "cell_type": "markdown",
   "id": "c29f4466-00d0-4282-be11-af325db07861",
   "metadata": {},
   "source": [
    "This notebook takes the full time series of multi-layered snowpacks from land surface models (Soil Vegetation Snow version 2 [Woolley et al. (2024)](https://doi.org/10.5194/tc-18-5685-2024); [Vionnet et al. (2022)](https://agupubs.onlinelibrary.wiley.com/doi/10.1029/2021WR031778); [(SVS-2; Vionnet et al. Preprint)](https://doi.org/10.5194/egusphere-2025-3396)) and sub-samples it to the relevant time period of this study. Another subset, selecting only the top 30 ensemble identified by [Woolley et al. (2024)](https://doi.org/10.5194/tc-18-5685-2024), is also created.  \n",
    "  \n",
    "The dataset used directly with these codes can be found here: [TVC SVS-2 (Montpetit et al., Preprint)](ZenodoLink), to avoid duplicating large datasets on Zenodo.  \n",
    "A different version of the same dataset, originally published by [Woolley et al. (2024)](https://doi.org/10.5194/tc-18-5685-2024) can be found here: [TVC SVS-2 (Woolley et al., Preprint)](link)"
   ]
  },
  {
   "cell_type": "code",
   "execution_count": null,
   "id": "b32524d5-4503-4ada-a3e9-d3d83578a96c",
   "metadata": {},
   "outputs": [],
   "source": [
    "from pathlib import Path\n",
    "import xarray as xr\n",
    "import pandas as pd"
   ]
  },
  {
   "cell_type": "code",
   "execution_count": null,
   "id": "6ac0722a",
   "metadata": {},
   "outputs": [],
   "source": [
    "def load_data_subset_time(svs2_netcdf):\n",
    "    \"\"\"helper function to load only a specific time range for a given SVS-2 netcdf\"\"\"\n",
    "    ds = xr.open_dataset(svs2_netcdf)\n",
    "    return ds.sel(time=slice('2018-12-01', '2019-01-31'))"
   ]
  },
  {
   "cell_type": "code",
   "execution_count": 2,
   "id": "5d0affdb",
   "metadata": {},
   "outputs": [],
   "source": [
    "DATA_ROOT = Path('../Data')"
   ]
  },
  {
   "cell_type": "markdown",
   "id": "508e1fc1",
   "metadata": {},
   "source": [
    "Arctic SVS-2 Data from Zenodo: https://doi.org/10.5281/zenodo.15690838"
   ]
  },
  {
   "cell_type": "code",
   "execution_count": null,
   "id": "71a2e9ce-06f5-40c4-ac34-7446ce5d49dd",
   "metadata": {},
   "outputs": [],
   "source": [
    "filepaths = sorted((DATA_ROOT / 'SVS-2' / 'Arctic').rglob('*.nc'))\n",
    "assert len(filepaths) > 0"
   ]
  },
  {
   "cell_type": "code",
   "execution_count": null,
   "id": "7b126ac2-b1a8-4bbc-bf9d-74cf808f023b",
   "metadata": {},
   "outputs": [],
   "source": [
    "# load all arctic temporal subsets and write to netcdf\n",
    "arctic = xr.concat(\n",
    "    [\n",
    "        load_data_subset_time(filepath)\n",
    "        for filepath in filepaths\n",
    "    ],\n",
    "    dim='ensemble'\n",
    ")\n",
    "arctic.to_netcdf(DATA_ROOT / 'SVS-2_ArcticEnsembles_TVC02.nc')"
   ]
  },
  {
   "cell_type": "markdown",
   "id": "1fb73aad-8b98-458f-91c7-23d9786e7459",
   "metadata": {},
   "source": [
    "### The excel spreadsheet below corresponds to Table 2D of [Woolley et al., 2024](https://doi.org/10.5194/tc-18-5685-2024)"
   ]
  },
  {
   "cell_type": "code",
   "execution_count": null,
   "id": "af92677e-ca80-4658-8ba7-98de2939cd65",
   "metadata": {},
   "outputs": [],
   "source": [
    "ensembles = pd.read_excel(DATA_ROOT / 'Top30Ensembles_Arctic.xlsx')"
   ]
  },
  {
   "cell_type": "code",
   "execution_count": null,
   "id": "272da6b5-36b6-4e05-a98d-1b35bd6d8a0f",
   "metadata": {},
   "outputs": [],
   "source": [
    "arctic_top = xr.Dataset()\n",
    "for i in range(len(ensembles)):\n",
    "    model_options = list(ensembles.loc[i,['SD','FS','TC','LWC','C','TF']].values)\n",
    "    filepath = [s for s in filepaths if all(xs in s for xs in model_options)][0]\n",
    "    svs = load_data_subset_time(filepath)\n",
    "    arctic_top=xr.concat([arctic_top, svs], dim='ensemble')\n",
    "arctic_top.to_netcdf(DATA_ROOT / 'SVS-2_ArcticTop30Ensembles_TVC02.nc')"
   ]
  },
  {
   "cell_type": "markdown",
   "id": "c75960b4",
   "metadata": {},
   "source": [
    "Default SVS-2 Data from Zenodo: https://doi.org/10.5281/zenodo.15690838"
   ]
  },
  {
   "cell_type": "code",
   "execution_count": null,
   "id": "435d1dac-d8f3-4221-b1f8-9492b97bb4ca",
   "metadata": {},
   "outputs": [],
   "source": [
    "# the Default NetCDFs have a slightly different subdirectory structure than the Arctic NetCDFs so we \n",
    "# check for file vs directory when globbing\n",
    "filepaths = sorted([\n",
    "    nc for nc in (DATA_ROOT / 'SVS-2' / 'Default').rglob('*.nc')\n",
    "    if nc.is_file()\n",
    "])\n",
    "assert len(filepaths) > 0"
   ]
  },
  {
   "cell_type": "code",
   "execution_count": null,
   "id": "b7da8e75-b486-4888-8c54-4054b3233dbd",
   "metadata": {},
   "outputs": [],
   "source": [
    "# load all default temporal subsets and write to netcdf\n",
    "default = xr.concat(\n",
    "    [\n",
    "        load_data_subset_time(filepath)\n",
    "        for filepath in filepaths\n",
    "    ],\n",
    "    dim='ensemble'\n",
    ")\n",
    "default.to_netcdf(DATA_ROOT / 'SVS-2_DefaultEnsembles_TVC02.nc')"
   ]
  },
  {
   "cell_type": "markdown",
   "id": "82b2f37b-19b8-4fbc-9396-69533cd595a3",
   "metadata": {},
   "source": [
    "### The excel spreadsheet below corresponds to Table 1D of [Woolley et al., 2024](https://doi.org/10.5194/tc-18-5685-2024)"
   ]
  },
  {
   "cell_type": "code",
   "execution_count": null,
   "id": "abe577cf-af4b-45e7-8b42-cf802fb2e170",
   "metadata": {},
   "outputs": [],
   "source": [
    "ensembles = pd.read_excel(DATA_ROOT / 'Top30Ensembles_Default.xlsx')"
   ]
  },
  {
   "cell_type": "code",
   "execution_count": null,
   "id": "1b6c3c43-62f9-4ea0-9cf4-9aea2e60c51c",
   "metadata": {},
   "outputs": [],
   "source": [
    "default_top=xr.Dataset()\n",
    "for i in range(len(ensembles)):\n",
    "    model_options = list(ensembles.loc[i,['SD','FS','TC','LWC','C','TF']].values)\n",
    "    filepath = [s for s in filepaths if all(xs in s for xs in model_options)][0]\n",
    "    svs = load_data_subset_time(filepath)\n",
    "    default_top=xr.concat([default_top, svs], dim='ensemble')\n",
    "default_top.to_netcdf(DATA_ROOT / 'SVS-2_DefaultTop30Ensembles_TVC02.nc')"
   ]
  }
 ],
 "metadata": {
  "kernelspec": {
   "display_name": "tvc1819",
   "language": "python",
   "name": "python3"
  },
  "language_info": {
   "codemirror_mode": {
    "name": "ipython",
    "version": 3
   },
   "file_extension": ".py",
   "mimetype": "text/x-python",
   "name": "python",
   "nbconvert_exporter": "python",
   "pygments_lexer": "ipython3",
   "version": "3.12.10"
  }
 },
 "nbformat": 4,
 "nbformat_minor": 5
}
